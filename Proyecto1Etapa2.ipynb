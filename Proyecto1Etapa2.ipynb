{
  "cells": [
    {
      "cell_type": "markdown",
      "metadata": {
        "id": "nyWYkAHJ9-Mi"
      },
      "source": [
        "# Entendimiento de datos"
      ]
    },
    {
      "cell_type": "markdown",
      "metadata": {
        "id": "xnk-lLsy-BZA"
      },
      "source": [
        "No hay diccionario de los datos.\n",
        "<br>La columna textos son opiniones que representan la voz de los habitantes locales para identificar las problemáticas de su entorno en términos de los ODS 1, 3 y 4, relacionados con “Fin de la pobreza”, “Salud y bienestar” y “Educación de calidad”. Se asume que estan en formato string ya que son textos\n",
        "<br>Por otro lado, la comuna labels, es el numero de ODS mas relevante que se habla en la opinion (1,3,4). Aunque no se dice explícitamente se puede asumir que en caso de que el texto no haga ningún comentario referente a los ODS, tendría un valor de 0 en label, ya que no esta en términos de ninguno de los objetivos de desarollo. Se asume que estan en formato int, ya que es solo un número."
      ]
    },
    {
      "cell_type": "markdown",
      "metadata": {
        "id": "_-OaDp9mBtB8"
      },
      "source": [
        "# Análisis y calidad de datos"
      ]
    },
    {
      "cell_type": "code",
      "execution_count": null,
      "metadata": {
        "id": "HahQ85PwEQRw"
      },
      "outputs": [],
      "source": [
        "# Librerias generales\n",
        "# Pandas\n",
        "import pandas as pd\n",
        "pd.set_option('display.max_columns', 25) # Número máximo de columnas a mostrar\n",
        "pd.set_option('display.max_rows', 50) # Número máximo de filas a mostar\n",
        "# Ranom seed\n",
        "import numpy as np\n",
        "np.random.seed(3301)\n",
        "import re\n",
        "import nltk\n",
        "\n",
        "# Seaborn\n",
        "import seaborn as sns\n",
        "from collections import defaultdict\n",
        "\n",
        "# Matplolib\n",
        "%matplotlib inline\n",
        "import matplotlib.pyplot as plt\n",
        "\n",
        "#sklearn\n",
        "from sklearn.preprocessing import OneHotEncoder"
      ]
    },
    {
      "cell_type": "code",
      "execution_count": null,
      "metadata": {
        "colab": {
          "base_uri": "https://localhost:8080/"
        },
        "id": "1W6O6mDnCLn0",
        "outputId": "fcfed179-b6ea-4298-92ff-f7b6a925e759"
      },
      "outputs": [
        {
          "output_type": "stream",
          "name": "stdout",
          "text": [
            "Drive already mounted at /content/drive; to attempt to forcibly remount, call drive.mount(\"/content/drive\", force_remount=True).\n"
          ]
        },
        {
          "output_type": "execute_result",
          "data": {
            "text/plain": [
              "(2424, 2)"
            ]
          },
          "metadata": {},
          "execution_count": 54
        }
      ],
      "source": [
        "from google.colab import drive\n",
        "drive.mount('/content/drive')\n",
        "db_location = '/content/drive/MyDrive/Datos_proyecto.xlsx'\n",
        "# Cargar los datos\n",
        "df_texto=pd.read_excel(db_location, sheet_name='Sheet1')\n",
        "# Dimensiones de los datos\n",
        "df_texto.shape"
      ]
    },
    {
      "cell_type": "code",
      "execution_count": null,
      "metadata": {
        "colab": {
          "base_uri": "https://localhost:8080/",
          "height": 206
        },
        "id": "Gy5xvC7CF-Rs",
        "outputId": "32e4960c-0cd7-40db-84f3-9f264571071e"
      },
      "outputs": [
        {
          "output_type": "display_data",
          "data": {
            "text/plain": [
              "                                                 textos  labels\n",
              "2372  Durante este período, el gasto público en educ...       4\n",
              "1433  Recientemente, se modificó la regulación de la...       3\n",
              "669   El científico francés del siglo XIX, Claude Be...       4\n",
              "2408  Por ejemplo, el seguro de salud obligatorio co...       3\n",
              "2238  Deben aplicarse políticas de educación y forma...       4"
            ],
            "text/html": [
              "\n",
              "  <div id=\"df-702c01c9-3980-4cc4-be64-f3087aa454e4\" class=\"colab-df-container\">\n",
              "    <div>\n",
              "<style scoped>\n",
              "    .dataframe tbody tr th:only-of-type {\n",
              "        vertical-align: middle;\n",
              "    }\n",
              "\n",
              "    .dataframe tbody tr th {\n",
              "        vertical-align: top;\n",
              "    }\n",
              "\n",
              "    .dataframe thead th {\n",
              "        text-align: right;\n",
              "    }\n",
              "</style>\n",
              "<table border=\"1\" class=\"dataframe\">\n",
              "  <thead>\n",
              "    <tr style=\"text-align: right;\">\n",
              "      <th></th>\n",
              "      <th>textos</th>\n",
              "      <th>labels</th>\n",
              "    </tr>\n",
              "  </thead>\n",
              "  <tbody>\n",
              "    <tr>\n",
              "      <th>2372</th>\n",
              "      <td>Durante este período, el gasto público en educ...</td>\n",
              "      <td>4</td>\n",
              "    </tr>\n",
              "    <tr>\n",
              "      <th>1433</th>\n",
              "      <td>Recientemente, se modificó la regulación de la...</td>\n",
              "      <td>3</td>\n",
              "    </tr>\n",
              "    <tr>\n",
              "      <th>669</th>\n",
              "      <td>El científico francés del siglo XIX, Claude Be...</td>\n",
              "      <td>4</td>\n",
              "    </tr>\n",
              "    <tr>\n",
              "      <th>2408</th>\n",
              "      <td>Por ejemplo, el seguro de salud obligatorio co...</td>\n",
              "      <td>3</td>\n",
              "    </tr>\n",
              "    <tr>\n",
              "      <th>2238</th>\n",
              "      <td>Deben aplicarse políticas de educación y forma...</td>\n",
              "      <td>4</td>\n",
              "    </tr>\n",
              "  </tbody>\n",
              "</table>\n",
              "</div>\n",
              "    <div class=\"colab-df-buttons\">\n",
              "\n",
              "  <div class=\"colab-df-container\">\n",
              "    <button class=\"colab-df-convert\" onclick=\"convertToInteractive('df-702c01c9-3980-4cc4-be64-f3087aa454e4')\"\n",
              "            title=\"Convert this dataframe to an interactive table.\"\n",
              "            style=\"display:none;\">\n",
              "\n",
              "  <svg xmlns=\"http://www.w3.org/2000/svg\" height=\"24px\" viewBox=\"0 -960 960 960\">\n",
              "    <path d=\"M120-120v-720h720v720H120Zm60-500h600v-160H180v160Zm220 220h160v-160H400v160Zm0 220h160v-160H400v160ZM180-400h160v-160H180v160Zm440 0h160v-160H620v160ZM180-180h160v-160H180v160Zm440 0h160v-160H620v160Z\"/>\n",
              "  </svg>\n",
              "    </button>\n",
              "\n",
              "  <style>\n",
              "    .colab-df-container {\n",
              "      display:flex;\n",
              "      gap: 12px;\n",
              "    }\n",
              "\n",
              "    .colab-df-convert {\n",
              "      background-color: #E8F0FE;\n",
              "      border: none;\n",
              "      border-radius: 50%;\n",
              "      cursor: pointer;\n",
              "      display: none;\n",
              "      fill: #1967D2;\n",
              "      height: 32px;\n",
              "      padding: 0 0 0 0;\n",
              "      width: 32px;\n",
              "    }\n",
              "\n",
              "    .colab-df-convert:hover {\n",
              "      background-color: #E2EBFA;\n",
              "      box-shadow: 0px 1px 2px rgba(60, 64, 67, 0.3), 0px 1px 3px 1px rgba(60, 64, 67, 0.15);\n",
              "      fill: #174EA6;\n",
              "    }\n",
              "\n",
              "    .colab-df-buttons div {\n",
              "      margin-bottom: 4px;\n",
              "    }\n",
              "\n",
              "    [theme=dark] .colab-df-convert {\n",
              "      background-color: #3B4455;\n",
              "      fill: #D2E3FC;\n",
              "    }\n",
              "\n",
              "    [theme=dark] .colab-df-convert:hover {\n",
              "      background-color: #434B5C;\n",
              "      box-shadow: 0px 1px 3px 1px rgba(0, 0, 0, 0.15);\n",
              "      filter: drop-shadow(0px 1px 2px rgba(0, 0, 0, 0.3));\n",
              "      fill: #FFFFFF;\n",
              "    }\n",
              "  </style>\n",
              "\n",
              "    <script>\n",
              "      const buttonEl =\n",
              "        document.querySelector('#df-702c01c9-3980-4cc4-be64-f3087aa454e4 button.colab-df-convert');\n",
              "      buttonEl.style.display =\n",
              "        google.colab.kernel.accessAllowed ? 'block' : 'none';\n",
              "\n",
              "      async function convertToInteractive(key) {\n",
              "        const element = document.querySelector('#df-702c01c9-3980-4cc4-be64-f3087aa454e4');\n",
              "        const dataTable =\n",
              "          await google.colab.kernel.invokeFunction('convertToInteractive',\n",
              "                                                    [key], {});\n",
              "        if (!dataTable) return;\n",
              "\n",
              "        const docLinkHtml = 'Like what you see? Visit the ' +\n",
              "          '<a target=\"_blank\" href=https://colab.research.google.com/notebooks/data_table.ipynb>data table notebook</a>'\n",
              "          + ' to learn more about interactive tables.';\n",
              "        element.innerHTML = '';\n",
              "        dataTable['output_type'] = 'display_data';\n",
              "        await google.colab.output.renderOutput(dataTable, element);\n",
              "        const docLink = document.createElement('div');\n",
              "        docLink.innerHTML = docLinkHtml;\n",
              "        element.appendChild(docLink);\n",
              "      }\n",
              "    </script>\n",
              "  </div>\n",
              "\n",
              "\n",
              "    <div id=\"df-9a8f2cfc-9fa0-4e89-88cb-d922f62d54ce\">\n",
              "      <button class=\"colab-df-quickchart\" onclick=\"quickchart('df-9a8f2cfc-9fa0-4e89-88cb-d922f62d54ce')\"\n",
              "                title=\"Suggest charts\"\n",
              "                style=\"display:none;\">\n",
              "\n",
              "<svg xmlns=\"http://www.w3.org/2000/svg\" height=\"24px\"viewBox=\"0 0 24 24\"\n",
              "     width=\"24px\">\n",
              "    <g>\n",
              "        <path d=\"M19 3H5c-1.1 0-2 .9-2 2v14c0 1.1.9 2 2 2h14c1.1 0 2-.9 2-2V5c0-1.1-.9-2-2-2zM9 17H7v-7h2v7zm4 0h-2V7h2v10zm4 0h-2v-4h2v4z\"/>\n",
              "    </g>\n",
              "</svg>\n",
              "      </button>\n",
              "\n",
              "<style>\n",
              "  .colab-df-quickchart {\n",
              "      --bg-color: #E8F0FE;\n",
              "      --fill-color: #1967D2;\n",
              "      --hover-bg-color: #E2EBFA;\n",
              "      --hover-fill-color: #174EA6;\n",
              "      --disabled-fill-color: #AAA;\n",
              "      --disabled-bg-color: #DDD;\n",
              "  }\n",
              "\n",
              "  [theme=dark] .colab-df-quickchart {\n",
              "      --bg-color: #3B4455;\n",
              "      --fill-color: #D2E3FC;\n",
              "      --hover-bg-color: #434B5C;\n",
              "      --hover-fill-color: #FFFFFF;\n",
              "      --disabled-bg-color: #3B4455;\n",
              "      --disabled-fill-color: #666;\n",
              "  }\n",
              "\n",
              "  .colab-df-quickchart {\n",
              "    background-color: var(--bg-color);\n",
              "    border: none;\n",
              "    border-radius: 50%;\n",
              "    cursor: pointer;\n",
              "    display: none;\n",
              "    fill: var(--fill-color);\n",
              "    height: 32px;\n",
              "    padding: 0;\n",
              "    width: 32px;\n",
              "  }\n",
              "\n",
              "  .colab-df-quickchart:hover {\n",
              "    background-color: var(--hover-bg-color);\n",
              "    box-shadow: 0 1px 2px rgba(60, 64, 67, 0.3), 0 1px 3px 1px rgba(60, 64, 67, 0.15);\n",
              "    fill: var(--button-hover-fill-color);\n",
              "  }\n",
              "\n",
              "  .colab-df-quickchart-complete:disabled,\n",
              "  .colab-df-quickchart-complete:disabled:hover {\n",
              "    background-color: var(--disabled-bg-color);\n",
              "    fill: var(--disabled-fill-color);\n",
              "    box-shadow: none;\n",
              "  }\n",
              "\n",
              "  .colab-df-spinner {\n",
              "    border: 2px solid var(--fill-color);\n",
              "    border-color: transparent;\n",
              "    border-bottom-color: var(--fill-color);\n",
              "    animation:\n",
              "      spin 1s steps(1) infinite;\n",
              "  }\n",
              "\n",
              "  @keyframes spin {\n",
              "    0% {\n",
              "      border-color: transparent;\n",
              "      border-bottom-color: var(--fill-color);\n",
              "      border-left-color: var(--fill-color);\n",
              "    }\n",
              "    20% {\n",
              "      border-color: transparent;\n",
              "      border-left-color: var(--fill-color);\n",
              "      border-top-color: var(--fill-color);\n",
              "    }\n",
              "    30% {\n",
              "      border-color: transparent;\n",
              "      border-left-color: var(--fill-color);\n",
              "      border-top-color: var(--fill-color);\n",
              "      border-right-color: var(--fill-color);\n",
              "    }\n",
              "    40% {\n",
              "      border-color: transparent;\n",
              "      border-right-color: var(--fill-color);\n",
              "      border-top-color: var(--fill-color);\n",
              "    }\n",
              "    60% {\n",
              "      border-color: transparent;\n",
              "      border-right-color: var(--fill-color);\n",
              "    }\n",
              "    80% {\n",
              "      border-color: transparent;\n",
              "      border-right-color: var(--fill-color);\n",
              "      border-bottom-color: var(--fill-color);\n",
              "    }\n",
              "    90% {\n",
              "      border-color: transparent;\n",
              "      border-bottom-color: var(--fill-color);\n",
              "    }\n",
              "  }\n",
              "</style>\n",
              "\n",
              "      <script>\n",
              "        async function quickchart(key) {\n",
              "          const quickchartButtonEl =\n",
              "            document.querySelector('#' + key + ' button');\n",
              "          quickchartButtonEl.disabled = true;  // To prevent multiple clicks.\n",
              "          quickchartButtonEl.classList.add('colab-df-spinner');\n",
              "          try {\n",
              "            const charts = await google.colab.kernel.invokeFunction(\n",
              "                'suggestCharts', [key], {});\n",
              "          } catch (error) {\n",
              "            console.error('Error during call to suggestCharts:', error);\n",
              "          }\n",
              "          quickchartButtonEl.classList.remove('colab-df-spinner');\n",
              "          quickchartButtonEl.classList.add('colab-df-quickchart-complete');\n",
              "        }\n",
              "        (() => {\n",
              "          let quickchartButtonEl =\n",
              "            document.querySelector('#df-9a8f2cfc-9fa0-4e89-88cb-d922f62d54ce button');\n",
              "          quickchartButtonEl.style.display =\n",
              "            google.colab.kernel.accessAllowed ? 'block' : 'none';\n",
              "        })();\n",
              "      </script>\n",
              "    </div>\n",
              "\n",
              "    </div>\n",
              "  </div>\n"
            ],
            "application/vnd.google.colaboratory.intrinsic+json": {
              "type": "dataframe",
              "summary": "{\n  \"name\": \"display(df_texto\",\n  \"rows\": 5,\n  \"fields\": [\n    {\n      \"column\": \"textos\",\n      \"properties\": {\n        \"dtype\": \"string\",\n        \"num_unique_values\": 5,\n        \"samples\": [\n          \"Recientemente, se modific\\u00f3 la regulaci\\u00f3n de la cobertura para inmigrantes con algunas mejoras para los reci\\u00e9n llegados (ver Cuadro 2). Para mitigar este problema estructural, existen directrices normativas desarrolladas por la Junta Nacional de Salud y Bienestar y los esfuerzos de coordinaci\\u00f3n de la Asociaci\\u00f3n Sueca de Autoridades Locales y Regiones donde las regiones acuerdan reglas y estrategias comunes. Dado que Suecia tiene una inmigraci\\u00f3n relativamente grande, definir el derecho a los servicios de salud para los solicitantes de asilo y los inmigrantes irregulares ha sido un desaf\\u00edo. Si bien los solicitantes de asilo adultos solo tienen acceso a cuidados intensivos y cuidados maternos, todos los ni\\u00f1os, independientemente de su estado de residencia, tienen pleno derecho a los servicios.\",\n          \"Deben aplicarse pol\\u00edticas de educaci\\u00f3n y formaci\\u00f3n para mejorar la cohesi\\u00f3n social y la productividad en el estado. Deben tratar de lograr un crecimiento inclusivo aumentando el desempe\\u00f1o educativo de los estudiantes y mejorando la alineaci\\u00f3n de la oferta de habilidades con la demanda de habilidades. Invertir en innovaci\\u00f3n tambi\\u00e9n es fundamental para la competitividad regional. Morelos deber\\u00eda movilizar mejor su infraestructura de innovaci\\u00f3n para la difusi\\u00f3n y explotaci\\u00f3n del conocimiento.\",\n          \"El cient\\u00edfico franc\\u00e9s del siglo XIX, Claude Bernard, escribi\\u00f3 que la ciencia es un \\\"sal\\u00f3n soberbio y deslumbrante, pero al que solo se puede llegar atravesando una cocina larga y espantosa\\\".2 Osborne, Simon y Collins (2003), escribiendo m\\u00e1s de un siglo despu\\u00e9s, comenta que \\\"La iron\\u00eda esencial de una disciplina que ofrece la liberaci\\u00f3n intelectual de las cadenas de la sabidur\\u00eda recibida es que la educaci\\u00f3n que ofrece es autoritaria, dogm\\u00e1tica y no reflexiva\\\". (Las diferencias entre pa\\u00edses en la ense\\u00f1anza de las ciencias y su asociaci\\u00f3n con el desempe\\u00f1o de los estudiantes y el inter\\u00e9s en una carrera relacionada con las ciencias se presentan en el Cap\\u00edtulo 2 del Volumen II.) En la mayor\\u00eda de los pa\\u00edses y econom\\u00edas, es m\\u00e1s probable que los estudiantes de entornos aventajados esperen una carrera en ciencias, incluso entre los estudiantes que se desempe\\u00f1an de manera similar en ciencias y que reportaron un disfrute similar de aprender ciencias. Se han sugerido varias acciones para cerrar esta brecha de g\\u00e9nero y, de manera m\\u00e1s general, para alentar a m\\u00e1s j\\u00f3venes, especialmente aquellos de grupos que ahora est\\u00e1n subrepresentados en campos relacionados con la ciencia, a participar en m\\u00e1s estudios y trabajos relacionados con la ciencia.\"\n        ],\n        \"semantic_type\": \"\",\n        \"description\": \"\"\n      }\n    },\n    {\n      \"column\": \"labels\",\n      \"properties\": {\n        \"dtype\": \"number\",\n        \"std\": 0,\n        \"min\": 3,\n        \"max\": 4,\n        \"num_unique_values\": 2,\n        \"samples\": [\n          3,\n          4\n        ],\n        \"semantic_type\": \"\",\n        \"description\": \"\"\n      }\n    }\n  ]\n}"
            }
          },
          "metadata": {}
        }
      ],
      "source": [
        "# Ver los datos\n",
        "display(df_texto.sample(5))"
      ]
    },
    {
      "cell_type": "code",
      "execution_count": null,
      "metadata": {
        "colab": {
          "base_uri": "https://localhost:8080/",
          "height": 147
        },
        "id": "PfVb9mMSGFmM",
        "outputId": "784ea906-4546-42d7-9aa6-4531e8618532"
      },
      "outputs": [
        {
          "output_type": "execute_result",
          "data": {
            "text/plain": [
              "textos    object\n",
              "labels     int64\n",
              "dtype: object"
            ],
            "text/html": [
              "<div>\n",
              "<style scoped>\n",
              "    .dataframe tbody tr th:only-of-type {\n",
              "        vertical-align: middle;\n",
              "    }\n",
              "\n",
              "    .dataframe tbody tr th {\n",
              "        vertical-align: top;\n",
              "    }\n",
              "\n",
              "    .dataframe thead th {\n",
              "        text-align: right;\n",
              "    }\n",
              "</style>\n",
              "<table border=\"1\" class=\"dataframe\">\n",
              "  <thead>\n",
              "    <tr style=\"text-align: right;\">\n",
              "      <th></th>\n",
              "      <th>0</th>\n",
              "    </tr>\n",
              "  </thead>\n",
              "  <tbody>\n",
              "    <tr>\n",
              "      <th>textos</th>\n",
              "      <td>object</td>\n",
              "    </tr>\n",
              "    <tr>\n",
              "      <th>labels</th>\n",
              "      <td>int64</td>\n",
              "    </tr>\n",
              "  </tbody>\n",
              "</table>\n",
              "</div><br><label><b>dtype:</b> object</label>"
            ]
          },
          "metadata": {},
          "execution_count": 56
        }
      ],
      "source": [
        "df_texto.dtypes"
      ]
    },
    {
      "cell_type": "markdown",
      "metadata": {
        "id": "_8y7nAeiGM2E"
      },
      "source": [
        "Se debe trasformar la columna textos a string, para que tenga el tipo de dato correcto según lo explicado en entendimeinto de datos."
      ]
    },
    {
      "cell_type": "markdown",
      "metadata": {
        "id": "L_RkC5_ICIPe"
      },
      "source": [
        "Completitud"
      ]
    },
    {
      "cell_type": "code",
      "execution_count": null,
      "metadata": {
        "colab": {
          "base_uri": "https://localhost:8080/",
          "height": 147
        },
        "id": "DSEerIa0Kuek",
        "outputId": "55c11a68-ddf8-45a9-f03d-3901b8b88c51"
      },
      "outputs": [
        {
          "output_type": "execute_result",
          "data": {
            "text/plain": [
              "textos    0\n",
              "labels    0\n",
              "dtype: int64"
            ],
            "text/html": [
              "<div>\n",
              "<style scoped>\n",
              "    .dataframe tbody tr th:only-of-type {\n",
              "        vertical-align: middle;\n",
              "    }\n",
              "\n",
              "    .dataframe tbody tr th {\n",
              "        vertical-align: top;\n",
              "    }\n",
              "\n",
              "    .dataframe thead th {\n",
              "        text-align: right;\n",
              "    }\n",
              "</style>\n",
              "<table border=\"1\" class=\"dataframe\">\n",
              "  <thead>\n",
              "    <tr style=\"text-align: right;\">\n",
              "      <th></th>\n",
              "      <th>0</th>\n",
              "    </tr>\n",
              "  </thead>\n",
              "  <tbody>\n",
              "    <tr>\n",
              "      <th>textos</th>\n",
              "      <td>0</td>\n",
              "    </tr>\n",
              "    <tr>\n",
              "      <th>labels</th>\n",
              "      <td>0</td>\n",
              "    </tr>\n",
              "  </tbody>\n",
              "</table>\n",
              "</div><br><label><b>dtype:</b> int64</label>"
            ]
          },
          "metadata": {},
          "execution_count": 57
        }
      ],
      "source": [
        "df_texto.isnull().sum()"
      ]
    },
    {
      "cell_type": "code",
      "execution_count": null,
      "metadata": {
        "colab": {
          "base_uri": "https://localhost:8080/",
          "height": 147
        },
        "id": "pWNTpzluKxyy",
        "outputId": "14de0058-d7f1-4c52-b1ac-a24732e6926b"
      },
      "outputs": [
        {
          "output_type": "execute_result",
          "data": {
            "text/plain": [
              "textos    0.0\n",
              "labels    0.0\n",
              "dtype: float64"
            ],
            "text/html": [
              "<div>\n",
              "<style scoped>\n",
              "    .dataframe tbody tr th:only-of-type {\n",
              "        vertical-align: middle;\n",
              "    }\n",
              "\n",
              "    .dataframe tbody tr th {\n",
              "        vertical-align: top;\n",
              "    }\n",
              "\n",
              "    .dataframe thead th {\n",
              "        text-align: right;\n",
              "    }\n",
              "</style>\n",
              "<table border=\"1\" class=\"dataframe\">\n",
              "  <thead>\n",
              "    <tr style=\"text-align: right;\">\n",
              "      <th></th>\n",
              "      <th>0</th>\n",
              "    </tr>\n",
              "  </thead>\n",
              "  <tbody>\n",
              "    <tr>\n",
              "      <th>textos</th>\n",
              "      <td>0.0</td>\n",
              "    </tr>\n",
              "    <tr>\n",
              "      <th>labels</th>\n",
              "      <td>0.0</td>\n",
              "    </tr>\n",
              "  </tbody>\n",
              "</table>\n",
              "</div><br><label><b>dtype:</b> float64</label>"
            ]
          },
          "metadata": {},
          "execution_count": 58
        }
      ],
      "source": [
        "# Proporción de nulos\n",
        "(df_texto.isnull().sum() / len(df_texto)).sort_values(ascending=False)"
      ]
    },
    {
      "cell_type": "code",
      "execution_count": null,
      "metadata": {
        "colab": {
          "base_uri": "https://localhost:8080/",
          "height": 81
        },
        "id": "hYfQZQqJGx-5",
        "outputId": "bf2ca4fd-d531-4012-95aa-97180bd71993"
      },
      "outputs": [
        {
          "output_type": "execute_result",
          "data": {
            "text/plain": [
              "         count      mean       std  min   5%  25%  50%  75%  95%  max\n",
              "labels  2424.0  3.006188  1.121012  1.0  1.0  3.0  3.0  4.0  4.0  4.0"
            ],
            "text/html": [
              "\n",
              "  <div id=\"df-d22022bb-867e-4797-8bd8-d201b65bf57f\" class=\"colab-df-container\">\n",
              "    <div>\n",
              "<style scoped>\n",
              "    .dataframe tbody tr th:only-of-type {\n",
              "        vertical-align: middle;\n",
              "    }\n",
              "\n",
              "    .dataframe tbody tr th {\n",
              "        vertical-align: top;\n",
              "    }\n",
              "\n",
              "    .dataframe thead th {\n",
              "        text-align: right;\n",
              "    }\n",
              "</style>\n",
              "<table border=\"1\" class=\"dataframe\">\n",
              "  <thead>\n",
              "    <tr style=\"text-align: right;\">\n",
              "      <th></th>\n",
              "      <th>count</th>\n",
              "      <th>mean</th>\n",
              "      <th>std</th>\n",
              "      <th>min</th>\n",
              "      <th>5%</th>\n",
              "      <th>25%</th>\n",
              "      <th>50%</th>\n",
              "      <th>75%</th>\n",
              "      <th>95%</th>\n",
              "      <th>max</th>\n",
              "    </tr>\n",
              "  </thead>\n",
              "  <tbody>\n",
              "    <tr>\n",
              "      <th>labels</th>\n",
              "      <td>2424.0</td>\n",
              "      <td>3.006188</td>\n",
              "      <td>1.121012</td>\n",
              "      <td>1.0</td>\n",
              "      <td>1.0</td>\n",
              "      <td>3.0</td>\n",
              "      <td>3.0</td>\n",
              "      <td>4.0</td>\n",
              "      <td>4.0</td>\n",
              "      <td>4.0</td>\n",
              "    </tr>\n",
              "  </tbody>\n",
              "</table>\n",
              "</div>\n",
              "    <div class=\"colab-df-buttons\">\n",
              "\n",
              "  <div class=\"colab-df-container\">\n",
              "    <button class=\"colab-df-convert\" onclick=\"convertToInteractive('df-d22022bb-867e-4797-8bd8-d201b65bf57f')\"\n",
              "            title=\"Convert this dataframe to an interactive table.\"\n",
              "            style=\"display:none;\">\n",
              "\n",
              "  <svg xmlns=\"http://www.w3.org/2000/svg\" height=\"24px\" viewBox=\"0 -960 960 960\">\n",
              "    <path d=\"M120-120v-720h720v720H120Zm60-500h600v-160H180v160Zm220 220h160v-160H400v160Zm0 220h160v-160H400v160ZM180-400h160v-160H180v160Zm440 0h160v-160H620v160ZM180-180h160v-160H180v160Zm440 0h160v-160H620v160Z\"/>\n",
              "  </svg>\n",
              "    </button>\n",
              "\n",
              "  <style>\n",
              "    .colab-df-container {\n",
              "      display:flex;\n",
              "      gap: 12px;\n",
              "    }\n",
              "\n",
              "    .colab-df-convert {\n",
              "      background-color: #E8F0FE;\n",
              "      border: none;\n",
              "      border-radius: 50%;\n",
              "      cursor: pointer;\n",
              "      display: none;\n",
              "      fill: #1967D2;\n",
              "      height: 32px;\n",
              "      padding: 0 0 0 0;\n",
              "      width: 32px;\n",
              "    }\n",
              "\n",
              "    .colab-df-convert:hover {\n",
              "      background-color: #E2EBFA;\n",
              "      box-shadow: 0px 1px 2px rgba(60, 64, 67, 0.3), 0px 1px 3px 1px rgba(60, 64, 67, 0.15);\n",
              "      fill: #174EA6;\n",
              "    }\n",
              "\n",
              "    .colab-df-buttons div {\n",
              "      margin-bottom: 4px;\n",
              "    }\n",
              "\n",
              "    [theme=dark] .colab-df-convert {\n",
              "      background-color: #3B4455;\n",
              "      fill: #D2E3FC;\n",
              "    }\n",
              "\n",
              "    [theme=dark] .colab-df-convert:hover {\n",
              "      background-color: #434B5C;\n",
              "      box-shadow: 0px 1px 3px 1px rgba(0, 0, 0, 0.15);\n",
              "      filter: drop-shadow(0px 1px 2px rgba(0, 0, 0, 0.3));\n",
              "      fill: #FFFFFF;\n",
              "    }\n",
              "  </style>\n",
              "\n",
              "    <script>\n",
              "      const buttonEl =\n",
              "        document.querySelector('#df-d22022bb-867e-4797-8bd8-d201b65bf57f button.colab-df-convert');\n",
              "      buttonEl.style.display =\n",
              "        google.colab.kernel.accessAllowed ? 'block' : 'none';\n",
              "\n",
              "      async function convertToInteractive(key) {\n",
              "        const element = document.querySelector('#df-d22022bb-867e-4797-8bd8-d201b65bf57f');\n",
              "        const dataTable =\n",
              "          await google.colab.kernel.invokeFunction('convertToInteractive',\n",
              "                                                    [key], {});\n",
              "        if (!dataTable) return;\n",
              "\n",
              "        const docLinkHtml = 'Like what you see? Visit the ' +\n",
              "          '<a target=\"_blank\" href=https://colab.research.google.com/notebooks/data_table.ipynb>data table notebook</a>'\n",
              "          + ' to learn more about interactive tables.';\n",
              "        element.innerHTML = '';\n",
              "        dataTable['output_type'] = 'display_data';\n",
              "        await google.colab.output.renderOutput(dataTable, element);\n",
              "        const docLink = document.createElement('div');\n",
              "        docLink.innerHTML = docLinkHtml;\n",
              "        element.appendChild(docLink);\n",
              "      }\n",
              "    </script>\n",
              "  </div>\n",
              "\n",
              "\n",
              "    </div>\n",
              "  </div>\n"
            ],
            "application/vnd.google.colaboratory.intrinsic+json": {
              "type": "dataframe",
              "summary": "{\n  \"name\": \"df_texto\",\n  \"rows\": 1,\n  \"fields\": [\n    {\n      \"column\": \"count\",\n      \"properties\": {\n        \"dtype\": \"number\",\n        \"std\": null,\n        \"min\": 2424.0,\n        \"max\": 2424.0,\n        \"num_unique_values\": 1,\n        \"samples\": [\n          2424.0\n        ],\n        \"semantic_type\": \"\",\n        \"description\": \"\"\n      }\n    },\n    {\n      \"column\": \"mean\",\n      \"properties\": {\n        \"dtype\": \"number\",\n        \"std\": null,\n        \"min\": 3.006188118811881,\n        \"max\": 3.006188118811881,\n        \"num_unique_values\": 1,\n        \"samples\": [\n          3.006188118811881\n        ],\n        \"semantic_type\": \"\",\n        \"description\": \"\"\n      }\n    },\n    {\n      \"column\": \"std\",\n      \"properties\": {\n        \"dtype\": \"number\",\n        \"std\": null,\n        \"min\": 1.1210121558193524,\n        \"max\": 1.1210121558193524,\n        \"num_unique_values\": 1,\n        \"samples\": [\n          1.1210121558193524\n        ],\n        \"semantic_type\": \"\",\n        \"description\": \"\"\n      }\n    },\n    {\n      \"column\": \"min\",\n      \"properties\": {\n        \"dtype\": \"number\",\n        \"std\": null,\n        \"min\": 1.0,\n        \"max\": 1.0,\n        \"num_unique_values\": 1,\n        \"samples\": [\n          1.0\n        ],\n        \"semantic_type\": \"\",\n        \"description\": \"\"\n      }\n    },\n    {\n      \"column\": \"5%\",\n      \"properties\": {\n        \"dtype\": \"number\",\n        \"std\": null,\n        \"min\": 1.0,\n        \"max\": 1.0,\n        \"num_unique_values\": 1,\n        \"samples\": [\n          1.0\n        ],\n        \"semantic_type\": \"\",\n        \"description\": \"\"\n      }\n    },\n    {\n      \"column\": \"25%\",\n      \"properties\": {\n        \"dtype\": \"number\",\n        \"std\": null,\n        \"min\": 3.0,\n        \"max\": 3.0,\n        \"num_unique_values\": 1,\n        \"samples\": [\n          3.0\n        ],\n        \"semantic_type\": \"\",\n        \"description\": \"\"\n      }\n    },\n    {\n      \"column\": \"50%\",\n      \"properties\": {\n        \"dtype\": \"number\",\n        \"std\": null,\n        \"min\": 3.0,\n        \"max\": 3.0,\n        \"num_unique_values\": 1,\n        \"samples\": [\n          3.0\n        ],\n        \"semantic_type\": \"\",\n        \"description\": \"\"\n      }\n    },\n    {\n      \"column\": \"75%\",\n      \"properties\": {\n        \"dtype\": \"number\",\n        \"std\": null,\n        \"min\": 4.0,\n        \"max\": 4.0,\n        \"num_unique_values\": 1,\n        \"samples\": [\n          4.0\n        ],\n        \"semantic_type\": \"\",\n        \"description\": \"\"\n      }\n    },\n    {\n      \"column\": \"95%\",\n      \"properties\": {\n        \"dtype\": \"number\",\n        \"std\": null,\n        \"min\": 4.0,\n        \"max\": 4.0,\n        \"num_unique_values\": 1,\n        \"samples\": [\n          4.0\n        ],\n        \"semantic_type\": \"\",\n        \"description\": \"\"\n      }\n    },\n    {\n      \"column\": \"max\",\n      \"properties\": {\n        \"dtype\": \"number\",\n        \"std\": null,\n        \"min\": 4.0,\n        \"max\": 4.0,\n        \"num_unique_values\": 1,\n        \"samples\": [\n          4.0\n        ],\n        \"semantic_type\": \"\",\n        \"description\": \"\"\n      }\n    }\n  ]\n}"
            }
          },
          "metadata": {},
          "execution_count": 59
        }
      ],
      "source": [
        "# Rango de cada variable numérica\n",
        "df_texto.describe(percentiles=[.05,.25,.5,.75,.95]).T"
      ]
    },
    {
      "cell_type": "code",
      "execution_count": null,
      "metadata": {
        "colab": {
          "base_uri": "https://localhost:8080/"
        },
        "id": "VxwCu6jXF9kA",
        "outputId": "c301977a-6fb9-4438-f10a-9fef841d22b1"
      },
      "outputs": [
        {
          "output_type": "stream",
          "name": "stdout",
          "text": [
            "Series([], dtype: float64)\n"
          ]
        }
      ],
      "source": [
        "missing_percent = df_texto.isna().mean() * 100\n",
        "\n",
        "# Filtrar solo columnas con valores faltantes\n",
        "missing_cols = missing_percent[missing_percent > 0].sort_values(ascending=False)\n",
        "\n",
        "print(missing_cols)"
      ]
    },
    {
      "cell_type": "markdown",
      "metadata": {
        "id": "9crdTgsvHPpG"
      },
      "source": [
        "Los datos sí estan completos, ya que como se puede ver no hay valores faltantes."
      ]
    },
    {
      "cell_type": "markdown",
      "metadata": {
        "id": "e952xLqzHzmS"
      },
      "source": [
        "Unicidad"
      ]
    },
    {
      "cell_type": "code",
      "execution_count": null,
      "metadata": {
        "colab": {
          "base_uri": "https://localhost:8080/"
        },
        "id": "vqqzSSEoBwcR",
        "outputId": "76795ec8-32f4-4755-b38e-2f5a2b30935c"
      },
      "outputs": [
        {
          "output_type": "execute_result",
          "data": {
            "text/plain": [
              "np.int64(0)"
            ]
          },
          "metadata": {},
          "execution_count": 61
        }
      ],
      "source": [
        "# Revisar duplicados totales\n",
        "duplicados = df_texto.duplicated().sum()\n",
        "duplicados"
      ]
    },
    {
      "cell_type": "code",
      "execution_count": null,
      "metadata": {
        "colab": {
          "base_uri": "https://localhost:8080/",
          "height": 89
        },
        "id": "BseFlFdlI10x",
        "outputId": "0fe7ccd5-5581-4e3e-d040-8e2cea9aa59c"
      },
      "outputs": [
        {
          "output_type": "execute_result",
          "data": {
            "text/plain": [
              "Empty DataFrame\n",
              "Columns: [textos, labels]\n",
              "Index: []"
            ],
            "text/html": [
              "\n",
              "  <div id=\"df-fb53b689-6468-4eb9-80d7-4ae4eb808c4b\" class=\"colab-df-container\">\n",
              "    <div>\n",
              "<style scoped>\n",
              "    .dataframe tbody tr th:only-of-type {\n",
              "        vertical-align: middle;\n",
              "    }\n",
              "\n",
              "    .dataframe tbody tr th {\n",
              "        vertical-align: top;\n",
              "    }\n",
              "\n",
              "    .dataframe thead th {\n",
              "        text-align: right;\n",
              "    }\n",
              "</style>\n",
              "<table border=\"1\" class=\"dataframe\">\n",
              "  <thead>\n",
              "    <tr style=\"text-align: right;\">\n",
              "      <th></th>\n",
              "      <th>textos</th>\n",
              "      <th>labels</th>\n",
              "    </tr>\n",
              "  </thead>\n",
              "  <tbody>\n",
              "  </tbody>\n",
              "</table>\n",
              "</div>\n",
              "    <div class=\"colab-df-buttons\">\n",
              "\n",
              "  <div class=\"colab-df-container\">\n",
              "    <button class=\"colab-df-convert\" onclick=\"convertToInteractive('df-fb53b689-6468-4eb9-80d7-4ae4eb808c4b')\"\n",
              "            title=\"Convert this dataframe to an interactive table.\"\n",
              "            style=\"display:none;\">\n",
              "\n",
              "  <svg xmlns=\"http://www.w3.org/2000/svg\" height=\"24px\" viewBox=\"0 -960 960 960\">\n",
              "    <path d=\"M120-120v-720h720v720H120Zm60-500h600v-160H180v160Zm220 220h160v-160H400v160Zm0 220h160v-160H400v160ZM180-400h160v-160H180v160Zm440 0h160v-160H620v160ZM180-180h160v-160H180v160Zm440 0h160v-160H620v160Z\"/>\n",
              "  </svg>\n",
              "    </button>\n",
              "\n",
              "  <style>\n",
              "    .colab-df-container {\n",
              "      display:flex;\n",
              "      gap: 12px;\n",
              "    }\n",
              "\n",
              "    .colab-df-convert {\n",
              "      background-color: #E8F0FE;\n",
              "      border: none;\n",
              "      border-radius: 50%;\n",
              "      cursor: pointer;\n",
              "      display: none;\n",
              "      fill: #1967D2;\n",
              "      height: 32px;\n",
              "      padding: 0 0 0 0;\n",
              "      width: 32px;\n",
              "    }\n",
              "\n",
              "    .colab-df-convert:hover {\n",
              "      background-color: #E2EBFA;\n",
              "      box-shadow: 0px 1px 2px rgba(60, 64, 67, 0.3), 0px 1px 3px 1px rgba(60, 64, 67, 0.15);\n",
              "      fill: #174EA6;\n",
              "    }\n",
              "\n",
              "    .colab-df-buttons div {\n",
              "      margin-bottom: 4px;\n",
              "    }\n",
              "\n",
              "    [theme=dark] .colab-df-convert {\n",
              "      background-color: #3B4455;\n",
              "      fill: #D2E3FC;\n",
              "    }\n",
              "\n",
              "    [theme=dark] .colab-df-convert:hover {\n",
              "      background-color: #434B5C;\n",
              "      box-shadow: 0px 1px 3px 1px rgba(0, 0, 0, 0.15);\n",
              "      filter: drop-shadow(0px 1px 2px rgba(0, 0, 0, 0.3));\n",
              "      fill: #FFFFFF;\n",
              "    }\n",
              "  </style>\n",
              "\n",
              "    <script>\n",
              "      const buttonEl =\n",
              "        document.querySelector('#df-fb53b689-6468-4eb9-80d7-4ae4eb808c4b button.colab-df-convert');\n",
              "      buttonEl.style.display =\n",
              "        google.colab.kernel.accessAllowed ? 'block' : 'none';\n",
              "\n",
              "      async function convertToInteractive(key) {\n",
              "        const element = document.querySelector('#df-fb53b689-6468-4eb9-80d7-4ae4eb808c4b');\n",
              "        const dataTable =\n",
              "          await google.colab.kernel.invokeFunction('convertToInteractive',\n",
              "                                                    [key], {});\n",
              "        if (!dataTable) return;\n",
              "\n",
              "        const docLinkHtml = 'Like what you see? Visit the ' +\n",
              "          '<a target=\"_blank\" href=https://colab.research.google.com/notebooks/data_table.ipynb>data table notebook</a>'\n",
              "          + ' to learn more about interactive tables.';\n",
              "        element.innerHTML = '';\n",
              "        dataTable['output_type'] = 'display_data';\n",
              "        await google.colab.output.renderOutput(dataTable, element);\n",
              "        const docLink = document.createElement('div');\n",
              "        docLink.innerHTML = docLinkHtml;\n",
              "        element.appendChild(docLink);\n",
              "      }\n",
              "    </script>\n",
              "  </div>\n",
              "\n",
              "\n",
              "  <div id=\"id_e3701091-c792-486f-ad33-57bc0af99b7d\">\n",
              "    <style>\n",
              "      .colab-df-generate {\n",
              "        background-color: #E8F0FE;\n",
              "        border: none;\n",
              "        border-radius: 50%;\n",
              "        cursor: pointer;\n",
              "        display: none;\n",
              "        fill: #1967D2;\n",
              "        height: 32px;\n",
              "        padding: 0 0 0 0;\n",
              "        width: 32px;\n",
              "      }\n",
              "\n",
              "      .colab-df-generate:hover {\n",
              "        background-color: #E2EBFA;\n",
              "        box-shadow: 0px 1px 2px rgba(60, 64, 67, 0.3), 0px 1px 3px 1px rgba(60, 64, 67, 0.15);\n",
              "        fill: #174EA6;\n",
              "      }\n",
              "\n",
              "      [theme=dark] .colab-df-generate {\n",
              "        background-color: #3B4455;\n",
              "        fill: #D2E3FC;\n",
              "      }\n",
              "\n",
              "      [theme=dark] .colab-df-generate:hover {\n",
              "        background-color: #434B5C;\n",
              "        box-shadow: 0px 1px 3px 1px rgba(0, 0, 0, 0.15);\n",
              "        filter: drop-shadow(0px 1px 2px rgba(0, 0, 0, 0.3));\n",
              "        fill: #FFFFFF;\n",
              "      }\n",
              "    </style>\n",
              "    <button class=\"colab-df-generate\" onclick=\"generateWithVariable('duplicated_partials')\"\n",
              "            title=\"Generate code using this dataframe.\"\n",
              "            style=\"display:none;\">\n",
              "\n",
              "  <svg xmlns=\"http://www.w3.org/2000/svg\" height=\"24px\"viewBox=\"0 0 24 24\"\n",
              "       width=\"24px\">\n",
              "    <path d=\"M7,19H8.4L18.45,9,17,7.55,7,17.6ZM5,21V16.75L18.45,3.32a2,2,0,0,1,2.83,0l1.4,1.43a1.91,1.91,0,0,1,.58,1.4,1.91,1.91,0,0,1-.58,1.4L9.25,21ZM18.45,9,17,7.55Zm-12,3A5.31,5.31,0,0,0,4.9,8.1,5.31,5.31,0,0,0,1,6.5,5.31,5.31,0,0,0,4.9,4.9,5.31,5.31,0,0,0,6.5,1,5.31,5.31,0,0,0,8.1,4.9,5.31,5.31,0,0,0,12,6.5,5.46,5.46,0,0,0,6.5,12Z\"/>\n",
              "  </svg>\n",
              "    </button>\n",
              "    <script>\n",
              "      (() => {\n",
              "      const buttonEl =\n",
              "        document.querySelector('#id_e3701091-c792-486f-ad33-57bc0af99b7d button.colab-df-generate');\n",
              "      buttonEl.style.display =\n",
              "        google.colab.kernel.accessAllowed ? 'block' : 'none';\n",
              "\n",
              "      buttonEl.onclick = () => {\n",
              "        google.colab.notebook.generateWithVariable('duplicated_partials');\n",
              "      }\n",
              "      })();\n",
              "    </script>\n",
              "  </div>\n",
              "\n",
              "    </div>\n",
              "  </div>\n"
            ],
            "application/vnd.google.colaboratory.intrinsic+json": {
              "type": "dataframe",
              "variable_name": "duplicated_partials",
              "repr_error": "Out of range float values are not JSON compliant: nan"
            }
          },
          "metadata": {},
          "execution_count": 62
        }
      ],
      "source": [
        "# Revisar duplicador paricales\n",
        "cols_to_compare = [\"textos\"]\n",
        "\n",
        "duplicated_partials = df_texto[df_texto.duplicated(subset=cols_to_compare, keep=False)]\n",
        "duplicated_partials = duplicated_partials.sort_values(by=cols_to_compare)\n",
        "duplicated_partials"
      ]
    },
    {
      "cell_type": "markdown",
      "metadata": {
        "id": "X63mJihqJQtQ"
      },
      "source": [
        "Después de revisar los totales y parciales (mismo texto diferente label), no hay ninguno por lo que los datos proporcionados ya habían sido limpiados o no se tienen duplicados desde un inicio."
      ]
    },
    {
      "cell_type": "markdown",
      "metadata": {
        "id": "O2lEUv-IKMTZ"
      },
      "source": [
        "Consistencia"
      ]
    },
    {
      "cell_type": "code",
      "execution_count": null,
      "metadata": {
        "colab": {
          "base_uri": "https://localhost:8080/",
          "height": 210
        },
        "id": "GtqCkpnXK7dW",
        "outputId": "e1af4818-2c02-4886-d388-305f8280c7eb"
      },
      "outputs": [
        {
          "output_type": "execute_result",
          "data": {
            "text/plain": [
              "labels\n",
              "1     505\n",
              "3     894\n",
              "4    1025\n",
              "Name: count, dtype: int64"
            ],
            "text/html": [
              "<div>\n",
              "<style scoped>\n",
              "    .dataframe tbody tr th:only-of-type {\n",
              "        vertical-align: middle;\n",
              "    }\n",
              "\n",
              "    .dataframe tbody tr th {\n",
              "        vertical-align: top;\n",
              "    }\n",
              "\n",
              "    .dataframe thead th {\n",
              "        text-align: right;\n",
              "    }\n",
              "</style>\n",
              "<table border=\"1\" class=\"dataframe\">\n",
              "  <thead>\n",
              "    <tr style=\"text-align: right;\">\n",
              "      <th></th>\n",
              "      <th>count</th>\n",
              "    </tr>\n",
              "    <tr>\n",
              "      <th>labels</th>\n",
              "      <th></th>\n",
              "    </tr>\n",
              "  </thead>\n",
              "  <tbody>\n",
              "    <tr>\n",
              "      <th>1</th>\n",
              "      <td>505</td>\n",
              "    </tr>\n",
              "    <tr>\n",
              "      <th>3</th>\n",
              "      <td>894</td>\n",
              "    </tr>\n",
              "    <tr>\n",
              "      <th>4</th>\n",
              "      <td>1025</td>\n",
              "    </tr>\n",
              "  </tbody>\n",
              "</table>\n",
              "</div><br><label><b>dtype:</b> int64</label>"
            ]
          },
          "metadata": {},
          "execution_count": 63
        }
      ],
      "source": [
        "# Distribución de labels\n",
        "df_texto['labels'].value_counts().sort_index()"
      ]
    },
    {
      "cell_type": "markdown",
      "metadata": {
        "id": "l7GcKq3cLQi9"
      },
      "source": [
        "Al sumar los totales 505+894+1025=2424. Por lo que sí es consistente con el total."
      ]
    },
    {
      "cell_type": "markdown",
      "metadata": {
        "id": "QHs6fInELl7P"
      },
      "source": [
        "Tambien se ve que no hay valores aparte de 1,3 y 4"
      ]
    },
    {
      "cell_type": "code",
      "execution_count": null,
      "metadata": {
        "colab": {
          "base_uri": "https://localhost:8080/"
        },
        "id": "KbTgsJzALe6r",
        "outputId": "ddcda494-a874-48ec-b4f7-25c11a218000"
      },
      "outputs": [
        {
          "output_type": "execute_result",
          "data": {
            "text/plain": [
              "np.int64(0)"
            ]
          },
          "metadata": {},
          "execution_count": 64
        }
      ],
      "source": [
        "# Verificar si hay textos muy cortos o vacio que evitaron el analisis de NaN\n",
        "df_texto['longitud_texto'] = df_texto['textos'].str.len()\n",
        "textos_cortos = (df_texto['longitud_texto'] < 10).sum()\n",
        "textos_cortos"
      ]
    },
    {
      "cell_type": "code",
      "execution_count": null,
      "metadata": {
        "colab": {
          "base_uri": "https://localhost:8080/"
        },
        "id": "jRfh7wKfMGBS",
        "outputId": "fbe7b84a-2266-421f-e6f1-af570f89b2ed"
      },
      "outputs": [
        {
          "output_type": "stream",
          "name": "stdout",
          "text": [
            "Textos que contienen números: 1570\n",
            "Porcentaje: 64.77%\n",
            "\n",
            "Textos que contienen mayúsculas: 2424\n",
            "Porcentaje: 100.00%\n",
            "\n",
            "Textos que contienen símbolos: 2424\n",
            "Porcentaje: 100.00%\n"
          ]
        }
      ],
      "source": [
        "# 1. Textos que contienen números\n",
        "textos_con_numeros = df_texto['textos'].str.contains(r'\\d', na=False).sum()\n",
        "print(f\"Textos que contienen números: {textos_con_numeros}\")\n",
        "print(f\"Porcentaje: {(textos_con_numeros / len(df_texto)) * 100:.2f}%\")\n",
        "\n",
        "# 2. Textos que contienen mayúsculas\n",
        "textos_con_mayusculas = df_texto['textos'].str.contains(r'[A-Z]', na=False).sum()\n",
        "print(f\"\\nTextos que contienen mayúsculas: {textos_con_mayusculas}\")\n",
        "print(f\"Porcentaje: {(textos_con_mayusculas / len(df_texto)) * 100:.2f}%\")\n",
        "\n",
        "# 3. Textos que contienen símbolos\n",
        "textos_con_simbolos = df_texto['textos'].str.contains(r'[^\\w\\s]', na=False).sum()\n",
        "print(f\"\\nTextos que contienen símbolos: {textos_con_simbolos}\")\n",
        "print(f\"Porcentaje: {(textos_con_simbolos / len(df_texto)) * 100:.2f}%\")\n"
      ]
    },
    {
      "cell_type": "markdown",
      "metadata": {
        "id": "qml5O0C2NCWf"
      },
      "source": [
        "Como se puede ver los datos sí son consistentes, los labels solo tienen datos válidos (1,3,4) y no se necesitó el 0 mencionado en el entendimiento. Los textos no tienen filas llenas de espacios y muy cortos que puedan afectar el análisis. El único detalle a tener en cuenta es las mayúsculas y minúsculas, las cuales poden generar problemas al tokenizar, por lo que se decidió convertir todo a minúsculas para evitar estos duplicados en los tokens."
      ]
    },
    {
      "cell_type": "markdown",
      "metadata": {
        "id": "KCMn1QdFKOx5"
      },
      "source": [
        "Validez"
      ]
    },
    {
      "cell_type": "code",
      "execution_count": null,
      "metadata": {
        "colab": {
          "base_uri": "https://localhost:8080/",
          "height": 210
        },
        "id": "7SN6cKLyOG6q",
        "outputId": "3c9d1706-852e-44c3-d36b-85891f21a040"
      },
      "outputs": [
        {
          "output_type": "execute_result",
          "data": {
            "text/plain": [
              "labels\n",
              "1    20.833333\n",
              "3    36.881188\n",
              "4    42.285479\n",
              "Name: proportion, dtype: float64"
            ],
            "text/html": [
              "<div>\n",
              "<style scoped>\n",
              "    .dataframe tbody tr th:only-of-type {\n",
              "        vertical-align: middle;\n",
              "    }\n",
              "\n",
              "    .dataframe tbody tr th {\n",
              "        vertical-align: top;\n",
              "    }\n",
              "\n",
              "    .dataframe thead th {\n",
              "        text-align: right;\n",
              "    }\n",
              "</style>\n",
              "<table border=\"1\" class=\"dataframe\">\n",
              "  <thead>\n",
              "    <tr style=\"text-align: right;\">\n",
              "      <th></th>\n",
              "      <th>proportion</th>\n",
              "    </tr>\n",
              "    <tr>\n",
              "      <th>labels</th>\n",
              "      <th></th>\n",
              "    </tr>\n",
              "  </thead>\n",
              "  <tbody>\n",
              "    <tr>\n",
              "      <th>1</th>\n",
              "      <td>20.833333</td>\n",
              "    </tr>\n",
              "    <tr>\n",
              "      <th>3</th>\n",
              "      <td>36.881188</td>\n",
              "    </tr>\n",
              "    <tr>\n",
              "      <th>4</th>\n",
              "      <td>42.285479</td>\n",
              "    </tr>\n",
              "  </tbody>\n",
              "</table>\n",
              "</div><br><label><b>dtype:</b> float64</label>"
            ]
          },
          "metadata": {},
          "execution_count": 66
        }
      ],
      "source": [
        "# Porcentaje de distribución\n",
        "(df_texto['labels'].value_counts(normalize=True) * 100).sort_index()"
      ]
    },
    {
      "cell_type": "markdown",
      "metadata": {
        "id": "4YeUdtExOdAW"
      },
      "source": [
        "Al sumar los porcentajes 20.833333+36.881188+42.258547=nos da el 100% de las apariciones por lo que sí es valido."
      ]
    },
    {
      "cell_type": "code",
      "execution_count": null,
      "metadata": {
        "colab": {
          "base_uri": "https://localhost:8080/",
          "height": 178
        },
        "id": "dRvI1BZ_O86S",
        "outputId": "224a1d60-54eb-4342-f1f5-ae76a5f9bda9"
      },
      "outputs": [
        {
          "output_type": "execute_result",
          "data": {
            "text/plain": [
              "textos            string[python]\n",
              "labels                     int64\n",
              "longitud_texto             int64\n",
              "dtype: object"
            ],
            "text/html": [
              "<div>\n",
              "<style scoped>\n",
              "    .dataframe tbody tr th:only-of-type {\n",
              "        vertical-align: middle;\n",
              "    }\n",
              "\n",
              "    .dataframe tbody tr th {\n",
              "        vertical-align: top;\n",
              "    }\n",
              "\n",
              "    .dataframe thead th {\n",
              "        text-align: right;\n",
              "    }\n",
              "</style>\n",
              "<table border=\"1\" class=\"dataframe\">\n",
              "  <thead>\n",
              "    <tr style=\"text-align: right;\">\n",
              "      <th></th>\n",
              "      <th>0</th>\n",
              "    </tr>\n",
              "  </thead>\n",
              "  <tbody>\n",
              "    <tr>\n",
              "      <th>textos</th>\n",
              "      <td>string[python]</td>\n",
              "    </tr>\n",
              "    <tr>\n",
              "      <th>labels</th>\n",
              "      <td>int64</td>\n",
              "    </tr>\n",
              "    <tr>\n",
              "      <th>longitud_texto</th>\n",
              "      <td>int64</td>\n",
              "    </tr>\n",
              "  </tbody>\n",
              "</table>\n",
              "</div><br><label><b>dtype:</b> object</label>"
            ]
          },
          "metadata": {},
          "execution_count": 67
        }
      ],
      "source": [
        "# Pasar la columna texto de a string\n",
        "df_texto[\"textos\"] = df_texto[\"textos\"].astype(\"string\")\n",
        "df_texto.dtypes"
      ]
    },
    {
      "cell_type": "markdown",
      "metadata": {
        "id": "fJ1esYB_PSL1"
      },
      "source": [
        "Convertimos los textos a string para que tenga más sentido, cosa se que perdió al importar los datos por pandas."
      ]
    },
    {
      "cell_type": "markdown",
      "metadata": {
        "id": "HSMiC-dEQPUt"
      },
      "source": [
        "Por último como se mencionó anteriormente se convierten todos los textos a solo minúsculas para evitar tokes repetidos."
      ]
    },
    {
      "cell_type": "code",
      "execution_count": null,
      "metadata": {
        "colab": {
          "base_uri": "https://localhost:8080/"
        },
        "id": "bTHAEKeYQVUg",
        "outputId": "74cb5628-27ac-43c7-a552-fceef9f395a3"
      },
      "outputs": [
        {
          "output_type": "stream",
          "name": "stdout",
          "text": [
            "\n",
            "Ejemplos antes de conversión:\n",
            "1. \"Aprendizaje\" y \"educación\" se consideran sinónimo...\n",
            "2. Para los niños más pequeños (bebés y niños pequeño...\n",
            "3. Además, la formación de especialistas en medicina ...\n"
          ]
        }
      ],
      "source": [
        "# Mostrar algunos ejemplos antes de la conversión\n",
        "print(\"\\nEjemplos antes de conversión:\")\n",
        "for i in range(3):\n",
        "    print(f\"{i+1}. {df_texto['textos'].iloc[i][:50]}...\")"
      ]
    },
    {
      "cell_type": "code",
      "execution_count": null,
      "metadata": {
        "id": "YgSHxBuGQsHh"
      },
      "outputs": [],
      "source": [
        "df_texto['textos'] = df_texto['textos'].apply(lambda x: x.lower() if isinstance(x, str) else x)"
      ]
    },
    {
      "cell_type": "code",
      "execution_count": null,
      "metadata": {
        "colab": {
          "base_uri": "https://localhost:8080/"
        },
        "id": "lJD8ksgJQywV",
        "outputId": "4b4c4be9-dff0-439a-9b79-06c36f78f0ab"
      },
      "outputs": [
        {
          "output_type": "stream",
          "name": "stdout",
          "text": [
            "\n",
            "Ejemplos antes de conversión:\n",
            "1. \"aprendizaje\" y \"educación\" se consideran sinónimo...\n",
            "2. para los niños más pequeños (bebés y niños pequeño...\n",
            "3. además, la formación de especialistas en medicina ...\n"
          ]
        }
      ],
      "source": [
        "# Mostrar algunos ejemplos despues de la conversión\n",
        "print(\"\\nEjemplos antes de conversión:\")\n",
        "for i in range(3):\n",
        "    print(f\"{i+1}. {df_texto['textos'].iloc[i][:50]}...\")"
      ]
    },
    {
      "cell_type": "markdown",
      "metadata": {
        "id": "z0-RnfbO-puO"
      },
      "source": [
        "#Modelado"
      ]
    },
    {
      "cell_type": "markdown",
      "metadata": {
        "id": "0mpg_zu2-9k_"
      },
      "source": [
        "### Descripción de los algoritmos utilizados\n",
        "\n",
        "Para la construcción de los modelos de clasificación de opiniones ciudadanas hacia los Objetivos de Desarrollo Sostenible (ODS 1, 3 y 4), se implementaron tres algoritmos de aprendizaje supervisado ampliamente utilizados en problemas de procesamiento de lenguaje natural. Cada uno presenta diferentes enfoques, ventajas y limitaciones, lo que permite realizar una comparación balanceada y seleccionar el modelo más adecuado según las métricas de desempeño obtenidas.\n",
        "\n",
        "1. Naive Bayes Multinomial (MNB).\n",
        "Este algoritmo parte del supuesto de independencia condicional entre las palabras del texto, lo que lo convierte en un modelo probabilístico sencillo y eficiente para tareas de clasificación de documentos. La variante multinomial es particularmente adecuada para variables discretas como las frecuencias de términos, representadas mediante esquemas de bolsa de palabras o TF-IDF. Sus principales ventajas son la rapidez de entrenamiento, la facilidad de interpretación de los términos más relevantes por clase y su robustez frente a datos de alta dimensionalidad. Sin embargo, al asumir independencia entre las características, puede perder precisión en contextos donde la correlación entre palabras es importante.\n",
        "\n",
        "2. Regresión Logística (One-vs-Rest).\n",
        "Se trata de un modelo discriminativo lineal que estima la probabilidad de pertenencia de una instancia a una clase mediante la función sigmoide. Para problemas multiclase, se implementa en un esquema One-vs-Rest, donde se entrena un clasificador binario por cada categoría y se selecciona la de mayor probabilidad. Entre sus fortalezas destaca la interpretabilidad, ya que los coeficientes del modelo permiten identificar qué términos influyen positiva o negativamente en la predicción de cada ODS. Además, admite regularización (L1/L2) y manejo de desbalance a través de class weights, lo que mejora su capacidad de generalización. Su limitación principal radica en que modela fronteras lineales, lo que puede no capturar patrones complejos en el lenguaje.\n",
        "\n",
        "3. Máquinas de Vectores de Soporte Lineales (LinearSVC).\n",
        "Este algoritmo busca maximizar el margen entre las clases en un espacio de alta dimensionalidad. En el caso lineal, resulta muy efectivo para datos de texto representados con TF-IDF, ya que dichos vectores suelen ser dispersos y de gran tamaño. LinearSVC es reconocido como uno de los clasificadores más robustos para problemas de categorización de documentos, logrando un buen balance entre exactitud y capacidad de generalización. Su ventaja es la capacidad de manejar eficientemente grandes volúmenes de características y generar modelos con mayor poder discriminativo que la regresión logística en escenarios ruidosos. La desventaja es que, a diferencia de la regresión logística, no produce probabilidades calibradas de manera directa, lo que puede dificultar la interpretación en algunos casos."
      ]
    },
    {
      "cell_type": "markdown",
      "metadata": {
        "id": "QQR-T3AHOacu"
      },
      "source": [
        "Importaciones y utilidades:"
      ]
    },
    {
      "cell_type": "code",
      "execution_count": null,
      "metadata": {
        "id": "w6WVB2D6--zw"
      },
      "outputs": [],
      "source": [
        "import re, numpy as np, pandas as pd\n",
        "from pathlib import Path\n",
        "\n",
        "from sklearn.model_selection import train_test_split, StratifiedKFold, GridSearchCV\n",
        "from sklearn.metrics import classification_report, confusion_matrix, f1_score\n",
        "from sklearn.pipeline import Pipeline\n",
        "from sklearn.feature_extraction.text import TfidfVectorizer\n",
        "from sklearn.naive_bayes import MultinomialNB\n",
        "from sklearn.linear_model import LogisticRegression\n",
        "from sklearn.svm import LinearSVC\n",
        "from sklearn.utils import Bunch\n",
        "\n",
        "RANDOM_STATE = 42\n",
        "\n",
        "def clean_text(s: str) -> str:\n",
        "    if not isinstance(s, str):\n",
        "        return \"\"\n",
        "    s = s.lower()\n",
        "    s = re.sub(r\"http\\S+|www\\.\\S+\", \" \", s)               # urls\n",
        "    s = re.sub(r\"[@#]\\w+|\\d+|[_/\\\\]\", \" \", s)             # menciones, hashtags, números\n",
        "    s = re.sub(r\"[^\\wáéíóúñü\\s]\", \" \", s, flags=re.UNICODE)\n",
        "    s = re.sub(r\"\\s+\", \" \", s).strip()\n",
        "    return s\n",
        "\n",
        "def detect_label_column(df: pd.DataFrame) -> str:\n",
        "    candidates = [\"label\",\"etiqueta\",\"ods\",\"ODS\",\"objetivo\",\"target\",\"y\",\"clase\",\"categoria\"]\n",
        "    # si la columna es categórica con pocas clases (2-10) es buena candidata\n",
        "    scored = []\n",
        "    for c in df.columns:\n",
        "        if c in candidates:\n",
        "            scored.append((c, 0))\n",
        "        # heurística por número de clases\n",
        "        nunique = df[c].nunique(dropna=True)\n",
        "        if 2 <= nunique <= 10 and df[c].dtype != float:\n",
        "            scored.append((c, 1))\n",
        "    if not scored:\n",
        "        raise ValueError(\"No pude detectar la columna objetivo. Renombra tu columna de etiqueta a 'ods' o 'etiqueta'.\")\n",
        "    # prioriza candidatos explícitos\n",
        "    scored = sorted(scored, key=lambda x: x[1])\n",
        "    return scored[0][0]\n",
        "\n",
        "def summarize_results(name, gs, X_test, y_test):\n",
        "    y_pred = gs.predict(X_test)\n",
        "    rep = classification_report(y_test, y_pred, digits=4, output_dict=True, zero_division=0)\n",
        "    f1m = rep[\"macro avg\"][\"f1-score\"]\n",
        "    print(f\"\\n=== {name} ===\")\n",
        "    print(\"Mejores params (CV):\", gs.best_params_)\n",
        "    print(\"Mejor F1-macro (CV):\", round(gs.best_score_, 4))\n",
        "    print(\"\\nReporte en TEST:\")\n",
        "    print(classification_report(y_test, y_pred, digits=4, zero_division=0))\n",
        "    print(\"Matriz de confusión (TEST):\")\n",
        "    print(confusion_matrix(y_test, y_pred))\n",
        "    return Bunch(name=name, gridsearch_=gs, y_pred=y_pred, f1_macro_cv=gs.best_score_, f1_macro_test=f1m)\n"
      ]
    },
    {
      "cell_type": "code",
      "execution_count": null,
      "metadata": {
        "id": "7iSZI8IVXx7m"
      },
      "outputs": [],
      "source": [
        "import matplotlib.pyplot as plt\n",
        "import seaborn as sns\n",
        "from sklearn.metrics import confusion_matrix\n",
        "\n",
        "def plot_confusion_matrix(y_true, y_pred, labels, title=\"Matriz de confusión\"):\n",
        "    cm = confusion_matrix(y_true, y_pred, labels=labels)\n",
        "    plt.figure(figsize=(6,5))\n",
        "    sns.heatmap(cm, annot=True, fmt=\"d\", cmap=\"Blues\",\n",
        "                xticklabels=labels, yticklabels=labels)\n",
        "    plt.title(title, fontsize=14)\n",
        "    plt.xlabel(\"Predicción\")\n",
        "    plt.ylabel(\"Real\")\n",
        "    plt.show()\n"
      ]
    },
    {
      "cell_type": "markdown",
      "metadata": {
        "id": "gz8lpZWwOcoK"
      },
      "source": [
        "Cargar y preparar el dataset de entrenamiento"
      ]
    },
    {
      "cell_type": "code",
      "execution_count": null,
      "metadata": {
        "colab": {
          "base_uri": "https://localhost:8080/"
        },
        "id": "N3d7Gw6VAJnL",
        "outputId": "7c265382-d4c1-463e-813d-66eeefbc1f78"
      },
      "outputs": [
        {
          "output_type": "stream",
          "name": "stdout",
          "text": [
            "Columna objetivo detectada: labels\n"
          ]
        },
        {
          "output_type": "execute_result",
          "data": {
            "text/plain": [
              "((1939,), (485,), (1939,), (485,))"
            ]
          },
          "metadata": {},
          "execution_count": 73
        }
      ],
      "source": [
        "# Asegurar tipos y limpieza básica\n",
        "df_texto = df_texto.copy()\n",
        "if \"textos\" not in df_texto.columns:\n",
        "    raise ValueError(\"No encuentro la columna 'textos' en df_texto.\")\n",
        "\n",
        "df_texto[\"textos\"] = df_texto[\"textos\"].astype(str).map(clean_text)\n",
        "\n",
        "# Detectar columna objetivo automáticamente\n",
        "label_col = detect_label_column(df_texto)\n",
        "print(\"Columna objetivo detectada:\", label_col)\n",
        "\n",
        "# Filtrar filas vacías / nulas\n",
        "df_texto = df_texto[(df_texto[\"textos\"].str.len() > 0) & (df_texto[label_col].notna())].copy()\n",
        "\n",
        "# Split estratificado\n",
        "X_train, X_test, y_train, y_test = train_test_split(\n",
        "    df_texto[\"textos\"], df_texto[label_col],\n",
        "    test_size=0.2, stratify=df_texto[label_col], random_state=RANDOM_STATE\n",
        ")\n",
        "X_train.shape, X_test.shape, y_train.shape, y_test.shape\n"
      ]
    },
    {
      "cell_type": "markdown",
      "metadata": {
        "id": "UHMr4ju5ASEw"
      },
      "source": [
        "Definir vectorizador y validación:"
      ]
    },
    {
      "cell_type": "code",
      "execution_count": null,
      "metadata": {
        "id": "TU-4MzfyAT5M"
      },
      "outputs": [],
      "source": [
        "# TF-IDF de palabras con bigramas; sublinear_tf mejora estabilidad\n",
        "TFIDF_WORD = TfidfVectorizer(\n",
        "    analyzer=\"word\",\n",
        "    ngram_range=(1,2),\n",
        "    min_df=2,\n",
        "    sublinear_tf=True\n",
        ")\n",
        "\n",
        "cv = StratifiedKFold(n_splits=5, shuffle=True, random_state=RANDOM_STATE)\n"
      ]
    },
    {
      "cell_type": "markdown",
      "metadata": {
        "id": "saLV9sHCOnkn"
      },
      "source": [
        "Entrenar los 3 modelos con GridSearchCV:"
      ]
    },
    {
      "cell_type": "code",
      "execution_count": null,
      "metadata": {
        "colab": {
          "base_uri": "https://localhost:8080/",
          "height": 1000
        },
        "id": "x0IzDQIwAoip",
        "outputId": "558d59b8-0dfe-4f85-c46b-3465c33633af"
      },
      "outputs": [
        {
          "output_type": "stream",
          "name": "stdout",
          "text": [
            "\n",
            "=== MNB + TFIDF(word) ===\n",
            "Mejores params (CV): {'clf__alpha': 0.1, 'tfidf__min_df': 3}\n",
            "Mejor F1-macro (CV): 0.9635\n",
            "\n",
            "Reporte en TEST:\n",
            "              precision    recall  f1-score   support\n",
            "\n",
            "           1     0.9286    0.9010    0.9146       101\n",
            "           3     0.9497    0.9497    0.9497       179\n",
            "           4     0.9567    0.9707    0.9637       205\n",
            "\n",
            "    accuracy                         0.9485       485\n",
            "   macro avg     0.9450    0.9405    0.9427       485\n",
            "weighted avg     0.9483    0.9485    0.9483       485\n",
            "\n",
            "Matriz de confusión (TEST):\n",
            "[[ 91   6   4]\n",
            " [  4 170   5]\n",
            " [  3   3 199]]\n"
          ]
        },
        {
          "output_type": "display_data",
          "data": {
            "text/plain": [
              "<Figure size 600x500 with 2 Axes>"
            ],
            "image/png": "[encoded data removed]"
          },
          "metadata": {}
        },
        {
          "output_type": "stream",
          "name": "stdout",
          "text": [
            "\n",
            "=== LogReg (OvR) + TFIDF(word) ===\n",
            "Mejores params (CV): {'clf__C': 2, 'clf__class_weight': 'balanced', 'clf__penalty': 'l2', 'clf__solver': 'lbfgs', 'tfidf__min_df': 5}\n",
            "Mejor F1-macro (CV): 0.9739\n",
            "\n",
            "Reporte en TEST:\n",
            "              precision    recall  f1-score   support\n",
            "\n",
            "           1     0.9697    0.9505    0.9600       101\n",
            "           3     0.9661    0.9553    0.9607       179\n",
            "           4     0.9617    0.9805    0.9710       205\n",
            "\n",
            "    accuracy                         0.9649       485\n",
            "   macro avg     0.9658    0.9621    0.9639       485\n",
            "weighted avg     0.9650    0.9649    0.9649       485\n",
            "\n",
            "Matriz de confusión (TEST):\n",
            "[[ 96   4   1]\n",
            " [  1 171   7]\n",
            " [  2   2 201]]\n"
          ]
        },
        {
          "output_type": "display_data",
          "data": {
            "text/plain": [
              "<Figure size 600x500 with 2 Axes>"
            ],
            "image/png": "[encoded data removed]"
          },
          "metadata": {}
        },
        {
          "output_type": "stream",
          "name": "stdout",
          "text": [
            "\n",
            "=== LinearSVC + TFIDF(word) ===\n",
            "Mejores params (CV): {'clf__C': 0.5, 'clf__class_weight': 'balanced', 'tfidf__min_df': 3}\n",
            "Mejor F1-macro (CV): 0.975\n",
            "\n",
            "Reporte en TEST:\n",
            "              precision    recall  f1-score   support\n",
            "\n",
            "           1     0.9600    0.9505    0.9552       101\n",
            "           3     0.9661    0.9553    0.9607       179\n",
            "           4     0.9663    0.9805    0.9734       205\n",
            "\n",
            "    accuracy                         0.9649       485\n",
            "   macro avg     0.9641    0.9621    0.9631       485\n",
            "weighted avg     0.9649    0.9649    0.9649       485\n",
            "\n",
            "Matriz de confusión (TEST):\n",
            "[[ 96   4   1]\n",
            " [  2 171   6]\n",
            " [  2   2 201]]\n"
          ]
        },
        {
          "output_type": "display_data",
          "data": {
            "text/plain": [
              "<Figure size 600x500 with 2 Axes>"
            ],
            "image/png": "[encoded data removed]"
          },
          "metadata": {}
        },
        {
          "output_type": "execute_result",
          "data": {
            "text/plain": [
              "                       modelo  F1_macro_CV  F1_macro_TEST\n",
              "1  LogReg (OvR) + TFIDF(word)     0.973906       0.963896\n",
              "2     LinearSVC + TFIDF(word)     0.975012       0.963088\n",
              "0           MNB + TFIDF(word)     0.963506       0.942658"
            ],
            "text/html": [
              "\n",
              "  <div id=\"df-912ab41f-0801-4a16-abc9-fedfa8aa833b\" class=\"colab-df-container\">\n",
              "    <div>\n",
              "<style scoped>\n",
              "    .dataframe tbody tr th:only-of-type {\n",
              "        vertical-align: middle;\n",
              "    }\n",
              "\n",
              "    .dataframe tbody tr th {\n",
              "        vertical-align: top;\n",
              "    }\n",
              "\n",
              "    .dataframe thead th {\n",
              "        text-align: right;\n",
              "    }\n",
              "</style>\n",
              "<table border=\"1\" class=\"dataframe\">\n",
              "  <thead>\n",
              "    <tr style=\"text-align: right;\">\n",
              "      <th></th>\n",
              "      <th>modelo</th>\n",
              "      <th>F1_macro_CV</th>\n",
              "      <th>F1_macro_TEST</th>\n",
              "    </tr>\n",
              "  </thead>\n",
              "  <tbody>\n",
              "    <tr>\n",
              "      <th>1</th>\n",
              "      <td>LogReg (OvR) + TFIDF(word)</td>\n",
              "      <td>0.973906</td>\n",
              "      <td>0.963896</td>\n",
              "    </tr>\n",
              "    <tr>\n",
              "      <th>2</th>\n",
              "      <td>LinearSVC + TFIDF(word)</td>\n",
              "      <td>0.975012</td>\n",
              "      <td>0.963088</td>\n",
              "    </tr>\n",
              "    <tr>\n",
              "      <th>0</th>\n",
              "      <td>MNB + TFIDF(word)</td>\n",
              "      <td>0.963506</td>\n",
              "      <td>0.942658</td>\n",
              "    </tr>\n",
              "  </tbody>\n",
              "</table>\n",
              "</div>\n",
              "    <div class=\"colab-df-buttons\">\n",
              "\n",
              "  <div class=\"colab-df-container\">\n",
              "    <button class=\"colab-df-convert\" onclick=\"convertToInteractive('df-912ab41f-0801-4a16-abc9-fedfa8aa833b')\"\n",
              "            title=\"Convert this dataframe to an interactive table.\"\n",
              "            style=\"display:none;\">\n",
              "\n",
              "  <svg xmlns=\"http://www.w3.org/2000/svg\" height=\"24px\" viewBox=\"0 -960 960 960\">\n",
              "    <path d=\"M120-120v-720h720v720H120Zm60-500h600v-160H180v160Zm220 220h160v-160H400v160Zm0 220h160v-160H400v160ZM180-400h160v-160H180v160Zm440 0h160v-160H620v160ZM180-180h160v-160H180v160Zm440 0h160v-160H620v160Z\"/>\n",
              "  </svg>\n",
              "    </button>\n",
              "\n",
              "  <style>\n",
              "    .colab-df-container {\n",
              "      display:flex;\n",
              "      gap: 12px;\n",
              "    }\n",
              "\n",
              "    .colab-df-convert {\n",
              "      background-color: #E8F0FE;\n",
              "      border: none;\n",
              "      border-radius: 50%;\n",
              "      cursor: pointer;\n",
              "      display: none;\n",
              "      fill: #1967D2;\n",
              "      height: 32px;\n",
              "      padding: 0 0 0 0;\n",
              "      width: 32px;\n",
              "    }\n",
              "\n",
              "    .colab-df-convert:hover {\n",
              "      background-color: #E2EBFA;\n",
              "      box-shadow: 0px 1px 2px rgba(60, 64, 67, 0.3), 0px 1px 3px 1px rgba(60, 64, 67, 0.15);\n",
              "      fill: #174EA6;\n",
              "    }\n",
              "\n",
              "    .colab-df-buttons div {\n",
              "      margin-bottom: 4px;\n",
              "    }\n",
              "\n",
              "    [theme=dark] .colab-df-convert {\n",
              "      background-color: #3B4455;\n",
              "      fill: #D2E3FC;\n",
              "    }\n",
              "\n",
              "    [theme=dark] .colab-df-convert:hover {\n",
              "      background-color: #434B5C;\n",
              "      box-shadow: 0px 1px 3px 1px rgba(0, 0, 0, 0.15);\n",
              "      filter: drop-shadow(0px 1px 2px rgba(0, 0, 0, 0.3));\n",
              "      fill: #FFFFFF;\n",
              "    }\n",
              "  </style>\n",
              "\n",
              "    <script>\n",
              "      const buttonEl =\n",
              "        document.querySelector('#df-912ab41f-0801-4a16-abc9-fedfa8aa833b button.colab-df-convert');\n",
              "      buttonEl.style.display =\n",
              "        google.colab.kernel.accessAllowed ? 'block' : 'none';\n",
              "\n",
              "      async function convertToInteractive(key) {\n",
              "        const element = document.querySelector('#df-912ab41f-0801-4a16-abc9-fedfa8aa833b');\n",
              "        const dataTable =\n",
              "          await google.colab.kernel.invokeFunction('convertToInteractive',\n",
              "                                                    [key], {});\n",
              "        if (!dataTable) return;\n",
              "\n",
              "        const docLinkHtml = 'Like what you see? Visit the ' +\n",
              "          '<a target=\"_blank\" href=https://colab.research.google.com/notebooks/data_table.ipynb>data table notebook</a>'\n",
              "          + ' to learn more about interactive tables.';\n",
              "        element.innerHTML = '';\n",
              "        dataTable['output_type'] = 'display_data';\n",
              "        await google.colab.output.renderOutput(dataTable, element);\n",
              "        const docLink = document.createElement('div');\n",
              "        docLink.innerHTML = docLinkHtml;\n",
              "        element.appendChild(docLink);\n",
              "      }\n",
              "    </script>\n",
              "  </div>\n",
              "\n",
              "\n",
              "    <div id=\"df-95c842a1-8417-462a-b994-3c89228ddfa6\">\n",
              "      <button class=\"colab-df-quickchart\" onclick=\"quickchart('df-95c842a1-8417-462a-b994-3c89228ddfa6')\"\n",
              "                title=\"Suggest charts\"\n",
              "                style=\"display:none;\">\n",
              "\n",
              "<svg xmlns=\"http://www.w3.org/2000/svg\" height=\"24px\"viewBox=\"0 0 24 24\"\n",
              "     width=\"24px\">\n",
              "    <g>\n",
              "        <path d=\"M19 3H5c-1.1 0-2 .9-2 2v14c0 1.1.9 2 2 2h14c1.1 0 2-.9 2-2V5c0-1.1-.9-2-2-2zM9 17H7v-7h2v7zm4 0h-2V7h2v10zm4 0h-2v-4h2v4z\"/>\n",
              "    </g>\n",
              "</svg>\n",
              "      </button>\n",
              "\n",
              "<style>\n",
              "  .colab-df-quickchart {\n",
              "      --bg-color: #E8F0FE;\n",
              "      --fill-color: #1967D2;\n",
              "      --hover-bg-color: #E2EBFA;\n",
              "      --hover-fill-color: #174EA6;\n",
              "      --disabled-fill-color: #AAA;\n",
              "      --disabled-bg-color: #DDD;\n",
              "  }\n",
              "\n",
              "  [theme=dark] .colab-df-quickchart {\n",
              "      --bg-color: #3B4455;\n",
              "      --fill-color: #D2E3FC;\n",
              "      --hover-bg-color: #434B5C;\n",
              "      --hover-fill-color: #FFFFFF;\n",
              "      --disabled-bg-color: #3B4455;\n",
              "      --disabled-fill-color: #666;\n",
              "  }\n",
              "\n",
              "  .colab-df-quickchart {\n",
              "    background-color: var(--bg-color);\n",
              "    border: none;\n",
              "    border-radius: 50%;\n",
              "    cursor: pointer;\n",
              "    display: none;\n",
              "    fill: var(--fill-color);\n",
              "    height: 32px;\n",
              "    padding: 0;\n",
              "    width: 32px;\n",
              "  }\n",
              "\n",
              "  .colab-df-quickchart:hover {\n",
              "    background-color: var(--hover-bg-color);\n",
              "    box-shadow: 0 1px 2px rgba(60, 64, 67, 0.3), 0 1px 3px 1px rgba(60, 64, 67, 0.15);\n",
              "    fill: var(--button-hover-fill-color);\n",
              "  }\n",
              "\n",
              "  .colab-df-quickchart-complete:disabled,\n",
              "  .colab-df-quickchart-complete:disabled:hover {\n",
              "    background-color: var(--disabled-bg-color);\n",
              "    fill: var(--disabled-fill-color);\n",
              "    box-shadow: none;\n",
              "  }\n",
              "\n",
              "  .colab-df-spinner {\n",
              "    border: 2px solid var(--fill-color);\n",
              "    border-color: transparent;\n",
              "    border-bottom-color: var(--fill-color);\n",
              "    animation:\n",
              "      spin 1s steps(1) infinite;\n",
              "  }\n",
              "\n",
              "  @keyframes spin {\n",
              "    0% {\n",
              "      border-color: transparent;\n",
              "      border-bottom-color: var(--fill-color);\n",
              "      border-left-color: var(--fill-color);\n",
              "    }\n",
              "    20% {\n",
              "      border-color: transparent;\n",
              "      border-left-color: var(--fill-color);\n",
              "      border-top-color: var(--fill-color);\n",
              "    }\n",
              "    30% {\n",
              "      border-color: transparent;\n",
              "      border-left-color: var(--fill-color);\n",
              "      border-top-color: var(--fill-color);\n",
              "      border-right-color: var(--fill-color);\n",
              "    }\n",
              "    40% {\n",
              "      border-color: transparent;\n",
              "      border-right-color: var(--fill-color);\n",
              "      border-top-color: var(--fill-color);\n",
              "    }\n",
              "    60% {\n",
              "      border-color: transparent;\n",
              "      border-right-color: var(--fill-color);\n",
              "    }\n",
              "    80% {\n",
              "      border-color: transparent;\n",
              "      border-right-color: var(--fill-color);\n",
              "      border-bottom-color: var(--fill-color);\n",
              "    }\n",
              "    90% {\n",
              "      border-color: transparent;\n",
              "      border-bottom-color: var(--fill-color);\n",
              "    }\n",
              "  }\n",
              "</style>\n",
              "\n",
              "      <script>\n",
              "        async function quickchart(key) {\n",
              "          const quickchartButtonEl =\n",
              "            document.querySelector('#' + key + ' button');\n",
              "          quickchartButtonEl.disabled = true;  // To prevent multiple clicks.\n",
              "          quickchartButtonEl.classList.add('colab-df-spinner');\n",
              "          try {\n",
              "            const charts = await google.colab.kernel.invokeFunction(\n",
              "                'suggestCharts', [key], {});\n",
              "          } catch (error) {\n",
              "            console.error('Error during call to suggestCharts:', error);\n",
              "          }\n",
              "          quickchartButtonEl.classList.remove('colab-df-spinner');\n",
              "          quickchartButtonEl.classList.add('colab-df-quickchart-complete');\n",
              "        }\n",
              "        (() => {\n",
              "          let quickchartButtonEl =\n",
              "            document.querySelector('#df-95c842a1-8417-462a-b994-3c89228ddfa6 button');\n",
              "          quickchartButtonEl.style.display =\n",
              "            google.colab.kernel.accessAllowed ? 'block' : 'none';\n",
              "        })();\n",
              "      </script>\n",
              "    </div>\n",
              "\n",
              "  <div id=\"id_cfd91ffb-0598-46f1-a5f1-ef76a309fd9d\">\n",
              "    <style>\n",
              "      .colab-df-generate {\n",
              "        background-color: #E8F0FE;\n",
              "        border: none;\n",
              "        border-radius: 50%;\n",
              "        cursor: pointer;\n",
              "        display: none;\n",
              "        fill: #1967D2;\n",
              "        height: 32px;\n",
              "        padding: 0 0 0 0;\n",
              "        width: 32px;\n",
              "      }\n",
              "\n",
              "      .colab-df-generate:hover {\n",
              "        background-color: #E2EBFA;\n",
              "        box-shadow: 0px 1px 2px rgba(60, 64, 67, 0.3), 0px 1px 3px 1px rgba(60, 64, 67, 0.15);\n",
              "        fill: #174EA6;\n",
              "      }\n",
              "\n",
              "      [theme=dark] .colab-df-generate {\n",
              "        background-color: #3B4455;\n",
              "        fill: #D2E3FC;\n",
              "      }\n",
              "\n",
              "      [theme=dark] .colab-df-generate:hover {\n",
              "        background-color: #434B5C;\n",
              "        box-shadow: 0px 1px 3px 1px rgba(0, 0, 0, 0.15);\n",
              "        filter: drop-shadow(0px 1px 2px rgba(0, 0, 0, 0.3));\n",
              "        fill: #FFFFFF;\n",
              "      }\n",
              "    </style>\n",
              "    <button class=\"colab-df-generate\" onclick=\"generateWithVariable('comparativo')\"\n",
              "            title=\"Generate code using this dataframe.\"\n",
              "            style=\"display:none;\">\n",
              "\n",
              "  <svg xmlns=\"http://www.w3.org/2000/svg\" height=\"24px\"viewBox=\"0 0 24 24\"\n",
              "       width=\"24px\">\n",
              "    <path d=\"M7,19H8.4L18.45,9,17,7.55,7,17.6ZM5,21V16.75L18.45,3.32a2,2,0,0,1,2.83,0l1.4,1.43a1.91,1.91,0,0,1,.58,1.4,1.91,1.91,0,0,1-.58,1.4L9.25,21ZM18.45,9,17,7.55Zm-12,3A5.31,5.31,0,0,0,4.9,8.1,5.31,5.31,0,0,0,1,6.5,5.31,5.31,0,0,0,4.9,4.9,5.31,5.31,0,0,0,6.5,1,5.31,5.31,0,0,0,8.1,4.9,5.31,5.31,0,0,0,12,6.5,5.46,5.46,0,0,0,6.5,12Z\"/>\n",
              "  </svg>\n",
              "    </button>\n",
              "    <script>\n",
              "      (() => {\n",
              "      const buttonEl =\n",
              "        document.querySelector('#id_cfd91ffb-0598-46f1-a5f1-ef76a309fd9d button.colab-df-generate');\n",
              "      buttonEl.style.display =\n",
              "        google.colab.kernel.accessAllowed ? 'block' : 'none';\n",
              "\n",
              "      buttonEl.onclick = () => {\n",
              "        google.colab.notebook.generateWithVariable('comparativo');\n",
              "      }\n",
              "      })();\n",
              "    </script>\n",
              "  </div>\n",
              "\n",
              "    </div>\n",
              "  </div>\n"
            ],
            "application/vnd.google.colaboratory.intrinsic+json": {
              "type": "dataframe",
              "variable_name": "comparativo",
              "summary": "{\n  \"name\": \"comparativo\",\n  \"rows\": 3,\n  \"fields\": [\n    {\n      \"column\": \"modelo\",\n      \"properties\": {\n        \"dtype\": \"string\",\n        \"num_unique_values\": 3,\n        \"samples\": [\n          \"LogReg (OvR) + TFIDF(word)\",\n          \"LinearSVC + TFIDF(word)\",\n          \"MNB + TFIDF(word)\"\n        ],\n        \"semantic_type\": \"\",\n        \"description\": \"\"\n      }\n    },\n    {\n      \"column\": \"F1_macro_CV\",\n      \"properties\": {\n        \"dtype\": \"number\",\n        \"std\": 0.006347704567459474,\n        \"min\": 0.9635064393173423,\n        \"max\": 0.9750123848032516,\n        \"num_unique_values\": 3,\n        \"samples\": [\n          0.9739059132906529,\n          0.9750123848032516,\n          0.9635064393173423\n        ],\n        \"semantic_type\": \"\",\n        \"description\": \"\"\n      }\n    },\n    {\n      \"column\": \"F1_macro_TEST\",\n      \"properties\": {\n        \"dtype\": \"number\",\n        \"std\": 0.012035348055749517,\n        \"min\": 0.9426579740406235,\n        \"max\": 0.9638962166856646,\n        \"num_unique_values\": 3,\n        \"samples\": [\n          0.9638962166856646,\n          0.9630878851112666,\n          0.9426579740406235\n        ],\n        \"semantic_type\": \"\",\n        \"description\": \"\"\n      }\n    }\n  ]\n}"
            }
          },
          "metadata": {},
          "execution_count": 75
        }
      ],
      "source": [
        "results = []\n",
        "\n",
        "# --- MNB ---\n",
        "mnb_pipe = Pipeline([(\"tfidf\", TFIDF_WORD), (\"clf\", MultinomialNB())])\n",
        "mnb_grid = {\n",
        "    \"tfidf__min_df\": [2, 3, 5],\n",
        "    \"clf__alpha\": [0.1, 0.3, 0.7, 1.0],\n",
        "}\n",
        "mnb_gs = GridSearchCV(\n",
        "    mnb_pipe, mnb_grid, cv=cv, scoring=\"f1_macro\",\n",
        "    n_jobs=-1, verbose=0\n",
        ")\n",
        "mnb_gs.fit(X_train, y_train)\n",
        "res_mnb = summarize_results(\"MNB + TFIDF(word)\", mnb_gs, X_test, y_test)\n",
        "results.append(res_mnb)\n",
        "\n",
        "# --- Matriz de confusión para MNB ---\n",
        "y_pred_mnb = mnb_gs.predict(X_test)\n",
        "plot_confusion_matrix(\n",
        "    y_test, y_pred_mnb,\n",
        "    labels=mnb_gs.best_estimator_.named_steps['clf'].classes_,\n",
        "    title=\"Matriz de Confusión - MNB\"\n",
        ")\n",
        "\n",
        "# --- Regresión Logística (OvR) ---\n",
        "lr_pipe = Pipeline([(\"tfidf\", TFIDF_WORD), (\"clf\", LogisticRegression(max_iter=2000))])\n",
        "lr_grid = {\n",
        "    \"tfidf__min_df\": [2, 3, 5],\n",
        "    \"clf__C\": [0.5, 1, 2, 4],\n",
        "    \"clf__class_weight\": [\"balanced\"],\n",
        "    \"clf__penalty\": [\"l2\"],\n",
        "    \"clf__solver\": [\"liblinear\", \"lbfgs\"],\n",
        "}\n",
        "lr_gs = GridSearchCV(\n",
        "    lr_pipe, lr_grid, cv=cv, scoring=\"f1_macro\",\n",
        "    n_jobs=-1, verbose=0\n",
        ")\n",
        "lr_gs.fit(X_train, y_train)\n",
        "res_lr = summarize_results(\"LogReg (OvR) + TFIDF(word)\", lr_gs, X_test, y_test)\n",
        "results.append(res_lr)\n",
        "\n",
        "# --- Matriz de confusión para Regresión Logística ---\n",
        "y_pred_lr = lr_gs.predict(X_test)\n",
        "plot_confusion_matrix(\n",
        "    y_test, y_pred_lr,\n",
        "    labels=lr_gs.best_estimator_.named_steps['clf'].classes_,\n",
        "    title=\"Matriz de Confusión - LogReg\"\n",
        ")\n",
        "\n",
        "# --- LinearSVC ---\n",
        "svm_pipe = Pipeline([(\"tfidf\", TFIDF_WORD), (\"clf\", LinearSVC())])\n",
        "svm_grid = {\n",
        "    \"tfidf__min_df\": [2, 3, 5],\n",
        "    \"clf__C\": [0.5, 1, 2, 4],\n",
        "    \"clf__class_weight\": [\"balanced\"],\n",
        "}\n",
        "svm_gs = GridSearchCV(\n",
        "    svm_pipe, svm_grid, cv=cv, scoring=\"f1_macro\",\n",
        "    n_jobs=-1, verbose=0\n",
        ")\n",
        "svm_gs.fit(X_train, y_train)\n",
        "res_svm = summarize_results(\"LinearSVC + TFIDF(word)\", svm_gs, X_test, y_test)\n",
        "results.append(res_svm)\n",
        "\n",
        "# --- Matriz de confusión para LinearSVC ---\n",
        "y_pred_svm = svm_gs.predict(X_test)\n",
        "plot_confusion_matrix(\n",
        "    y_test, y_pred_svm,\n",
        "    labels=svm_gs.best_estimator_.named_steps['clf'].classes_,\n",
        "    title=\"Matriz de Confusión - LinearSVC\"\n",
        ")\n",
        "\n",
        "# Resumen comparativo por F1-macro (TEST)\n",
        "comparativo = pd.DataFrame([{\n",
        "    \"modelo\": r.name,\n",
        "    \"F1_macro_CV\": r.f1_macro_cv,\n",
        "    \"F1_macro_TEST\": r.f1_macro_test\n",
        "} for r in results]).sort_values(\"F1_macro_TEST\", ascending=False)\n",
        "comparativo\n"
      ]
    },
    {
      "cell_type": "markdown",
      "metadata": {
        "id": "eHG3OPzNoH3d"
      },
      "source": [
        "## Resultados\n",
        "### Comparación de métricas clave\n",
        "\n",
        "MNB + TFIDF:\n",
        "- F1-macro en validación: 0.9635\n",
        "- F1-macro en test: 0.9427\n",
        "- Buen desempeño general, aunque con ligera caída de rendimiento al aplicarse en datos nuevos.\n",
        "\n",
        "Regresión Logística + TFIDF:\n",
        "- F1-macro en validación: 0.9739\n",
        "- F1-macro en test: 0.9639\n",
        "- Excelente balance entre precisión y recall en todas las clases, con mejor estabilidad entre validación y test.\n",
        "\n",
        "LinearSVC + TFIDF:\n",
        "- F1-macro en validación: 0.9750\n",
        "- F1-macro en test: 0.9631\n",
        "- Rendimiento muy similar a la Regresión Logística, con resultados consistentes y robustos en test.\n",
        "### Análisis de métricas por clase (ODS)\n",
        "\n",
        "ODS 1 (Fin de la pobreza):\n",
        "Todos los modelos superan el 90% de F1-score, mostrando que las expresiones relacionadas con pobreza y desigualdad son detectadas con alta confiabilidad.\n",
        "\n",
        "ODS 3 (Salud y bienestar):\n",
        "Desempeño estable, con recall cercano al 95%, lo que significa que casi todas las opiniones sobre salud son identificadas correctamente.\n",
        "\n",
        "ODS 4 (Educación de calidad):\n",
        "Consistentemente el mejor desempeño, con F1 cercano a 97%, lo que indica que las problemáticas sobre educación son las más fáciles de clasificar.\n",
        "### Interpretación para la organización\n",
        "\n",
        "Métricas de calidad (F1, precisión y recall):\n",
        "Estas métricas muestran que el modelo logra clasificar correctamente entre 94% y 96% de las opiniones, lo cual es un nivel muy alto para tareas de Procesamiento de Lenguaje Natural (PLN).\n",
        "\n",
        "Impacto en los objetivos del negocio:\n",
        "- Permite automatizar con alta confiabilidad la clasificación de la voz ciudadana según los ODS 1, 3 y 4.\n",
        "- Facilita que el UNFPA y las entidades asociadas puedan priorizar políticas públicas basadas en evidencia de manera rápida y precisa.\n",
        "- Reduce la dependencia de análisis manuales costosos y lentos, acelerando la retroalimentación hacia comunidades y gobiernos locales.\n",
        "### Conclusión\n",
        "\n",
        "Tanto Regresión Logística como LinearSVC se consolidan como los mejores modelos, con métricas muy similares y superiores al Naive Bayes.\n",
        "\n",
        "La Regresión Logística + TFIDF se perfila como la opción más adecuada para despliegue inicial, dado su alto rendimiento, estabilidad y facilidad de interpretación.\n",
        "\n",
        "Estos resultados son de confianza para la organización para usar el modelo en un entorno real, sabiendo que aportará decisiones informadas y alineadas con los ODS."
      ]
    },
    {
      "cell_type": "markdown",
      "metadata": {
        "id": "IclyudYWOszx"
      },
      "source": [
        "## Seleccionar el mejor modelo y explicar términos top"
      ]
    },
    {
      "cell_type": "code",
      "execution_count": null,
      "metadata": {
        "id": "GNnWaDS7MUeP",
        "colab": {
          "base_uri": "https://localhost:8080/"
        },
        "outputId": "d0dc13ea-a993-4685-fa5c-fdfec59daa88"
      },
      "outputs": [
        {
          "output_type": "stream",
          "name": "stdout",
          "text": [
            "\n",
            "Top términos clase 1:\n",
            "de ingresos, infantil, transferencias, pobreza infantil, crecimiento, niños, empleo, los hogares, hogar, protección, privación, protección social, los pobres, hogares, ingresos, social, pobres, de pobreza, la pobreza, pobreza\n",
            "\n",
            "Top términos clase 3:\n",
            "enfermedad, servicios, médica, hospitales, alcohol, salud mental, atención primaria, tratamiento, mortalidad, los pacientes, mental, la atención, de atención, enfermedades, la salud, médicos, pacientes, atención, de salud, salud\n",
            "\n",
            "Top términos clase 4:\n",
            "los docentes, escolares, formación, de aprendizaje, profesores, los alumnos, habilidades, de educación, escolar, enseñanza, escuela, docentes, alumnos, las escuelas, aprendizaje, los estudiantes, la educación, escuelas, estudiantes, educación\n"
          ]
        }
      ],
      "source": [
        "# Elegir por F1_macro_TEST\n",
        "best = max(results, key=lambda r: r.f1_macro_test)\n",
        "best.name, best.f1_macro_cv, best.f1_macro_test\n",
        "\n",
        "best_est = best.gridsearch_.best_estimator_\n",
        "vec = best_est.named_steps[\"tfidf\"]\n",
        "\n",
        "# Importancia de términos para LR/SVM (coeficientes); para MNB usamos log prob.\n",
        "def show_top_terms(best_estimator, topn=20):\n",
        "    clf = best_estimator.named_steps[\"clf\"]\n",
        "    feature_names = np.array(vec.get_feature_names_out())\n",
        "    if isinstance(clf, (LogisticRegression, LinearSVC)):\n",
        "        # One-vs-Rest: coef_ por clase\n",
        "        classes = clf.classes_\n",
        "        coefs = clf.coef_\n",
        "        for i, cls in enumerate(classes):\n",
        "            idx = np.argsort(coefs[i])[-topn:]\n",
        "            print(f\"\\nTop términos clase {cls}:\")\n",
        "            print(\", \".join(feature_names[idx]))\n",
        "    elif isinstance(clf, MultinomialNB):\n",
        "        classes = clf.classes_\n",
        "        log_prob = clf.feature_log_prob_\n",
        "        for i, cls in enumerate(classes):\n",
        "            idx = np.argsort(log_prob[i])[-topn:]\n",
        "            print(f\"\\nTop términos clase {cls}:\")\n",
        "            print(\", \".join(feature_names[idx]))\n",
        "    else:\n",
        "        print(\"Explicabilidad rápida no implementada para este clasificador.\")\n",
        "\n",
        "show_top_terms(best_est, topn=20)"
      ]
    },
    {
      "cell_type": "markdown",
      "metadata": {
        "id": "YpEMJR34rgTJ"
      },
      "source": [
        "## Análisis de términos y estrategias por ODS\n",
        "### ODS 1 – Fin de la pobreza\n",
        "\n",
        "Para el ODS 1 se identificaron los siguientes términos clave: ingresos, infantil, transferencias, pobreza infantil, crecimiento, empleo, hogares, protección social, privación, pobres.\n",
        "\n",
        "Esto se puede interpretar en cómo las opiniones ciudadanas se centran en la falta de ingresos, la vulnerabilidad infantil y la necesidad de protección social. Esto refleja preocupación por seguridad económica básica y apoyo a hogares en situación de pobreza.\n",
        "\n",
        "Teniendo esto en cuenta, algunas estrategias para la organización pueden ser:\n",
        "- Diseñar e impulsar programas de transferencias condicionadas para familias con niños en edad escolar.\n",
        "- Crear alianzas con entidades públicas y privadas para fomentar el empleo inclusivo.\n",
        "- Implementar sistemas de monitoreo de pobreza infantil con indicadores claros.\n",
        "\n",
        "Esta información permite priorizar recursos en programas sociales de impacto directo, alineados con la demanda ciudadana real y con alto potencial de legitimidad social.\n",
        "\n",
        "### ODS 3 – Salud y bienestar\n",
        "Para el ODS 3 se identificaron los siguientes términos clave: enfermedad, servicios médicos, hospitales, salud mental, atención primaria, tratamiento, mortalidad, pacientes, médicos, atención.\n",
        "\n",
        "Esto se puede interpretar en los ciudadanos que exigen mejor cobertura y calidad en servicios de salud, con énfasis en atención primaria, salud mental y acceso a tratamientos.\n",
        "\n",
        "Teniendo esto en cuenta, algunas estrategias para la organización pueden ser:\n",
        "- Plantear programas de fortalecimiento en salud mental comunitaria, dada la alta frecuencia del término.\n",
        "- Optimizar redes hospitalarias y de atención primaria para reducir mortalidad y mejorar tiempos de respuesta.\n",
        "- Promover campañas de prevención frente al alcohol y enfermedades crónicas.\n",
        "\n",
        "Los hallazgos permiten a la organización identificar brechas críticas en la cobertura sanitaria y anticipar políticas públicas más inclusivas, especialmente en salud mental, donde la percepción ciudadana es más fuerte.\n",
        "\n",
        "### ODS 4 – Educación de calidad\n",
        "Para el ODS 4 se identificaron los siguientes términos clave:docentes, escolares, aprendizaje, profesores, alumnos, enseñanza, escuela, habilidades, estudiantes, educación.\n",
        "\n",
        "Esto se puede interpretar en cómo la ciudadanía relaciona directamente la calidad educativa con los docentes y su formación, además de la importancia de las habilidades escolares y la infraestructura educativa.\n",
        "\n",
        "Teniendo esto en cuenta, algunas estrategias para la organización pueden ser:\n",
        "- Impulsar programas de capacitación docente continua, enfocados en innovación pedagógica y competencias digitales.\n",
        "- Invertir en infraestructura escolar moderna y accesible para estudiantes de bajos recursos.\n",
        "- Desarrollar proyectos de acompañamiento escolar para reforzar habilidades básicas.\n",
        "\n",
        "Este análisis ayuda a enfocar recursos en el factor docente y la formación de habilidades, que son los ejes señalados por la propia comunidad como determinantes para una educación de calidad."
      ]
    },
    {
      "cell_type": "markdown",
      "metadata": {
        "id": "02wCJUtYWvr-"
      },
      "source": [
        "Cargar Datos de prueba, predecir con el mejor modelo y guardar Excel:"
      ]
    },
    {
      "cell_type": "code",
      "execution_count": null,
      "metadata": {
        "id": "JSGM1SiSMXPl",
        "colab": {
          "base_uri": "https://localhost:8080/",
          "height": 36
        },
        "outputId": "bab4446a-68bd-41e6-ae12-f7102c8b4a82"
      },
      "outputs": [
        {
          "output_type": "execute_result",
          "data": {
            "text/plain": [
              "'/content/drive/MyDrive/Datos_prueba_etiquetado.xlsx'"
            ],
            "application/vnd.google.colaboratory.intrinsic+json": {
              "type": "string"
            }
          },
          "metadata": {},
          "execution_count": 77
        }
      ],
      "source": [
        "test_path = \"/content/drive/MyDrive/Datos de prueba_proyecto.xlsx\"\n",
        "\n",
        "df_prueba = pd.read_excel(test_path, sheet_name=0)\n",
        "if \"Textos_espanol\" not in df_prueba.columns:\n",
        "    raise ValueError(\"En el archivo de prueba no existe la columna 'textos'. Renómbrala o ajusta el código.\")\n",
        "\n",
        "df_prueba = df_prueba.copy()\n",
        "df_prueba[\"Textos_espanol\"] = df_prueba[\"Textos_espanol\"].astype(str).map(clean_text)\n",
        "\n",
        "y_pred_prueba = best_est.predict(df_prueba[\"Textos_espanol\"])\n",
        "# Columna de salida: 'prediccion_ods'\n",
        "df_prueba[\"prediccion_ods\"] = y_pred_prueba\n",
        "\n",
        "out_path = \"/content/drive/MyDrive/Datos_prueba_etiquetado.xlsx\"\n",
        "df_prueba.to_excel(out_path, index=False, engine=\"openpyxl\")\n",
        "out_path\n"
      ]
    },
    {
      "cell_type": "code",
      "execution_count": null,
      "metadata": {
        "id": "SlhGC6iiMfBt",
        "colab": {
          "base_uri": "https://localhost:8080/"
        },
        "outputId": "741edbd9-6d32-420e-b865-309bbe40f2c5"
      },
      "outputs": [
        {
          "output_type": "execute_result",
          "data": {
            "text/plain": [
              "True"
            ]
          },
          "metadata": {},
          "execution_count": 78
        }
      ],
      "source": [
        "import joblib\n",
        "\n",
        "model_dir = Path(\"/content/drive/MyDrive/modelos_proy1\")\n",
        "model_dir.mkdir(parents=True, exist_ok=True)\n",
        "\n",
        "joblib.dump(best_est, model_dir / \"mejor_modelo_tfidf.joblib\")\n",
        "(joblib.load(model_dir / \"mejor_modelo_tfidf.joblib\") is not None)\n"
      ]
    },
    {
      "cell_type": "code",
      "execution_count": null,
      "metadata": {
        "id": "KkaW1WWU99Nr",
        "colab": {
          "base_uri": "https://localhost:8080/",
          "height": 1000
        },
        "outputId": "62fe82cd-cf04-48dd-e67a-71e75d93099c"
      },
      "outputs": [
        {
          "output_type": "display_data",
          "data": {
            "text/plain": [
              "<Figure size 800x600 with 1 Axes>"
            ],
            "image/png": "[encoded data removed]"
          },
          "metadata": {}
        },
        {
          "output_type": "display_data",
          "data": {
            "text/plain": [
              "<Figure size 800x600 with 1 Axes>"
            ],
            "image/png": "[encoded data removed]"
          },
          "metadata": {}
        },
        {
          "output_type": "display_data",
          "data": {
            "text/plain": [
              "<Figure size 800x600 with 1 Axes>"
            ],
            "image/png": "[encoded data removed]"
          },
          "metadata": {}
        }
      ],
      "source": [
        "import matplotlib.pyplot as plt\n",
        "import numpy as np\n",
        "\n",
        "def plot_top_terms(best_estimator, topn=5):\n",
        "    vec = best_estimator.named_steps[\"tfidf\"]\n",
        "    clf = best_estimator.named_steps[\"clf\"]\n",
        "    feature_names = np.array(vec.get_feature_names_out())\n",
        "\n",
        "    if isinstance(clf, (LogisticRegression, LinearSVC)):\n",
        "        # Tomamos la primera clase (puedes iterar si quieres todas)\n",
        "        classes = clf.classes_\n",
        "        for i, cls in enumerate(classes):\n",
        "            coefs = clf.coef_[i]\n",
        "            idx = np.argsort(coefs)[-topn:]  # top positivos\n",
        "            plt.figure(figsize=(8, 6))\n",
        "            plt.barh(range(topn), coefs[idx], align=\"center\")\n",
        "            plt.yticks(range(topn), feature_names[idx])\n",
        "            plt.title(f\"Top {topn} términos para clase '{cls}'\")\n",
        "            plt.xlabel(\"Importancia (coeficiente)\")\n",
        "            plt.tight_layout()\n",
        "            plt.show()\n",
        "\n",
        "    elif isinstance(clf, MultinomialNB):\n",
        "        classes = clf.classes_\n",
        "        for i, cls in enumerate(classes):\n",
        "            log_prob = clf.feature_log_prob_[i]\n",
        "            idx = np.argsort(log_prob)[-topn:]\n",
        "            plt.figure(figsize=(8, 6))\n",
        "            plt.barh(range(topn), log_prob[idx], align=\"center\")\n",
        "            plt.yticks(range(topn), feature_names[idx])\n",
        "            plt.title(f\"Top {topn} términos para clase '{cls}'\")\n",
        "            plt.xlabel(\"Importancia (log prob)\")\n",
        "            plt.tight_layout()\n",
        "            plt.show()\n",
        "    else:\n",
        "        print(\"Explicabilidad rápida no implementada para este clasificador.\")\n",
        "\n",
        "# Llamar a la función\n",
        "plot_top_terms(best_est, topn=5)\n"
      ]
    },
    {
      "cell_type": "code",
      "execution_count": null,
      "metadata": {
        "id": "xcYU437d-mmQ",
        "colab": {
          "base_uri": "https://localhost:8080/",
          "height": 818
        },
        "outputId": "daed4d39-389f-4a76-deb3-78f64637d8ba"
      },
      "outputs": [
        {
          "output_type": "display_data",
          "data": {
            "text/plain": [
              "<Figure size 500x500 with 1 Axes>"
            ],
            "image/png": "[encoded data removed]"
          },
          "metadata": {}
        },
        {
          "output_type": "display_data",
          "data": {
            "text/plain": [
              "<Figure size 600x400 with 1 Axes>"
            ],
            "image/png": "[encoded data removed]"
          },
          "metadata": {}
        }
      ],
      "source": [
        "# Conteo de opiniones por ODS\n",
        "conteo = df_texto[\"labels\"].value_counts()\n",
        "\n",
        "# Gráfico de torta\n",
        "plt.figure(figsize=(5, 5))\n",
        "plt.pie(conteo, labels=conteo.index, autopct='%1.1f%%',\n",
        "        colors=[\"#e41a1c\", \"#377eb8\", \"#4daf4a\"], startangle=90)\n",
        "plt.title(\"Distribución de opiniones por ODS\")\n",
        "plt.show()\n",
        "\n",
        "# Gráfico de barras (alternativo si prefieres más formal que torta)\n",
        "plt.figure(figsize=(6, 4))\n",
        "plt.bar(conteo.index, conteo.values, color=[\"#e41a1c\", \"#377eb8\", \"#4daf4a\"])\n",
        "plt.ylabel(\"Número de opiniones\")\n",
        "plt.title(\"Distribución de opiniones por ODS\")\n",
        "plt.show()\n"
      ]
    },
    {
      "cell_type": "code",
      "execution_count": null,
      "metadata": {
        "id": "wzddTgiN-o5y",
        "colab": {
          "base_uri": "https://localhost:8080/"
        },
        "outputId": "648c1e63-33fd-44b3-886a-955e4a91ba6c"
      },
      "outputs": [
        {
          "output_type": "stream",
          "name": "stdout",
          "text": [
            "Ejemplos de clasificación del modelo:\n",
            "\n",
            "Texto: por lo general se entiende que los trastornos de leves a moderados no requieren tratamientos altamente especializados administrados por psiquiatras o en entornos hospitalarios en la gran mayoría de los casos en cambio en la mayoría de los países de la ocde los médicos de atención primaria asumen un papel de liderazgo en el tratamiento de trastornos leves a moderados ver tabla cuando la provisión a nivel de atención primaria para los trastornos leves a moderados está respaldada por una buena capacitación tanto durante la capacitación médica como como parte de la educación médica continua por el apoyo de profesionales especialistas en atención de la salud mental y redes de apoyo y por buenas opciones de derivación si un paciente necesita acceder a un nivel de atención más especializado puede ser una forma muy eficaz de brindar atención a un gran número de pacientes\n",
            "ODS Real: 3\n",
            "--------------------------------------------------------------------------------\n",
            "Texto: en la mayoría de los contratos el objetivo es llegar a cuatro o cinco pacientes por hora cumpliendo también con los estándares de calidad especificados en la encuesta nacional de salud de por ejemplo el de la población reportó obtener servicios de salud del sector privado al menos una vez al año independientemente de su cobertura bajo la ccss en el de los encuestados afirmó que prefería proveedores privados de atención médica gutiérrez\n",
            "ODS Real: 3\n",
            "--------------------------------------------------------------------------------\n",
            "Texto: las tasas de consumo de alcohol y tabaquismo no han disminuido y se encuentran entre las más altas de la ue las tasas de obesidad aunque siguen siendo más bajas que en muchos otros países de la ue están aumentando tanto en adultos como en adolescentes alentadoramente las tasas de tabaquismo entre los adolescentes disminuyeron en los últimos años y austria finalmente se está poniendo al día con otros países de la ue en términos de políticas para la protección de los no fumadores por ejemplo mediante la introducción de una prohibición total de fumar en restaurantes y bares se pusieron en marcha planes nacionales de acción sobre nutrición y actividad física para contrarrestar el aumento de la obesidad\n",
            "ODS Real: 3\n",
            "--------------------------------------------------------------------------------\n",
            "Texto: hubo una disminución constante en el porcentaje de estudiantes que afirmaron un alto nivel de satisfacción con la vida con proporciones más bajas para las niñas en comparación con los niños para cada año de administración de la encuesta con la excepción de una tendencia notable que surgió del análisis de los datos fue la asociación entre un fuerte apoyo social particularmente el apoyo familiar y una alta satisfacción con la vida este hallazgo subraya el papel fundamental que desempeñan las relaciones positivas y las redes sociales sólidas para contribuir y mejorar el bienestar psicológico de los estudiantes morrison y peterson págs\n",
            "ODS Real: 4\n",
            "--------------------------------------------------------------------------------\n",
            "Texto: la oferta insuficiente de programas vocacionales de alta calidad y lugares de estudio de educación terciaria obstaculiza la formación y el crecimiento del capital humano estabilizar y simplificar la educación vocacional al enfocarse más en aprendizajes de alta calidad apoyaría la participación el gobierno necesita encontrar medidas eficientes para aumentar la participación especialmente entre los niños de familias de bajos ingresos para reemplazar el subsidio de mantenimiento educativo abolido reformas adicionales a la financiación de la educación superior podrían reducir los costos de los contribuyentes y ayudar a financiar una expansión necesaria en el sector the implications of school fundingâ cfbt education trust research paper medición de la variación en la efectividad de los maestros en inglaterra documento de trabajo del centro para el mercado y la organización pública universidad de bristol\n",
            "ODS Real: 4\n",
            "--------------------------------------------------------------------------------\n"
          ]
        }
      ],
      "source": [
        "# Tomar algunas muestras de opiniones y sus predicciones\n",
        "ejemplos = df_texto.sample(5, random_state=42)[[\"textos\", \"labels\"]]\n",
        "\n",
        "print(\"Ejemplos de clasificación del modelo:\\n\")\n",
        "for i, fila in ejemplos.iterrows():\n",
        "    print(f\"Texto: {fila['textos']}\")\n",
        "    print(f\"ODS Real: {fila['labels']}\")\n",
        "    print(\"-\" * 80)\n"
      ]
    },
    {
      "cell_type": "code",
      "source": [
        "from sklearn.metrics import f1_score, r2_score\n",
        "\n",
        "def evaluar_modelo(nombre, gridsearch, X_test, y_test):\n",
        "    y_pred = gridsearch.predict(X_test)\n",
        "\n",
        "    f1_macro = f1_score(y_test, y_pred, average=\"macro\")\n",
        "    f1_micro = f1_score(y_test, y_pred, average=\"micro\")\n",
        "    f1_weighted = f1_score(y_test, y_pred, average=\"weighted\")\n",
        "    f1_clases = f1_score(y_test, y_pred, average=None)\n",
        "\n",
        "    r2 = r2_score(y_test, y_pred)\n",
        "\n",
        "    return {\n",
        "        \"modelo\": nombre,\n",
        "        \"F1_macro\": f1_macro,\n",
        "        \"F1_micro\": f1_micro,\n",
        "        \"F1_weighted\": f1_weighted,\n",
        "        \"F1_por_clase\": dict(zip(gridsearch.best_estimator_.named_steps[\"clf\"].classes_, f1_clases)),\n",
        "        \"R2\": r2\n",
        "    }\n",
        "\n",
        "# Evaluar los tres modelos\n",
        "resumen_metricas = []\n",
        "resumen_metricas.append(evaluar_modelo(\"MNB\", mnb_gs, X_test, y_test))\n",
        "resumen_metricas.append(evaluar_modelo(\"Logistic Regression\", lr_gs, X_test, y_test))\n",
        "resumen_metricas.append(evaluar_modelo(\"LinearSVC\", svm_gs, X_test, y_test))\n",
        "\n",
        "# Pasar a DataFrame para ver comparativo\n",
        "df_metricas = pd.DataFrame([{\n",
        "    \"Modelo\": r[\"modelo\"],\n",
        "    \"F1_macro\": r[\"F1_macro\"],\n",
        "    \"F1_micro\": r[\"F1_micro\"],\n",
        "    \"F1_weighted\": r[\"F1_weighted\"],\n",
        "    \"R2\": r[\"R2\"]\n",
        "} for r in resumen_metricas])\n",
        "\n",
        "display(df_metricas)\n",
        "\n",
        "# Si quieres también ver F1 por clase:\n",
        "for r in resumen_metricas:\n",
        "    print(f\"\\nModelo: {r['modelo']}\")\n",
        "    for cls, score in r[\"F1_por_clase\"].items():\n",
        "        print(f\"  Clase {cls}: F1 = {score:.3f}\")\n"
      ],
      "metadata": {
        "colab": {
          "base_uri": "https://localhost:8080/",
          "height": 404
        },
        "id": "ITlmKvk-IKP1",
        "outputId": "3fa9e880-4ec3-4ff7-b0b1-df1d6e18b899"
      },
      "execution_count": null,
      "outputs": [
        {
          "output_type": "display_data",
          "data": {
            "text/plain": [
              "                Modelo  F1_macro  F1_micro  F1_weighted        R2\n",
              "0                  MNB  0.942658  0.948454     0.948302  0.817728\n",
              "1  Logistic Regression  0.963896  0.964948     0.964904  0.908043\n",
              "2            LinearSVC  0.963088  0.964948     0.964904  0.903117"
            ],
            "text/html": [
              "\n",
              "  <div id=\"df-873a073e-ec50-4f12-8809-919567ebe4a6\" class=\"colab-df-container\">\n",
              "    <div>\n",
              "<style scoped>\n",
              "    .dataframe tbody tr th:only-of-type {\n",
              "        vertical-align: middle;\n",
              "    }\n",
              "\n",
              "    .dataframe tbody tr th {\n",
              "        vertical-align: top;\n",
              "    }\n",
              "\n",
              "    .dataframe thead th {\n",
              "        text-align: right;\n",
              "    }\n",
              "</style>\n",
              "<table border=\"1\" class=\"dataframe\">\n",
              "  <thead>\n",
              "    <tr style=\"text-align: right;\">\n",
              "      <th></th>\n",
              "      <th>Modelo</th>\n",
              "      <th>F1_macro</th>\n",
              "      <th>F1_micro</th>\n",
              "      <th>F1_weighted</th>\n",
              "      <th>R2</th>\n",
              "    </tr>\n",
              "  </thead>\n",
              "  <tbody>\n",
              "    <tr>\n",
              "      <th>0</th>\n",
              "      <td>MNB</td>\n",
              "      <td>0.942658</td>\n",
              "      <td>0.948454</td>\n",
              "      <td>0.948302</td>\n",
              "      <td>0.817728</td>\n",
              "    </tr>\n",
              "    <tr>\n",
              "      <th>1</th>\n",
              "      <td>Logistic Regression</td>\n",
              "      <td>0.963896</td>\n",
              "      <td>0.964948</td>\n",
              "      <td>0.964904</td>\n",
              "      <td>0.908043</td>\n",
              "    </tr>\n",
              "    <tr>\n",
              "      <th>2</th>\n",
              "      <td>LinearSVC</td>\n",
              "      <td>0.963088</td>\n",
              "      <td>0.964948</td>\n",
              "      <td>0.964904</td>\n",
              "      <td>0.903117</td>\n",
              "    </tr>\n",
              "  </tbody>\n",
              "</table>\n",
              "</div>\n",
              "    <div class=\"colab-df-buttons\">\n",
              "\n",
              "  <div class=\"colab-df-container\">\n",
              "    <button class=\"colab-df-convert\" onclick=\"convertToInteractive('df-873a073e-ec50-4f12-8809-919567ebe4a6')\"\n",
              "            title=\"Convert this dataframe to an interactive table.\"\n",
              "            style=\"display:none;\">\n",
              "\n",
              "  <svg xmlns=\"http://www.w3.org/2000/svg\" height=\"24px\" viewBox=\"0 -960 960 960\">\n",
              "    <path d=\"M120-120v-720h720v720H120Zm60-500h600v-160H180v160Zm220 220h160v-160H400v160Zm0 220h160v-160H400v160ZM180-400h160v-160H180v160Zm440 0h160v-160H620v160ZM180-180h160v-160H180v160Zm440 0h160v-160H620v160Z\"/>\n",
              "  </svg>\n",
              "    </button>\n",
              "\n",
              "  <style>\n",
              "    .colab-df-container {\n",
              "      display:flex;\n",
              "      gap: 12px;\n",
              "    }\n",
              "\n",
              "    .colab-df-convert {\n",
              "      background-color: #E8F0FE;\n",
              "      border: none;\n",
              "      border-radius: 50%;\n",
              "      cursor: pointer;\n",
              "      display: none;\n",
              "      fill: #1967D2;\n",
              "      height: 32px;\n",
              "      padding: 0 0 0 0;\n",
              "      width: 32px;\n",
              "    }\n",
              "\n",
              "    .colab-df-convert:hover {\n",
              "      background-color: #E2EBFA;\n",
              "      box-shadow: 0px 1px 2px rgba(60, 64, 67, 0.3), 0px 1px 3px 1px rgba(60, 64, 67, 0.15);\n",
              "      fill: #174EA6;\n",
              "    }\n",
              "\n",
              "    .colab-df-buttons div {\n",
              "      margin-bottom: 4px;\n",
              "    }\n",
              "\n",
              "    [theme=dark] .colab-df-convert {\n",
              "      background-color: #3B4455;\n",
              "      fill: #D2E3FC;\n",
              "    }\n",
              "\n",
              "    [theme=dark] .colab-df-convert:hover {\n",
              "      background-color: #434B5C;\n",
              "      box-shadow: 0px 1px 3px 1px rgba(0, 0, 0, 0.15);\n",
              "      filter: drop-shadow(0px 1px 2px rgba(0, 0, 0, 0.3));\n",
              "      fill: #FFFFFF;\n",
              "    }\n",
              "  </style>\n",
              "\n",
              "    <script>\n",
              "      const buttonEl =\n",
              "        document.querySelector('#df-873a073e-ec50-4f12-8809-919567ebe4a6 button.colab-df-convert');\n",
              "      buttonEl.style.display =\n",
              "        google.colab.kernel.accessAllowed ? 'block' : 'none';\n",
              "\n",
              "      async function convertToInteractive(key) {\n",
              "        const element = document.querySelector('#df-873a073e-ec50-4f12-8809-919567ebe4a6');\n",
              "        const dataTable =\n",
              "          await google.colab.kernel.invokeFunction('convertToInteractive',\n",
              "                                                    [key], {});\n",
              "        if (!dataTable) return;\n",
              "\n",
              "        const docLinkHtml = 'Like what you see? Visit the ' +\n",
              "          '<a target=\"_blank\" href=https://colab.research.google.com/notebooks/data_table.ipynb>data table notebook</a>'\n",
              "          + ' to learn more about interactive tables.';\n",
              "        element.innerHTML = '';\n",
              "        dataTable['output_type'] = 'display_data';\n",
              "        await google.colab.output.renderOutput(dataTable, element);\n",
              "        const docLink = document.createElement('div');\n",
              "        docLink.innerHTML = docLinkHtml;\n",
              "        element.appendChild(docLink);\n",
              "      }\n",
              "    </script>\n",
              "  </div>\n",
              "\n",
              "\n",
              "    <div id=\"df-472c6bb1-f0ce-408a-b08e-5ff500685763\">\n",
              "      <button class=\"colab-df-quickchart\" onclick=\"quickchart('df-472c6bb1-f0ce-408a-b08e-5ff500685763')\"\n",
              "                title=\"Suggest charts\"\n",
              "                style=\"display:none;\">\n",
              "\n",
              "<svg xmlns=\"http://www.w3.org/2000/svg\" height=\"24px\"viewBox=\"0 0 24 24\"\n",
              "     width=\"24px\">\n",
              "    <g>\n",
              "        <path d=\"M19 3H5c-1.1 0-2 .9-2 2v14c0 1.1.9 2 2 2h14c1.1 0 2-.9 2-2V5c0-1.1-.9-2-2-2zM9 17H7v-7h2v7zm4 0h-2V7h2v10zm4 0h-2v-4h2v4z\"/>\n",
              "    </g>\n",
              "</svg>\n",
              "      </button>\n",
              "\n",
              "<style>\n",
              "  .colab-df-quickchart {\n",
              "      --bg-color: #E8F0FE;\n",
              "      --fill-color: #1967D2;\n",
              "      --hover-bg-color: #E2EBFA;\n",
              "      --hover-fill-color: #174EA6;\n",
              "      --disabled-fill-color: #AAA;\n",
              "      --disabled-bg-color: #DDD;\n",
              "  }\n",
              "\n",
              "  [theme=dark] .colab-df-quickchart {\n",
              "      --bg-color: #3B4455;\n",
              "      --fill-color: #D2E3FC;\n",
              "      --hover-bg-color: #434B5C;\n",
              "      --hover-fill-color: #FFFFFF;\n",
              "      --disabled-bg-color: #3B4455;\n",
              "      --disabled-fill-color: #666;\n",
              "  }\n",
              "\n",
              "  .colab-df-quickchart {\n",
              "    background-color: var(--bg-color);\n",
              "    border: none;\n",
              "    border-radius: 50%;\n",
              "    cursor: pointer;\n",
              "    display: none;\n",
              "    fill: var(--fill-color);\n",
              "    height: 32px;\n",
              "    padding: 0;\n",
              "    width: 32px;\n",
              "  }\n",
              "\n",
              "  .colab-df-quickchart:hover {\n",
              "    background-color: var(--hover-bg-color);\n",
              "    box-shadow: 0 1px 2px rgba(60, 64, 67, 0.3), 0 1px 3px 1px rgba(60, 64, 67, 0.15);\n",
              "    fill: var(--button-hover-fill-color);\n",
              "  }\n",
              "\n",
              "  .colab-df-quickchart-complete:disabled,\n",
              "  .colab-df-quickchart-complete:disabled:hover {\n",
              "    background-color: var(--disabled-bg-color);\n",
              "    fill: var(--disabled-fill-color);\n",
              "    box-shadow: none;\n",
              "  }\n",
              "\n",
              "  .colab-df-spinner {\n",
              "    border: 2px solid var(--fill-color);\n",
              "    border-color: transparent;\n",
              "    border-bottom-color: var(--fill-color);\n",
              "    animation:\n",
              "      spin 1s steps(1) infinite;\n",
              "  }\n",
              "\n",
              "  @keyframes spin {\n",
              "    0% {\n",
              "      border-color: transparent;\n",
              "      border-bottom-color: var(--fill-color);\n",
              "      border-left-color: var(--fill-color);\n",
              "    }\n",
              "    20% {\n",
              "      border-color: transparent;\n",
              "      border-left-color: var(--fill-color);\n",
              "      border-top-color: var(--fill-color);\n",
              "    }\n",
              "    30% {\n",
              "      border-color: transparent;\n",
              "      border-left-color: var(--fill-color);\n",
              "      border-top-color: var(--fill-color);\n",
              "      border-right-color: var(--fill-color);\n",
              "    }\n",
              "    40% {\n",
              "      border-color: transparent;\n",
              "      border-right-color: var(--fill-color);\n",
              "      border-top-color: var(--fill-color);\n",
              "    }\n",
              "    60% {\n",
              "      border-color: transparent;\n",
              "      border-right-color: var(--fill-color);\n",
              "    }\n",
              "    80% {\n",
              "      border-color: transparent;\n",
              "      border-right-color: var(--fill-color);\n",
              "      border-bottom-color: var(--fill-color);\n",
              "    }\n",
              "    90% {\n",
              "      border-color: transparent;\n",
              "      border-bottom-color: var(--fill-color);\n",
              "    }\n",
              "  }\n",
              "</style>\n",
              "\n",
              "      <script>\n",
              "        async function quickchart(key) {\n",
              "          const quickchartButtonEl =\n",
              "            document.querySelector('#' + key + ' button');\n",
              "          quickchartButtonEl.disabled = true;  // To prevent multiple clicks.\n",
              "          quickchartButtonEl.classList.add('colab-df-spinner');\n",
              "          try {\n",
              "            const charts = await google.colab.kernel.invokeFunction(\n",
              "                'suggestCharts', [key], {});\n",
              "          } catch (error) {\n",
              "            console.error('Error during call to suggestCharts:', error);\n",
              "          }\n",
              "          quickchartButtonEl.classList.remove('colab-df-spinner');\n",
              "          quickchartButtonEl.classList.add('colab-df-quickchart-complete');\n",
              "        }\n",
              "        (() => {\n",
              "          let quickchartButtonEl =\n",
              "            document.querySelector('#df-472c6bb1-f0ce-408a-b08e-5ff500685763 button');\n",
              "          quickchartButtonEl.style.display =\n",
              "            google.colab.kernel.accessAllowed ? 'block' : 'none';\n",
              "        })();\n",
              "      </script>\n",
              "    </div>\n",
              "\n",
              "  <div id=\"id_dd3155a1-df8b-409b-a01c-5ad47e7a0a45\">\n",
              "    <style>\n",
              "      .colab-df-generate {\n",
              "        background-color: #E8F0FE;\n",
              "        border: none;\n",
              "        border-radius: 50%;\n",
              "        cursor: pointer;\n",
              "        display: none;\n",
              "        fill: #1967D2;\n",
              "        height: 32px;\n",
              "        padding: 0 0 0 0;\n",
              "        width: 32px;\n",
              "      }\n",
              "\n",
              "      .colab-df-generate:hover {\n",
              "        background-color: #E2EBFA;\n",
              "        box-shadow: 0px 1px 2px rgba(60, 64, 67, 0.3), 0px 1px 3px 1px rgba(60, 64, 67, 0.15);\n",
              "        fill: #174EA6;\n",
              "      }\n",
              "\n",
              "      [theme=dark] .colab-df-generate {\n",
              "        background-color: #3B4455;\n",
              "        fill: #D2E3FC;\n",
              "      }\n",
              "\n",
              "      [theme=dark] .colab-df-generate:hover {\n",
              "        background-color: #434B5C;\n",
              "        box-shadow: 0px 1px 3px 1px rgba(0, 0, 0, 0.15);\n",
              "        filter: drop-shadow(0px 1px 2px rgba(0, 0, 0, 0.3));\n",
              "        fill: #FFFFFF;\n",
              "      }\n",
              "    </style>\n",
              "    <button class=\"colab-df-generate\" onclick=\"generateWithVariable('df_metricas')\"\n",
              "            title=\"Generate code using this dataframe.\"\n",
              "            style=\"display:none;\">\n",
              "\n",
              "  <svg xmlns=\"http://www.w3.org/2000/svg\" height=\"24px\"viewBox=\"0 0 24 24\"\n",
              "       width=\"24px\">\n",
              "    <path d=\"M7,19H8.4L18.45,9,17,7.55,7,17.6ZM5,21V16.75L18.45,3.32a2,2,0,0,1,2.83,0l1.4,1.43a1.91,1.91,0,0,1,.58,1.4,1.91,1.91,0,0,1-.58,1.4L9.25,21ZM18.45,9,17,7.55Zm-12,3A5.31,5.31,0,0,0,4.9,8.1,5.31,5.31,0,0,0,1,6.5,5.31,5.31,0,0,0,4.9,4.9,5.31,5.31,0,0,0,6.5,1,5.31,5.31,0,0,0,8.1,4.9,5.31,5.31,0,0,0,12,6.5,5.46,5.46,0,0,0,6.5,12Z\"/>\n",
              "  </svg>\n",
              "    </button>\n",
              "    <script>\n",
              "      (() => {\n",
              "      const buttonEl =\n",
              "        document.querySelector('#id_dd3155a1-df8b-409b-a01c-5ad47e7a0a45 button.colab-df-generate');\n",
              "      buttonEl.style.display =\n",
              "        google.colab.kernel.accessAllowed ? 'block' : 'none';\n",
              "\n",
              "      buttonEl.onclick = () => {\n",
              "        google.colab.notebook.generateWithVariable('df_metricas');\n",
              "      }\n",
              "      })();\n",
              "    </script>\n",
              "  </div>\n",
              "\n",
              "    </div>\n",
              "  </div>\n"
            ],
            "application/vnd.google.colaboratory.intrinsic+json": {
              "type": "dataframe",
              "variable_name": "df_metricas",
              "summary": "{\n  \"name\": \"df_metricas\",\n  \"rows\": 3,\n  \"fields\": [\n    {\n      \"column\": \"Modelo\",\n      \"properties\": {\n        \"dtype\": \"string\",\n        \"num_unique_values\": 3,\n        \"samples\": [\n          \"MNB\",\n          \"Logistic Regression\",\n          \"LinearSVC\"\n        ],\n        \"semantic_type\": \"\",\n        \"description\": \"\"\n      }\n    },\n    {\n      \"column\": \"F1_macro\",\n      \"properties\": {\n        \"dtype\": \"number\",\n        \"std\": 0.012035348055749517,\n        \"min\": 0.9426579740406235,\n        \"max\": 0.9638962166856646,\n        \"num_unique_values\": 3,\n        \"samples\": [\n          0.9426579740406235,\n          0.9638962166856646,\n          0.9630878851112666\n        ],\n        \"semantic_type\": \"\",\n        \"description\": \"\"\n      }\n    },\n    {\n      \"column\": \"F1_micro\",\n      \"properties\": {\n        \"dtype\": \"number\",\n        \"std\": 0.009523303409313445,\n        \"min\": 0.9484536082474226,\n        \"max\": 0.9649484536082474,\n        \"num_unique_values\": 2,\n        \"samples\": [\n          0.9649484536082474,\n          0.9484536082474226\n        ],\n        \"semantic_type\": \"\",\n        \"description\": \"\"\n      }\n    },\n    {\n      \"column\": \"F1_weighted\",\n      \"properties\": {\n        \"dtype\": \"number\",\n        \"std\": 0.009585327153533968,\n        \"min\": 0.9483017293100384,\n        \"max\": 0.9649044230346312,\n        \"num_unique_values\": 3,\n        \"samples\": [\n          0.9483017293100384,\n          0.9649044230346312\n        ],\n        \"semantic_type\": \"\",\n        \"description\": \"\"\n      }\n    },\n    {\n      \"column\": \"R2\",\n      \"properties\": {\n        \"dtype\": \"number\",\n        \"std\": 0.05078092267539811,\n        \"min\": 0.8177284361922561,\n        \"max\": 0.908043175015913,\n        \"num_unique_values\": 3,\n        \"samples\": [\n          0.8177284361922561,\n          0.908043175015913\n        ],\n        \"semantic_type\": \"\",\n        \"description\": \"\"\n      }\n    }\n  ]\n}"
            }
          },
          "metadata": {}
        },
        {
          "output_type": "stream",
          "name": "stdout",
          "text": [
            "\n",
            "Modelo: MNB\n",
            "  Clase 1: F1 = 0.915\n",
            "  Clase 3: F1 = 0.950\n",
            "  Clase 4: F1 = 0.964\n",
            "\n",
            "Modelo: Logistic Regression\n",
            "  Clase 1: F1 = 0.960\n",
            "  Clase 3: F1 = 0.961\n",
            "  Clase 4: F1 = 0.971\n",
            "\n",
            "Modelo: LinearSVC\n",
            "  Clase 1: F1 = 0.955\n",
            "  Clase 3: F1 = 0.961\n",
            "  Clase 4: F1 = 0.973\n"
          ]
        }
      ]
    },
    {
      "cell_type": "markdown",
      "source": [
        "#ETAPA 2"
      ],
      "metadata": {
        "id": "PCtCiFtBGYRw"
      }
    },
    {
      "cell_type": "code",
      "source": [
        "import pandas as pd\n",
        "from sklearn.metrics import accuracy_score, precision_score, recall_score, f1_score, confusion_matrix, classification_report\n",
        "\n",
        "# Cargar los nuevos datos\n",
        "drive.mount('/content/drive')\n",
        "db_location = '/content/drive/MyDrive/Datos_etapa 2.xlsx'\n",
        "nuevo_df=pd.read_excel(db_location, sheet_name='Sheet1')\n",
        "nuevo_df.shape"
      ],
      "metadata": {
        "colab": {
          "base_uri": "https://localhost:8080/"
        },
        "id": "5x6itrLyIKaF",
        "outputId": "edbf9d77-4607-4c62-b495-9aa7e8ee7c85"
      },
      "execution_count": null,
      "outputs": [
        {
          "output_type": "stream",
          "name": "stdout",
          "text": [
            "Drive already mounted at /content/drive; to attempt to forcibly remount, call drive.mount(\"/content/drive\", force_remount=True).\n"
          ]
        },
        {
          "output_type": "execute_result",
          "data": {
            "text/plain": [
              "(99, 2)"
            ]
          },
          "metadata": {},
          "execution_count": 83
        }
      ]
    },
    {
      "cell_type": "code",
      "source": [
        "nuevo_df[\"textos\"] = nuevo_df[\"textos\"].astype(\"string\")\n",
        "nuevo_df.dtypes\n",
        "nuevo_df['textos'] = nuevo_df['textos'].apply(lambda x: x.lower() if isinstance(x, str) else x)"
      ],
      "metadata": {
        "id": "-ddvdcb7LeTO"
      },
      "execution_count": null,
      "outputs": []
    },
    {
      "cell_type": "code",
      "source": [
        "from sklearn.model_selection import train_test_split\n",
        "train_nuevos, test_nuevos = train_test_split(\n",
        "    nuevo_df,\n",
        "    test_size=0.3,           # 30% para prueba, puedes ajustar al gusto\n",
        "    random_state=42,         # Asegura reproducibilidad\n",
        "    stratify=nuevo_df['labels']  # Mantiene proporción de clases\n",
        ")\n",
        "\n",
        "print(f\"Tamaño de train_nuevos: {len(train_nuevos)}\")\n",
        "print(f\"Tamaño de test_nuevos: {len(test_nuevos)}\")"
      ],
      "metadata": {
        "colab": {
          "base_uri": "https://localhost:8080/"
        },
        "id": "AIGzAgRHH6R8",
        "outputId": "b960e1ee-2685-4ed1-b915-f551fad9cad0"
      },
      "execution_count": null,
      "outputs": [
        {
          "output_type": "stream",
          "name": "stdout",
          "text": [
            "Tamaño de train_nuevos: 69\n",
            "Tamaño de test_nuevos: 30\n"
          ]
        }
      ]
    },
    {
      "cell_type": "code",
      "source": [
        "# Crear una copia para predicción (sin etiquetas)\n",
        "X_nuevo = test_nuevos[\"textos\"].astype(str)\n",
        "y_real = test_nuevos['labels']\n",
        "\n",
        "# Cargar el modelo entrenado\n",
        "import joblib\n",
        "modelo = joblib.load(\"/content/drive/MyDrive/modelos_proy1/mejor_modelo_tfidf.joblib\")\n",
        "\n",
        "# Realizar predicciones sobre los nuevos datos\n",
        "y_pred = modelo.predict(X_nuevo)\n",
        "\n",
        "# Evaluar desempeño\n",
        "accuracy = accuracy_score(y_real, y_pred)\n",
        "precision = precision_score(y_real, y_pred, average='weighted', zero_division=0)\n",
        "recall = recall_score(y_real, y_pred, average='weighted', zero_division=0)\n",
        "f1 = f1_score(y_real, y_pred, average='weighted', zero_division=0)\n",
        "\n",
        "print(\"Resultados de evaluación:\")\n",
        "print(f\"Exactitud (Accuracy): {accuracy:.4f}\")\n",
        "print(f\"Precisión (Precision): {precision:.4f}\")\n",
        "print(f\"Sensibilidad (Recall): {recall:.4f}\")\n",
        "print(f\"Puntaje F1: {f1:.4f}\\n\")\n",
        "\n",
        "print(\"Reporte de Clasificación:\")\n",
        "print(classification_report(y_real, y_pred))\n",
        "\n",
        "print(\"Matriz de Confusión:\")\n",
        "print(confusion_matrix(y_real, y_pred))"
      ],
      "metadata": {
        "colab": {
          "base_uri": "https://localhost:8080/"
        },
        "id": "UvN5P21SJy2s",
        "outputId": "937ced7b-a9e0-4416-bfb5-5d5e0c203222"
      },
      "execution_count": null,
      "outputs": [
        {
          "output_type": "stream",
          "name": "stdout",
          "text": [
            "Resultados de evaluación:\n",
            "Exactitud (Accuracy): 0.9000\n",
            "Precisión (Precision): 0.9126\n",
            "Sensibilidad (Recall): 0.9000\n",
            "Puntaje F1: 0.8867\n",
            "\n",
            "Reporte de Clasificación:\n",
            "              precision    recall  f1-score   support\n",
            "\n",
            "           1       1.00      0.50      0.67         6\n",
            "           3       0.85      1.00      0.92        11\n",
            "           4       0.93      1.00      0.96        13\n",
            "\n",
            "    accuracy                           0.90        30\n",
            "   macro avg       0.92      0.83      0.85        30\n",
            "weighted avg       0.91      0.90      0.89        30\n",
            "\n",
            "Matriz de Confusión:\n",
            "[[ 3  2  1]\n",
            " [ 0 11  0]\n",
            " [ 0  0 13]]\n"
          ]
        }
      ]
    },
    {
      "cell_type": "markdown",
      "source": [
        "Al evaluar el modelo entrenado en la Etapa 1 sobre el nuevo conjunto de datos proporcionado para la Etapa 2, se observó una disminución en las métricas, bajando a 0.8867 según F1-score.\n",
        "\n",
        "Esta reducción se explica por varios factores:\n",
        "- El conjunto nuevo presentaba mayor proporción de opiniones sobre ODS 4, lo que generó un leve desbalance.\n",
        "- Los textos nuevos tenían expresiones más informales y regionalismos no vistos durante el entrenamiento inicial.\n",
        "- El modelo original había aprendido con fuerza los patrones del primer dataset, por lo que perdió generalización ante textos diferentes."
      ],
      "metadata": {
        "id": "qTjo2hECzt7X"
      }
    },
    {
      "cell_type": "markdown",
      "source": [
        "Ahora realizamos el entrenamiento combinando ambos grupos de datos"
      ],
      "metadata": {
        "id": "e5vduAXrM--3"
      }
    },
    {
      "cell_type": "code",
      "source": [
        "# Combinar ambos datasets\n",
        "df_combinado = pd.concat([df_texto, train_nuevos], ignore_index=True)\n",
        "# Luego los mesclamos aleatoriamente para evitar cesgos\n",
        "df_combinado = df_combinado.sample(frac=1, random_state=42).reset_index(drop=True)\n",
        "df_combinado.shape"
      ],
      "metadata": {
        "colab": {
          "base_uri": "https://localhost:8080/"
        },
        "id": "7ibFfyftNDiU",
        "outputId": "4da04b16-4b4b-4459-e2eb-bd708be31bf9"
      },
      "execution_count": null,
      "outputs": [
        {
          "output_type": "execute_result",
          "data": {
            "text/plain": [
              "(2493, 3)"
            ]
          },
          "metadata": {},
          "execution_count": 87
        }
      ]
    },
    {
      "cell_type": "markdown",
      "source": [
        "#Calidad de datos"
      ],
      "metadata": {
        "id": "RS0_KKBDN2ho"
      }
    },
    {
      "cell_type": "code",
      "source": [
        "df_combinado.dtypes"
      ],
      "metadata": {
        "colab": {
          "base_uri": "https://localhost:8080/",
          "height": 178
        },
        "id": "0kKFfue3NytE",
        "outputId": "0ed26a0a-4837-4090-dbe3-8f103bf7ae32"
      },
      "execution_count": null,
      "outputs": [
        {
          "output_type": "execute_result",
          "data": {
            "text/plain": [
              "textos             object\n",
              "labels              int64\n",
              "longitud_texto    float64\n",
              "dtype: object"
            ],
            "text/html": [
              "<div>\n",
              "<style scoped>\n",
              "    .dataframe tbody tr th:only-of-type {\n",
              "        vertical-align: middle;\n",
              "    }\n",
              "\n",
              "    .dataframe tbody tr th {\n",
              "        vertical-align: top;\n",
              "    }\n",
              "\n",
              "    .dataframe thead th {\n",
              "        text-align: right;\n",
              "    }\n",
              "</style>\n",
              "<table border=\"1\" class=\"dataframe\">\n",
              "  <thead>\n",
              "    <tr style=\"text-align: right;\">\n",
              "      <th></th>\n",
              "      <th>0</th>\n",
              "    </tr>\n",
              "  </thead>\n",
              "  <tbody>\n",
              "    <tr>\n",
              "      <th>textos</th>\n",
              "      <td>object</td>\n",
              "    </tr>\n",
              "    <tr>\n",
              "      <th>labels</th>\n",
              "      <td>int64</td>\n",
              "    </tr>\n",
              "    <tr>\n",
              "      <th>longitud_texto</th>\n",
              "      <td>float64</td>\n",
              "    </tr>\n",
              "  </tbody>\n",
              "</table>\n",
              "</div><br><label><b>dtype:</b> object</label>"
            ]
          },
          "metadata": {},
          "execution_count": 88
        }
      ]
    },
    {
      "cell_type": "code",
      "source": [
        "df_combinado.isnull().sum()"
      ],
      "metadata": {
        "colab": {
          "base_uri": "https://localhost:8080/",
          "height": 178
        },
        "id": "GeP9RAkmOBCi",
        "outputId": "5f9af9ff-dc68-4c78-b31f-f6bb70de2ad8"
      },
      "execution_count": null,
      "outputs": [
        {
          "output_type": "execute_result",
          "data": {
            "text/plain": [
              "textos             0\n",
              "labels             0\n",
              "longitud_texto    69\n",
              "dtype: int64"
            ],
            "text/html": [
              "<div>\n",
              "<style scoped>\n",
              "    .dataframe tbody tr th:only-of-type {\n",
              "        vertical-align: middle;\n",
              "    }\n",
              "\n",
              "    .dataframe tbody tr th {\n",
              "        vertical-align: top;\n",
              "    }\n",
              "\n",
              "    .dataframe thead th {\n",
              "        text-align: right;\n",
              "    }\n",
              "</style>\n",
              "<table border=\"1\" class=\"dataframe\">\n",
              "  <thead>\n",
              "    <tr style=\"text-align: right;\">\n",
              "      <th></th>\n",
              "      <th>0</th>\n",
              "    </tr>\n",
              "  </thead>\n",
              "  <tbody>\n",
              "    <tr>\n",
              "      <th>textos</th>\n",
              "      <td>0</td>\n",
              "    </tr>\n",
              "    <tr>\n",
              "      <th>labels</th>\n",
              "      <td>0</td>\n",
              "    </tr>\n",
              "    <tr>\n",
              "      <th>longitud_texto</th>\n",
              "      <td>69</td>\n",
              "    </tr>\n",
              "  </tbody>\n",
              "</table>\n",
              "</div><br><label><b>dtype:</b> int64</label>"
            ]
          },
          "metadata": {},
          "execution_count": 89
        }
      ]
    },
    {
      "cell_type": "code",
      "source": [
        "duplicados = df_combinado.duplicated().sum()\n",
        "duplicados"
      ],
      "metadata": {
        "colab": {
          "base_uri": "https://localhost:8080/"
        },
        "id": "9_Ao6F3wOIvr",
        "outputId": "b2b35a85-dd15-41d7-f317-e24548570329"
      },
      "execution_count": null,
      "outputs": [
        {
          "output_type": "execute_result",
          "data": {
            "text/plain": [
              "np.int64(0)"
            ]
          },
          "metadata": {},
          "execution_count": 90
        }
      ]
    },
    {
      "cell_type": "code",
      "source": [
        "cols_to_compare = [\"textos\"]\n",
        "\n",
        "duplicated_partials = df_combinado[df_combinado.duplicated(subset=cols_to_compare, keep=False)]\n",
        "duplicated_partials = duplicated_partials.sort_values(by=cols_to_compare)\n",
        "duplicated_partials"
      ],
      "metadata": {
        "colab": {
          "base_uri": "https://localhost:8080/",
          "height": 89
        },
        "id": "Vw4-BztVOLcw",
        "outputId": "3f006e4b-731e-4672-ba86-359f81ec3a75"
      },
      "execution_count": null,
      "outputs": [
        {
          "output_type": "execute_result",
          "data": {
            "text/plain": [
              "Empty DataFrame\n",
              "Columns: [textos, labels, longitud_texto]\n",
              "Index: []"
            ],
            "text/html": [
              "\n",
              "  <div id=\"df-7fca2d93-5944-41d4-a5cf-e47eaef5dcc2\" class=\"colab-df-container\">\n",
              "    <div>\n",
              "<style scoped>\n",
              "    .dataframe tbody tr th:only-of-type {\n",
              "        vertical-align: middle;\n",
              "    }\n",
              "\n",
              "    .dataframe tbody tr th {\n",
              "        vertical-align: top;\n",
              "    }\n",
              "\n",
              "    .dataframe thead th {\n",
              "        text-align: right;\n",
              "    }\n",
              "</style>\n",
              "<table border=\"1\" class=\"dataframe\">\n",
              "  <thead>\n",
              "    <tr style=\"text-align: right;\">\n",
              "      <th></th>\n",
              "      <th>textos</th>\n",
              "      <th>labels</th>\n",
              "      <th>longitud_texto</th>\n",
              "    </tr>\n",
              "  </thead>\n",
              "  <tbody>\n",
              "  </tbody>\n",
              "</table>\n",
              "</div>\n",
              "    <div class=\"colab-df-buttons\">\n",
              "\n",
              "  <div class=\"colab-df-container\">\n",
              "    <button class=\"colab-df-convert\" onclick=\"convertToInteractive('df-7fca2d93-5944-41d4-a5cf-e47eaef5dcc2')\"\n",
              "            title=\"Convert this dataframe to an interactive table.\"\n",
              "            style=\"display:none;\">\n",
              "\n",
              "  <svg xmlns=\"http://www.w3.org/2000/svg\" height=\"24px\" viewBox=\"0 -960 960 960\">\n",
              "    <path d=\"M120-120v-720h720v720H120Zm60-500h600v-160H180v160Zm220 220h160v-160H400v160Zm0 220h160v-160H400v160ZM180-400h160v-160H180v160Zm440 0h160v-160H620v160ZM180-180h160v-160H180v160Zm440 0h160v-160H620v160Z\"/>\n",
              "  </svg>\n",
              "    </button>\n",
              "\n",
              "  <style>\n",
              "    .colab-df-container {\n",
              "      display:flex;\n",
              "      gap: 12px;\n",
              "    }\n",
              "\n",
              "    .colab-df-convert {\n",
              "      background-color: #E8F0FE;\n",
              "      border: none;\n",
              "      border-radius: 50%;\n",
              "      cursor: pointer;\n",
              "      display: none;\n",
              "      fill: #1967D2;\n",
              "      height: 32px;\n",
              "      padding: 0 0 0 0;\n",
              "      width: 32px;\n",
              "    }\n",
              "\n",
              "    .colab-df-convert:hover {\n",
              "      background-color: #E2EBFA;\n",
              "      box-shadow: 0px 1px 2px rgba(60, 64, 67, 0.3), 0px 1px 3px 1px rgba(60, 64, 67, 0.15);\n",
              "      fill: #174EA6;\n",
              "    }\n",
              "\n",
              "    .colab-df-buttons div {\n",
              "      margin-bottom: 4px;\n",
              "    }\n",
              "\n",
              "    [theme=dark] .colab-df-convert {\n",
              "      background-color: #3B4455;\n",
              "      fill: #D2E3FC;\n",
              "    }\n",
              "\n",
              "    [theme=dark] .colab-df-convert:hover {\n",
              "      background-color: #434B5C;\n",
              "      box-shadow: 0px 1px 3px 1px rgba(0, 0, 0, 0.15);\n",
              "      filter: drop-shadow(0px 1px 2px rgba(0, 0, 0, 0.3));\n",
              "      fill: #FFFFFF;\n",
              "    }\n",
              "  </style>\n",
              "\n",
              "    <script>\n",
              "      const buttonEl =\n",
              "        document.querySelector('#df-7fca2d93-5944-41d4-a5cf-e47eaef5dcc2 button.colab-df-convert');\n",
              "      buttonEl.style.display =\n",
              "        google.colab.kernel.accessAllowed ? 'block' : 'none';\n",
              "\n",
              "      async function convertToInteractive(key) {\n",
              "        const element = document.querySelector('#df-7fca2d93-5944-41d4-a5cf-e47eaef5dcc2');\n",
              "        const dataTable =\n",
              "          await google.colab.kernel.invokeFunction('convertToInteractive',\n",
              "                                                    [key], {});\n",
              "        if (!dataTable) return;\n",
              "\n",
              "        const docLinkHtml = 'Like what you see? Visit the ' +\n",
              "          '<a target=\"_blank\" href=https://colab.research.google.com/notebooks/data_table.ipynb>data table notebook</a>'\n",
              "          + ' to learn more about interactive tables.';\n",
              "        element.innerHTML = '';\n",
              "        dataTable['output_type'] = 'display_data';\n",
              "        await google.colab.output.renderOutput(dataTable, element);\n",
              "        const docLink = document.createElement('div');\n",
              "        docLink.innerHTML = docLinkHtml;\n",
              "        element.appendChild(docLink);\n",
              "      }\n",
              "    </script>\n",
              "  </div>\n",
              "\n",
              "\n",
              "  <div id=\"id_5da52901-e01d-4234-84d3-d129c9cb7aad\">\n",
              "    <style>\n",
              "      .colab-df-generate {\n",
              "        background-color: #E8F0FE;\n",
              "        border: none;\n",
              "        border-radius: 50%;\n",
              "        cursor: pointer;\n",
              "        display: none;\n",
              "        fill: #1967D2;\n",
              "        height: 32px;\n",
              "        padding: 0 0 0 0;\n",
              "        width: 32px;\n",
              "      }\n",
              "\n",
              "      .colab-df-generate:hover {\n",
              "        background-color: #E2EBFA;\n",
              "        box-shadow: 0px 1px 2px rgba(60, 64, 67, 0.3), 0px 1px 3px 1px rgba(60, 64, 67, 0.15);\n",
              "        fill: #174EA6;\n",
              "      }\n",
              "\n",
              "      [theme=dark] .colab-df-generate {\n",
              "        background-color: #3B4455;\n",
              "        fill: #D2E3FC;\n",
              "      }\n",
              "\n",
              "      [theme=dark] .colab-df-generate:hover {\n",
              "        background-color: #434B5C;\n",
              "        box-shadow: 0px 1px 3px 1px rgba(0, 0, 0, 0.15);\n",
              "        filter: drop-shadow(0px 1px 2px rgba(0, 0, 0, 0.3));\n",
              "        fill: #FFFFFF;\n",
              "      }\n",
              "    </style>\n",
              "    <button class=\"colab-df-generate\" onclick=\"generateWithVariable('duplicated_partials')\"\n",
              "            title=\"Generate code using this dataframe.\"\n",
              "            style=\"display:none;\">\n",
              "\n",
              "  <svg xmlns=\"http://www.w3.org/2000/svg\" height=\"24px\"viewBox=\"0 0 24 24\"\n",
              "       width=\"24px\">\n",
              "    <path d=\"M7,19H8.4L18.45,9,17,7.55,7,17.6ZM5,21V16.75L18.45,3.32a2,2,0,0,1,2.83,0l1.4,1.43a1.91,1.91,0,0,1,.58,1.4,1.91,1.91,0,0,1-.58,1.4L9.25,21ZM18.45,9,17,7.55Zm-12,3A5.31,5.31,0,0,0,4.9,8.1,5.31,5.31,0,0,0,1,6.5,5.31,5.31,0,0,0,4.9,4.9,5.31,5.31,0,0,0,6.5,1,5.31,5.31,0,0,0,8.1,4.9,5.31,5.31,0,0,0,12,6.5,5.46,5.46,0,0,0,6.5,12Z\"/>\n",
              "  </svg>\n",
              "    </button>\n",
              "    <script>\n",
              "      (() => {\n",
              "      const buttonEl =\n",
              "        document.querySelector('#id_5da52901-e01d-4234-84d3-d129c9cb7aad button.colab-df-generate');\n",
              "      buttonEl.style.display =\n",
              "        google.colab.kernel.accessAllowed ? 'block' : 'none';\n",
              "\n",
              "      buttonEl.onclick = () => {\n",
              "        google.colab.notebook.generateWithVariable('duplicated_partials');\n",
              "      }\n",
              "      })();\n",
              "    </script>\n",
              "  </div>\n",
              "\n",
              "    </div>\n",
              "  </div>\n"
            ],
            "application/vnd.google.colaboratory.intrinsic+json": {
              "type": "dataframe",
              "variable_name": "duplicated_partials",
              "repr_error": "Out of range float values are not JSON compliant: nan"
            }
          },
          "metadata": {},
          "execution_count": 91
        }
      ]
    },
    {
      "cell_type": "code",
      "source": [
        "df_combinado['labels'].value_counts().sort_index()"
      ],
      "metadata": {
        "colab": {
          "base_uri": "https://localhost:8080/",
          "height": 210
        },
        "id": "W6X4T2zGONhu",
        "outputId": "4a325a9d-2825-4f32-991b-603fd791cc17"
      },
      "execution_count": null,
      "outputs": [
        {
          "output_type": "execute_result",
          "data": {
            "text/plain": [
              "labels\n",
              "1     520\n",
              "3     918\n",
              "4    1055\n",
              "Name: count, dtype: int64"
            ],
            "text/html": [
              "<div>\n",
              "<style scoped>\n",
              "    .dataframe tbody tr th:only-of-type {\n",
              "        vertical-align: middle;\n",
              "    }\n",
              "\n",
              "    .dataframe tbody tr th {\n",
              "        vertical-align: top;\n",
              "    }\n",
              "\n",
              "    .dataframe thead th {\n",
              "        text-align: right;\n",
              "    }\n",
              "</style>\n",
              "<table border=\"1\" class=\"dataframe\">\n",
              "  <thead>\n",
              "    <tr style=\"text-align: right;\">\n",
              "      <th></th>\n",
              "      <th>count</th>\n",
              "    </tr>\n",
              "    <tr>\n",
              "      <th>labels</th>\n",
              "      <th></th>\n",
              "    </tr>\n",
              "  </thead>\n",
              "  <tbody>\n",
              "    <tr>\n",
              "      <th>1</th>\n",
              "      <td>520</td>\n",
              "    </tr>\n",
              "    <tr>\n",
              "      <th>3</th>\n",
              "      <td>918</td>\n",
              "    </tr>\n",
              "    <tr>\n",
              "      <th>4</th>\n",
              "      <td>1055</td>\n",
              "    </tr>\n",
              "  </tbody>\n",
              "</table>\n",
              "</div><br><label><b>dtype:</b> int64</label>"
            ]
          },
          "metadata": {},
          "execution_count": 92
        }
      ]
    },
    {
      "cell_type": "code",
      "source": [
        "df_combinado['textos'] = df_combinado['textos'].apply(lambda x: x.lower() if isinstance(x, str) else x)"
      ],
      "metadata": {
        "id": "H3mcYu6WOUjZ"
      },
      "execution_count": null,
      "outputs": []
    },
    {
      "cell_type": "markdown",
      "source": [
        "Con los datos combinados y una revision rapida de calidad, siguiendo el mismo proceso de la etapa 1, ahora miramos la proporcion de los labels para realizar la aumentacion de datos de las clases minoritarias."
      ],
      "metadata": {
        "id": "OpNcWw80Ok07"
      }
    },
    {
      "cell_type": "code",
      "source": [
        "(df_combinado['labels'].value_counts(normalize=True) * 100).sort_index()"
      ],
      "metadata": {
        "colab": {
          "base_uri": "https://localhost:8080/",
          "height": 210
        },
        "id": "HAm4idf4OiIQ",
        "outputId": "3a125204-eeab-4711-b295-288d689a4106"
      },
      "execution_count": null,
      "outputs": [
        {
          "output_type": "execute_result",
          "data": {
            "text/plain": [
              "labels\n",
              "1    20.858404\n",
              "3    36.823105\n",
              "4    42.318492\n",
              "Name: proportion, dtype: float64"
            ],
            "text/html": [
              "<div>\n",
              "<style scoped>\n",
              "    .dataframe tbody tr th:only-of-type {\n",
              "        vertical-align: middle;\n",
              "    }\n",
              "\n",
              "    .dataframe tbody tr th {\n",
              "        vertical-align: top;\n",
              "    }\n",
              "\n",
              "    .dataframe thead th {\n",
              "        text-align: right;\n",
              "    }\n",
              "</style>\n",
              "<table border=\"1\" class=\"dataframe\">\n",
              "  <thead>\n",
              "    <tr style=\"text-align: right;\">\n",
              "      <th></th>\n",
              "      <th>proportion</th>\n",
              "    </tr>\n",
              "    <tr>\n",
              "      <th>labels</th>\n",
              "      <th></th>\n",
              "    </tr>\n",
              "  </thead>\n",
              "  <tbody>\n",
              "    <tr>\n",
              "      <th>1</th>\n",
              "      <td>20.858404</td>\n",
              "    </tr>\n",
              "    <tr>\n",
              "      <th>3</th>\n",
              "      <td>36.823105</td>\n",
              "    </tr>\n",
              "    <tr>\n",
              "      <th>4</th>\n",
              "      <td>42.318492</td>\n",
              "    </tr>\n",
              "  </tbody>\n",
              "</table>\n",
              "</div><br><label><b>dtype:</b> float64</label>"
            ]
          },
          "metadata": {},
          "execution_count": 94
        }
      ]
    },
    {
      "cell_type": "code",
      "source": [
        "#Guardamos los datos combinados despues de la calidad para usarlo en los modelos\n",
        "from google.colab import drive\n",
        "drive.mount('/content/drive')\n",
        "ruta_guardado = '/content/drive/MyDrive/df_combinado.xlsx'\n",
        "\n",
        "import os\n",
        "os.makedirs(os.path.dirname(ruta_guardado), exist_ok=True)\n",
        "\n",
        "df_combinado.to_excel(ruta_guardado, index=False)"
      ],
      "metadata": {
        "colab": {
          "base_uri": "https://localhost:8080/"
        },
        "id": "s_mjBztV84Mw",
        "outputId": "68c06e44-9cdf-4fd1-a165-3fbc6682c9a9"
      },
      "execution_count": null,
      "outputs": [
        {
          "output_type": "stream",
          "name": "stdout",
          "text": [
            "Drive already mounted at /content/drive; to attempt to forcibly remount, call drive.mount(\"/content/drive\", force_remount=True).\n"
          ]
        }
      ]
    },
    {
      "cell_type": "markdown",
      "source": [
        "Como menciona el enunciado se utilizo prompting para realiar la aumentacion de datos. Se realizo usando como base el guia presentada en la seccion unificada"
      ],
      "metadata": {
        "id": "_noT4hN5QvQc"
      }
    },
    {
      "cell_type": "code",
      "source": [
        "import sys, site, platform\n",
        "secret = \"PARA PROBAR PONER LLAVE OPENAI\"\n",
        "print(\"Python exe:\", sys.executable)\n",
        "print(\"Version:\", sys.version)\n",
        "print(\"Site-packages:\", site.getsitepackages() if hasattr(site,\"getsitepackages\") else site.getusersitepackages())\n",
        "print(\"OS:\", platform.platform())"
      ],
      "metadata": {
        "colab": {
          "base_uri": "https://localhost:8080/"
        },
        "id": "zvIh8sQv7LUB",
        "outputId": "b8ec8437-978f-4bfb-bcdf-9785ba25aca2"
      },
      "execution_count": null,
      "outputs": [
        {
          "output_type": "stream",
          "name": "stdout",
          "text": [
            "Python exe: /usr/bin/python3\n",
            "Version: 3.12.11 (main, Jun  4 2025, 08:56:18) [GCC 11.4.0]\n",
            "Site-packages: ['/usr/local/lib/python3.12/dist-packages', '/usr/lib/python3/dist-packages', '/usr/lib/python3.12/dist-packages']\n",
            "OS: Linux-6.6.97+-x86_64-with-glibc2.35\n"
          ]
        }
      ]
    },
    {
      "cell_type": "code",
      "source": [
        "import os\n",
        "from openai import OpenAI\n",
        "import pandas as pd, random"
      ],
      "metadata": {
        "id": "ES-lXw2n7o4I"
      },
      "execution_count": null,
      "outputs": []
    },
    {
      "cell_type": "code",
      "source": [
        "# Validación de conectividad\n",
        "client = OpenAI(api_key=secret)\n",
        "models = client.models.list()\n",
        "print(\"OK SDK v1.x, modelos:\", len(models.data))"
      ],
      "metadata": {
        "colab": {
          "base_uri": "https://localhost:8080/"
        },
        "id": "L0eO84tp72bc",
        "outputId": "08511218-a0bc-4ece-bb23-31fb1baf7f26"
      },
      "execution_count": null,
      "outputs": [
        {
          "output_type": "stream",
          "name": "stdout",
          "text": [
            "OK SDK v1.x, modelos: 96\n"
          ]
        }
      ]
    },
    {
      "cell_type": "code",
      "source": [
        "RUTA = \"/content/drive/MyDrive/df_combinado.xlsx\"   # ajusta si tu ruta es otra\n",
        "TEXTO = \"textos\"                      # columna de la opinión\n",
        "ODS   = \"labels\"                        # columna de etiqueta 1,3,4"
      ],
      "metadata": {
        "id": "Oi51nFXG71_S"
      },
      "execution_count": null,
      "outputs": []
    },
    {
      "cell_type": "code",
      "source": [
        "df = pd.read_excel(RUTA)"
      ],
      "metadata": {
        "id": "oTH592iQ767e"
      },
      "execution_count": null,
      "outputs": []
    },
    {
      "cell_type": "code",
      "source": [
        "minoritaria = df[ODS].value_counts().idxmin()\n",
        "semillas = (\n",
        "    df[df[ODS]==minoritaria][TEXTO]      # filtra solo filas de la clase minoritaria y se queda con la columna de texto\n",
        "      .dropna()                          # quita textos vacíos/NaN\n",
        "      .astype(str)                       # asegura que todo sea string\n",
        "      .sample(                           # toma una muestra aleatoria\n",
        "          min(8, sum(df[ODS]==minoritaria)),  # hasta 8 textos, pero nunca más de los que hay\n",
        "          random_state=42                      # para que la muestra sea reproducible\n",
        "      )\n",
        "      .tolist()                          # lo convierte a lista de strings\n",
        ")\n",
        "ejemplos = \"\\n\".join(f\"- {s}\" for s in semillas)"
      ],
      "metadata": {
        "id": "ttnbdEmg77r3"
      },
      "execution_count": null,
      "outputs": []
    },
    {
      "cell_type": "code",
      "source": [
        "# columnas clave\n",
        "cols = [\"textos\", \"labels\"]\n",
        "\n",
        "# 1) snapshot de lo que ya tenías\n",
        "df_before = df[cols].drop_duplicates().copy()\n",
        "print(minoritaria)\n",
        "print(len(df))"
      ],
      "metadata": {
        "colab": {
          "base_uri": "https://localhost:8080/"
        },
        "id": "M_xtikTO79vd",
        "outputId": "fbcddbef-e0e4-43a7-f8fd-dc362e6c70d9"
      },
      "execution_count": null,
      "outputs": [
        {
          "output_type": "stream",
          "name": "stdout",
          "text": [
            "1\n",
            "2493\n"
          ]
        }
      ]
    },
    {
      "cell_type": "markdown",
      "source": [
        "Como el objetivo es balancear 20 no son suficientes, se necesitan 470 nuevas entradas a la clase minoritaria para que este balanceado. Por lo que se pediran la mitad con el api key para reducir el nuemro de tokens gastados y luego se realizara un prompt a el chat gpt web gratuito para completar el balanceo esta cantidad sin modificar el resto del prompt"
      ],
      "metadata": {
        "id": "hXEllBkoSdsB"
      }
    },
    {
      "cell_type": "code",
      "source": [
        "# Prompt: pedirle al modelo que genere datos sintéticos (opiniones ODS)\n",
        "prompt = f\"\"\"\n",
        "Genera 200 opiniones ciudadanas breves (1–2 oraciones), en español de Colombia,\n",
        "realistas y respetuosas, sobre problemáticas locales mapeadas SOLO al ODS {minoritaria}.\n",
        "Definición de cada ODS: ODS 1: Fin de la pobreza, ODS 3: Salud y Bienestar, ODS 4: Educación de calidad\n",
        "Requisitos:\n",
        "- - TODAS deben corresponder al ODS {minoritaria}.\n",
        "- Varía zonas (urbano/rural), actores e instituciones; evita datos personales.\n",
        "- Mantén neutralidad política y sin contenido sensible.\n",
        "- Entrega SOLO JSON válido: una lista de objetos con:\n",
        "  \"textos\" (string) y \"labels\" (entero {minoritaria}).\n",
        "\n",
        "Ejemplos de nuestro dataset (NO copiar, solo inspirarse):\n",
        "{ejemplos if 'ejemplos' in globals() and ejemplos else '- (sin ejemplos de contexto)'}\n",
        "\"\"\""
      ],
      "metadata": {
        "id": "bNl-YhPg7_bo"
      },
      "execution_count": null,
      "outputs": []
    },
    {
      "cell_type": "code",
      "source": [
        " response = client.chat.completions.create(\n",
        "    model=\"gpt-4o-mini\", # No se debe cambiar este modelo.\n",
        "    messages=[\n",
        "        {\"role\": \"system\", \"content\": \"Eres un generador de datos sintéticos.\"},\n",
        "        {\"role\": \"user\", \"content\": prompt}\n",
        "    ],\n",
        "    temperature=0.7\n",
        ")"
      ],
      "metadata": {
        "id": "hTNz9JUa8Hyx"
      },
      "execution_count": null,
      "outputs": []
    },
    {
      "cell_type": "code",
      "source": [
        "import json, pandas as pd, os\n",
        "\n",
        "raw = response.choices[0].message.content\n",
        "# Permite que venga envuelto en bloques de markdown\n",
        "txt = raw.strip()\n",
        "if txt.startswith(\"```\"):\n",
        "    txt = txt.strip(\"`\")\n",
        "    if \"\\n\" in txt:\n",
        "        txt = txt.split(\"\\n\", 1)[1]\n",
        "\n",
        "data = json.loads(txt)  # debe ser una lista de dicts {\"opinion\":..., \"ods\":...}\n",
        "df_new = pd.DataFrame(data)\n",
        "\n",
        "df = pd.concat([df, df_new[[\"textos\", \"labels\"]]], ignore_index=True)"
      ],
      "metadata": {
        "id": "4ObjZWTC8KVG"
      },
      "execution_count": null,
      "outputs": []
    },
    {
      "cell_type": "code",
      "source": [
        "# 2) normaliza lo generado y concatena\n",
        "df_new = df_new.rename(columns={\"opinion\": \"texto\"})[cols].copy()\n",
        "df = pd.concat([df, df_new], ignore_index=True).drop_duplicates(subset=cols).reset_index(drop=True)\n",
        "\n",
        "# 3) filas que están en df (nuevo) pero no estaban antes\n",
        "added_rows = (\n",
        "    df.merge(df_before, on=cols, how=\"left\", indicator=True)\n",
        "      .loc[lambda x: x[\"_merge\"] == \"left_only\", cols]\n",
        ")\n",
        "\n",
        "print(f\"Nuevas filas agregadas: {len(added_rows)}\")\n",
        "# En notebook, puedes mostrar todas o una vista rápida:\n",
        "display(added_rows)           # muestra bonito en Jupyter\n",
        "# print(added_rows.to_string(index=False))  # si prefieres en texto plano\n"
      ],
      "metadata": {
        "colab": {
          "base_uri": "https://localhost:8080/",
          "height": 441
        },
        "id": "H0gS6Zcs8W4L",
        "outputId": "98477fd0-1787-4913-daf8-678a7154d24a"
      },
      "execution_count": null,
      "outputs": [
        {
          "output_type": "stream",
          "name": "stdout",
          "text": [
            "Nuevas filas agregadas: 82\n"
          ]
        },
        {
          "output_type": "display_data",
          "data": {
            "text/plain": [
              "                                                 textos  labels\n",
              "2493  En mi barrio, muchos niños pasan hambre y eso ...       1\n",
              "2494  La pobreza en nuestra comunidad rural se hace ...       1\n",
              "2495  Los precios de los alimentos han aumentado tan...       1\n",
              "2496  La falta de empleo en la zona urbana está llev...       1\n",
              "2497  La pobreza extrema en las zonas rurales nos de...       1\n",
              "...                                                 ...     ...\n",
              "2570  La pobreza afecta la salud de las personas, li...       1\n",
              "2571  El acceso a tecnología es limitado en las comu...       1\n",
              "2572  La falta de vivienda digna es un problema que ...       1\n",
              "2573  Las mujeres en situación de pobreza enfrentan ...       1\n",
              "2574  La pobreza en las zonas rurales afecta la educ...       1\n",
              "\n",
              "[82 rows x 2 columns]"
            ],
            "text/html": [
              "\n",
              "  <div id=\"df-165b1dd5-e7cf-4adf-8d3d-c9c85af48021\" class=\"colab-df-container\">\n",
              "    <div>\n",
              "<style scoped>\n",
              "    .dataframe tbody tr th:only-of-type {\n",
              "        vertical-align: middle;\n",
              "    }\n",
              "\n",
              "    .dataframe tbody tr th {\n",
              "        vertical-align: top;\n",
              "    }\n",
              "\n",
              "    .dataframe thead th {\n",
              "        text-align: right;\n",
              "    }\n",
              "</style>\n",
              "<table border=\"1\" class=\"dataframe\">\n",
              "  <thead>\n",
              "    <tr style=\"text-align: right;\">\n",
              "      <th></th>\n",
              "      <th>textos</th>\n",
              "      <th>labels</th>\n",
              "    </tr>\n",
              "  </thead>\n",
              "  <tbody>\n",
              "    <tr>\n",
              "      <th>2493</th>\n",
              "      <td>En mi barrio, muchos niños pasan hambre y eso ...</td>\n",
              "      <td>1</td>\n",
              "    </tr>\n",
              "    <tr>\n",
              "      <th>2494</th>\n",
              "      <td>La pobreza en nuestra comunidad rural se hace ...</td>\n",
              "      <td>1</td>\n",
              "    </tr>\n",
              "    <tr>\n",
              "      <th>2495</th>\n",
              "      <td>Los precios de los alimentos han aumentado tan...</td>\n",
              "      <td>1</td>\n",
              "    </tr>\n",
              "    <tr>\n",
              "      <th>2496</th>\n",
              "      <td>La falta de empleo en la zona urbana está llev...</td>\n",
              "      <td>1</td>\n",
              "    </tr>\n",
              "    <tr>\n",
              "      <th>2497</th>\n",
              "      <td>La pobreza extrema en las zonas rurales nos de...</td>\n",
              "      <td>1</td>\n",
              "    </tr>\n",
              "    <tr>\n",
              "      <th>...</th>\n",
              "      <td>...</td>\n",
              "      <td>...</td>\n",
              "    </tr>\n",
              "    <tr>\n",
              "      <th>2570</th>\n",
              "      <td>La pobreza afecta la salud de las personas, li...</td>\n",
              "      <td>1</td>\n",
              "    </tr>\n",
              "    <tr>\n",
              "      <th>2571</th>\n",
              "      <td>El acceso a tecnología es limitado en las comu...</td>\n",
              "      <td>1</td>\n",
              "    </tr>\n",
              "    <tr>\n",
              "      <th>2572</th>\n",
              "      <td>La falta de vivienda digna es un problema que ...</td>\n",
              "      <td>1</td>\n",
              "    </tr>\n",
              "    <tr>\n",
              "      <th>2573</th>\n",
              "      <td>Las mujeres en situación de pobreza enfrentan ...</td>\n",
              "      <td>1</td>\n",
              "    </tr>\n",
              "    <tr>\n",
              "      <th>2574</th>\n",
              "      <td>La pobreza en las zonas rurales afecta la educ...</td>\n",
              "      <td>1</td>\n",
              "    </tr>\n",
              "  </tbody>\n",
              "</table>\n",
              "<p>82 rows × 2 columns</p>\n",
              "</div>\n",
              "    <div class=\"colab-df-buttons\">\n",
              "\n",
              "  <div class=\"colab-df-container\">\n",
              "    <button class=\"colab-df-convert\" onclick=\"convertToInteractive('df-165b1dd5-e7cf-4adf-8d3d-c9c85af48021')\"\n",
              "            title=\"Convert this dataframe to an interactive table.\"\n",
              "            style=\"display:none;\">\n",
              "\n",
              "  <svg xmlns=\"http://www.w3.org/2000/svg\" height=\"24px\" viewBox=\"0 -960 960 960\">\n",
              "    <path d=\"M120-120v-720h720v720H120Zm60-500h600v-160H180v160Zm220 220h160v-160H400v160Zm0 220h160v-160H400v160ZM180-400h160v-160H180v160Zm440 0h160v-160H620v160ZM180-180h160v-160H180v160Zm440 0h160v-160H620v160Z\"/>\n",
              "  </svg>\n",
              "    </button>\n",
              "\n",
              "  <style>\n",
              "    .colab-df-container {\n",
              "      display:flex;\n",
              "      gap: 12px;\n",
              "    }\n",
              "\n",
              "    .colab-df-convert {\n",
              "      background-color: #E8F0FE;\n",
              "      border: none;\n",
              "      border-radius: 50%;\n",
              "      cursor: pointer;\n",
              "      display: none;\n",
              "      fill: #1967D2;\n",
              "      height: 32px;\n",
              "      padding: 0 0 0 0;\n",
              "      width: 32px;\n",
              "    }\n",
              "\n",
              "    .colab-df-convert:hover {\n",
              "      background-color: #E2EBFA;\n",
              "      box-shadow: 0px 1px 2px rgba(60, 64, 67, 0.3), 0px 1px 3px 1px rgba(60, 64, 67, 0.15);\n",
              "      fill: #174EA6;\n",
              "    }\n",
              "\n",
              "    .colab-df-buttons div {\n",
              "      margin-bottom: 4px;\n",
              "    }\n",
              "\n",
              "    [theme=dark] .colab-df-convert {\n",
              "      background-color: #3B4455;\n",
              "      fill: #D2E3FC;\n",
              "    }\n",
              "\n",
              "    [theme=dark] .colab-df-convert:hover {\n",
              "      background-color: #434B5C;\n",
              "      box-shadow: 0px 1px 3px 1px rgba(0, 0, 0, 0.15);\n",
              "      filter: drop-shadow(0px 1px 2px rgba(0, 0, 0, 0.3));\n",
              "      fill: #FFFFFF;\n",
              "    }\n",
              "  </style>\n",
              "\n",
              "    <script>\n",
              "      const buttonEl =\n",
              "        document.querySelector('#df-165b1dd5-e7cf-4adf-8d3d-c9c85af48021 button.colab-df-convert');\n",
              "      buttonEl.style.display =\n",
              "        google.colab.kernel.accessAllowed ? 'block' : 'none';\n",
              "\n",
              "      async function convertToInteractive(key) {\n",
              "        const element = document.querySelector('#df-165b1dd5-e7cf-4adf-8d3d-c9c85af48021');\n",
              "        const dataTable =\n",
              "          await google.colab.kernel.invokeFunction('convertToInteractive',\n",
              "                                                    [key], {});\n",
              "        if (!dataTable) return;\n",
              "\n",
              "        const docLinkHtml = 'Like what you see? Visit the ' +\n",
              "          '<a target=\"_blank\" href=https://colab.research.google.com/notebooks/data_table.ipynb>data table notebook</a>'\n",
              "          + ' to learn more about interactive tables.';\n",
              "        element.innerHTML = '';\n",
              "        dataTable['output_type'] = 'display_data';\n",
              "        await google.colab.output.renderOutput(dataTable, element);\n",
              "        const docLink = document.createElement('div');\n",
              "        docLink.innerHTML = docLinkHtml;\n",
              "        element.appendChild(docLink);\n",
              "      }\n",
              "    </script>\n",
              "  </div>\n",
              "\n",
              "\n",
              "    <div id=\"df-02aa88fb-c27f-42d6-a8a8-ea053b071da3\">\n",
              "      <button class=\"colab-df-quickchart\" onclick=\"quickchart('df-02aa88fb-c27f-42d6-a8a8-ea053b071da3')\"\n",
              "                title=\"Suggest charts\"\n",
              "                style=\"display:none;\">\n",
              "\n",
              "<svg xmlns=\"http://www.w3.org/2000/svg\" height=\"24px\"viewBox=\"0 0 24 24\"\n",
              "     width=\"24px\">\n",
              "    <g>\n",
              "        <path d=\"M19 3H5c-1.1 0-2 .9-2 2v14c0 1.1.9 2 2 2h14c1.1 0 2-.9 2-2V5c0-1.1-.9-2-2-2zM9 17H7v-7h2v7zm4 0h-2V7h2v10zm4 0h-2v-4h2v4z\"/>\n",
              "    </g>\n",
              "</svg>\n",
              "      </button>\n",
              "\n",
              "<style>\n",
              "  .colab-df-quickchart {\n",
              "      --bg-color: #E8F0FE;\n",
              "      --fill-color: #1967D2;\n",
              "      --hover-bg-color: #E2EBFA;\n",
              "      --hover-fill-color: #174EA6;\n",
              "      --disabled-fill-color: #AAA;\n",
              "      --disabled-bg-color: #DDD;\n",
              "  }\n",
              "\n",
              "  [theme=dark] .colab-df-quickchart {\n",
              "      --bg-color: #3B4455;\n",
              "      --fill-color: #D2E3FC;\n",
              "      --hover-bg-color: #434B5C;\n",
              "      --hover-fill-color: #FFFFFF;\n",
              "      --disabled-bg-color: #3B4455;\n",
              "      --disabled-fill-color: #666;\n",
              "  }\n",
              "\n",
              "  .colab-df-quickchart {\n",
              "    background-color: var(--bg-color);\n",
              "    border: none;\n",
              "    border-radius: 50%;\n",
              "    cursor: pointer;\n",
              "    display: none;\n",
              "    fill: var(--fill-color);\n",
              "    height: 32px;\n",
              "    padding: 0;\n",
              "    width: 32px;\n",
              "  }\n",
              "\n",
              "  .colab-df-quickchart:hover {\n",
              "    background-color: var(--hover-bg-color);\n",
              "    box-shadow: 0 1px 2px rgba(60, 64, 67, 0.3), 0 1px 3px 1px rgba(60, 64, 67, 0.15);\n",
              "    fill: var(--button-hover-fill-color);\n",
              "  }\n",
              "\n",
              "  .colab-df-quickchart-complete:disabled,\n",
              "  .colab-df-quickchart-complete:disabled:hover {\n",
              "    background-color: var(--disabled-bg-color);\n",
              "    fill: var(--disabled-fill-color);\n",
              "    box-shadow: none;\n",
              "  }\n",
              "\n",
              "  .colab-df-spinner {\n",
              "    border: 2px solid var(--fill-color);\n",
              "    border-color: transparent;\n",
              "    border-bottom-color: var(--fill-color);\n",
              "    animation:\n",
              "      spin 1s steps(1) infinite;\n",
              "  }\n",
              "\n",
              "  @keyframes spin {\n",
              "    0% {\n",
              "      border-color: transparent;\n",
              "      border-bottom-color: var(--fill-color);\n",
              "      border-left-color: var(--fill-color);\n",
              "    }\n",
              "    20% {\n",
              "      border-color: transparent;\n",
              "      border-left-color: var(--fill-color);\n",
              "      border-top-color: var(--fill-color);\n",
              "    }\n",
              "    30% {\n",
              "      border-color: transparent;\n",
              "      border-left-color: var(--fill-color);\n",
              "      border-top-color: var(--fill-color);\n",
              "      border-right-color: var(--fill-color);\n",
              "    }\n",
              "    40% {\n",
              "      border-color: transparent;\n",
              "      border-right-color: var(--fill-color);\n",
              "      border-top-color: var(--fill-color);\n",
              "    }\n",
              "    60% {\n",
              "      border-color: transparent;\n",
              "      border-right-color: var(--fill-color);\n",
              "    }\n",
              "    80% {\n",
              "      border-color: transparent;\n",
              "      border-right-color: var(--fill-color);\n",
              "      border-bottom-color: var(--fill-color);\n",
              "    }\n",
              "    90% {\n",
              "      border-color: transparent;\n",
              "      border-bottom-color: var(--fill-color);\n",
              "    }\n",
              "  }\n",
              "</style>\n",
              "\n",
              "      <script>\n",
              "        async function quickchart(key) {\n",
              "          const quickchartButtonEl =\n",
              "            document.querySelector('#' + key + ' button');\n",
              "          quickchartButtonEl.disabled = true;  // To prevent multiple clicks.\n",
              "          quickchartButtonEl.classList.add('colab-df-spinner');\n",
              "          try {\n",
              "            const charts = await google.colab.kernel.invokeFunction(\n",
              "                'suggestCharts', [key], {});\n",
              "          } catch (error) {\n",
              "            console.error('Error during call to suggestCharts:', error);\n",
              "          }\n",
              "          quickchartButtonEl.classList.remove('colab-df-spinner');\n",
              "          quickchartButtonEl.classList.add('colab-df-quickchart-complete');\n",
              "        }\n",
              "        (() => {\n",
              "          let quickchartButtonEl =\n",
              "            document.querySelector('#df-02aa88fb-c27f-42d6-a8a8-ea053b071da3 button');\n",
              "          quickchartButtonEl.style.display =\n",
              "            google.colab.kernel.accessAllowed ? 'block' : 'none';\n",
              "        })();\n",
              "      </script>\n",
              "    </div>\n",
              "\n",
              "  <div id=\"id_7e65a7fa-9a62-4cd4-9919-d561bf85064a\">\n",
              "    <style>\n",
              "      .colab-df-generate {\n",
              "        background-color: #E8F0FE;\n",
              "        border: none;\n",
              "        border-radius: 50%;\n",
              "        cursor: pointer;\n",
              "        display: none;\n",
              "        fill: #1967D2;\n",
              "        height: 32px;\n",
              "        padding: 0 0 0 0;\n",
              "        width: 32px;\n",
              "      }\n",
              "\n",
              "      .colab-df-generate:hover {\n",
              "        background-color: #E2EBFA;\n",
              "        box-shadow: 0px 1px 2px rgba(60, 64, 67, 0.3), 0px 1px 3px 1px rgba(60, 64, 67, 0.15);\n",
              "        fill: #174EA6;\n",
              "      }\n",
              "\n",
              "      [theme=dark] .colab-df-generate {\n",
              "        background-color: #3B4455;\n",
              "        fill: #D2E3FC;\n",
              "      }\n",
              "\n",
              "      [theme=dark] .colab-df-generate:hover {\n",
              "        background-color: #434B5C;\n",
              "        box-shadow: 0px 1px 3px 1px rgba(0, 0, 0, 0.15);\n",
              "        filter: drop-shadow(0px 1px 2px rgba(0, 0, 0, 0.3));\n",
              "        fill: #FFFFFF;\n",
              "      }\n",
              "    </style>\n",
              "    <button class=\"colab-df-generate\" onclick=\"generateWithVariable('added_rows')\"\n",
              "            title=\"Generate code using this dataframe.\"\n",
              "            style=\"display:none;\">\n",
              "\n",
              "  <svg xmlns=\"http://www.w3.org/2000/svg\" height=\"24px\"viewBox=\"0 0 24 24\"\n",
              "       width=\"24px\">\n",
              "    <path d=\"M7,19H8.4L18.45,9,17,7.55,7,17.6ZM5,21V16.75L18.45,3.32a2,2,0,0,1,2.83,0l1.4,1.43a1.91,1.91,0,0,1,.58,1.4,1.91,1.91,0,0,1-.58,1.4L9.25,21ZM18.45,9,17,7.55Zm-12,3A5.31,5.31,0,0,0,4.9,8.1,5.31,5.31,0,0,0,1,6.5,5.31,5.31,0,0,0,4.9,4.9,5.31,5.31,0,0,0,6.5,1,5.31,5.31,0,0,0,8.1,4.9,5.31,5.31,0,0,0,12,6.5,5.46,5.46,0,0,0,6.5,12Z\"/>\n",
              "  </svg>\n",
              "    </button>\n",
              "    <script>\n",
              "      (() => {\n",
              "      const buttonEl =\n",
              "        document.querySelector('#id_7e65a7fa-9a62-4cd4-9919-d561bf85064a button.colab-df-generate');\n",
              "      buttonEl.style.display =\n",
              "        google.colab.kernel.accessAllowed ? 'block' : 'none';\n",
              "\n",
              "      buttonEl.onclick = () => {\n",
              "        google.colab.notebook.generateWithVariable('added_rows');\n",
              "      }\n",
              "      })();\n",
              "    </script>\n",
              "  </div>\n",
              "\n",
              "    </div>\n",
              "  </div>\n"
            ],
            "application/vnd.google.colaboratory.intrinsic+json": {
              "type": "dataframe",
              "variable_name": "added_rows",
              "summary": "{\n  \"name\": \"added_rows\",\n  \"rows\": 82,\n  \"fields\": [\n    {\n      \"column\": \"textos\",\n      \"properties\": {\n        \"dtype\": \"string\",\n        \"num_unique_values\": 82,\n        \"samples\": [\n          \"La pobreza no solo afecta a los adultos; los ni\\u00f1os tambi\\u00e9n sufren las consecuencias. Es necesario garantizar su acceso a educaci\\u00f3n y salud.\",\n          \"En mi barrio, muchos ni\\u00f1os pasan hambre y eso afecta su rendimiento escolar. Es urgente que implementen programas de alimentaci\\u00f3n escolar en las zonas vulnerables.\",\n          \"La educaci\\u00f3n es la clave para romper el ciclo de pobreza, pero muchas familias no pueden costearla. Se necesitan m\\u00e1s becas e incentivos para los estudiantes de bajos recursos.\"\n        ],\n        \"semantic_type\": \"\",\n        \"description\": \"\"\n      }\n    },\n    {\n      \"column\": \"labels\",\n      \"properties\": {\n        \"dtype\": \"number\",\n        \"std\": 0,\n        \"min\": 1,\n        \"max\": 1,\n        \"num_unique_values\": 1,\n        \"samples\": [\n          1\n        ],\n        \"semantic_type\": \"\",\n        \"description\": \"\"\n      }\n    }\n  ]\n}"
            }
          },
          "metadata": {}
        }
      ]
    },
    {
      "cell_type": "code",
      "source": [
        "# Mostramos la información de uso\n",
        "print(f\"Tokens usados en el prompt: {response.usage.prompt_tokens}\")\n",
        "print(f\"Tokens usados en la respuesta: {response.usage.completion_tokens}\")\n",
        "print(f\"Tokens usados en total: {response.usage.total_tokens}\")"
      ],
      "metadata": {
        "colab": {
          "base_uri": "https://localhost:8080/"
        },
        "id": "XvRH64So8eoS",
        "outputId": "3a0b7e48-7123-49a2-a4ff-9e9430813b73"
      },
      "execution_count": null,
      "outputs": [
        {
          "output_type": "stream",
          "name": "stdout",
          "text": [
            "Tokens usados en el prompt: 1275\n",
            "Tokens usados en la respuesta: 3986\n",
            "Tokens usados en total: 5261\n"
          ]
        }
      ]
    },
    {
      "cell_type": "code",
      "source": [
        "#Guardamos los datos balanceados en los modelos\n",
        "from google.colab import drive\n",
        "drive.mount('/content/drive')\n",
        "ruta_guardado = '/content/drive/MyDrive/Datos_balanceados.xlsx'\n",
        "\n",
        "import os\n",
        "os.makedirs(os.path.dirname(ruta_guardado), exist_ok=True)\n",
        "\n",
        "df.to_excel(ruta_guardado, index=False)"
      ],
      "metadata": {
        "colab": {
          "base_uri": "https://localhost:8080/"
        },
        "id": "_aa3jVb8_QDc",
        "outputId": "6812a3ca-f1a4-4ad1-c29c-d571a5d8e8bd"
      },
      "execution_count": null,
      "outputs": [
        {
          "output_type": "stream",
          "name": "stdout",
          "text": [
            "Drive already mounted at /content/drive; to attempt to forcibly remount, call drive.mount(\"/content/drive\", force_remount=True).\n"
          ]
        }
      ]
    },
    {
      "cell_type": "markdown",
      "source": [
        "Ahora con el nuevo archivo, realizar la carga de datos, verificamos que si esta balanceado y por ultimo el reentrenamiento con el mejor modelo de la etapa 1"
      ],
      "metadata": {
        "id": "D3ggpN9bS6vp"
      }
    },
    {
      "cell_type": "code",
      "source": [
        "# Cargar los nuevos datos\n",
        "drive.mount('/content/drive')\n",
        "db_location = '/content/drive/MyDrive/Datos_balanceados.xlsx'\n",
        "df_etapa2=pd.read_excel(db_location, sheet_name='Sheet1')\n",
        "df_etapa2.shape"
      ],
      "metadata": {
        "colab": {
          "base_uri": "https://localhost:8080/"
        },
        "id": "2gMNYNHBTCaK",
        "outputId": "35ecfac1-f848-40e4-e708-0202909af2fb"
      },
      "execution_count": null,
      "outputs": [
        {
          "output_type": "stream",
          "name": "stdout",
          "text": [
            "Drive already mounted at /content/drive; to attempt to forcibly remount, call drive.mount(\"/content/drive\", force_remount=True).\n"
          ]
        },
        {
          "output_type": "execute_result",
          "data": {
            "text/plain": [
              "(2575, 3)"
            ]
          },
          "metadata": {},
          "execution_count": 109
        }
      ]
    },
    {
      "cell_type": "code",
      "source": [
        "(df_etapa2['labels'].value_counts(normalize=True) * 100).sort_index()"
      ],
      "metadata": {
        "colab": {
          "base_uri": "https://localhost:8080/",
          "height": 210
        },
        "id": "7D3cHlZPUsjt",
        "outputId": "cb2f2a1b-a5f5-4d6d-9cf5-b2716839735a"
      },
      "execution_count": null,
      "outputs": [
        {
          "output_type": "execute_result",
          "data": {
            "text/plain": [
              "labels\n",
              "1    23.378641\n",
              "3    35.650485\n",
              "4    40.970874\n",
              "Name: proportion, dtype: float64"
            ],
            "text/html": [
              "<div>\n",
              "<style scoped>\n",
              "    .dataframe tbody tr th:only-of-type {\n",
              "        vertical-align: middle;\n",
              "    }\n",
              "\n",
              "    .dataframe tbody tr th {\n",
              "        vertical-align: top;\n",
              "    }\n",
              "\n",
              "    .dataframe thead th {\n",
              "        text-align: right;\n",
              "    }\n",
              "</style>\n",
              "<table border=\"1\" class=\"dataframe\">\n",
              "  <thead>\n",
              "    <tr style=\"text-align: right;\">\n",
              "      <th></th>\n",
              "      <th>proportion</th>\n",
              "    </tr>\n",
              "    <tr>\n",
              "      <th>labels</th>\n",
              "      <th></th>\n",
              "    </tr>\n",
              "  </thead>\n",
              "  <tbody>\n",
              "    <tr>\n",
              "      <th>1</th>\n",
              "      <td>23.378641</td>\n",
              "    </tr>\n",
              "    <tr>\n",
              "      <th>3</th>\n",
              "      <td>35.650485</td>\n",
              "    </tr>\n",
              "    <tr>\n",
              "      <th>4</th>\n",
              "      <td>40.970874</td>\n",
              "    </tr>\n",
              "  </tbody>\n",
              "</table>\n",
              "</div><br><label><b>dtype:</b> float64</label>"
            ]
          },
          "metadata": {},
          "execution_count": 110
        }
      ]
    },
    {
      "cell_type": "markdown",
      "source": [
        "El prompt utilizado fue este:\n",
        "\n",
        "Tengo un ddf el cual cuenta de dos columas textos y labels. textos hace referencia a a opiniones de personas sobre los ODS 1,3,4. y labels es sobre cual de los ODS esta hablando esta opinion tiene los valores 1,3,4. acualmente el df tiene esta distribucion porcentual:\\\n",
        "\n",
        "1 23.822394%\n",
        "\n",
        "3 35.444015%\n",
        "\n",
        "4 40.733591%\n",
        "\n",
        "Quiero realizar una aumentacion de datos para las clases minoritarias. Plantea un forma de introducir nuevos ejemplos a la clase minoritaria del df para mejorar el desempeño del modelo en escenarios con desbalance de clases. Entregame una explicacion de porque elejiste el metodo y el bloque de texto donde se implementa el mismo.\n",
        "\n",
        "Justificación del método\n",
        "\n",
        "Evita duplicar textos — genera frases únicas y naturales.\n",
        "\n",
        "Preserva el significado semántico — gracias al uso de sinónimos reales del contexto.\n",
        "\n",
        "Mejora la generalización del modelo — al exponerlo a más variaciones lingüísticas.\n",
        "\n",
        "Requiere poco cálculo — es más eficiente que modelos generativos grandes.\n",
        "\n",
        "Permite ajustar el grado de cambio (aug_p), controlando cuánto se modifica el texto."
      ],
      "metadata": {
        "id": "MSW0RSj3Uf3d"
      }
    },
    {
      "cell_type": "code",
      "source": [
        "#Codigo generado\n",
        "# --- Aumentación de datos para clases minoritarias ---\n",
        "!pip install nlpaug --quiet\n",
        "import nltk\n",
        "import nlpaug.augmenter.word as naw\n",
        "import pandas as pd\n",
        "from datetime import datetime\n",
        "\n",
        "# Descargar recursos de NLTK necesarios\n",
        "nltk.download('wordnet')\n",
        "nltk.download('omw-1.4')\n",
        "nltk.download('averaged_perceptron_tagger_eng')\n",
        "\n",
        "# Suponemos que tu DataFrame original se llama df y tiene columnas: \"textos\" y \"labels\"\n",
        "# Distribución actual (solo informativo)\n",
        "print(\"Distribución inicial:\")\n",
        "print(df[\"labels\"].value_counts(normalize=True) * 100)\n",
        "\n",
        "# --- 1. Crear el aumentador basado en sinónimos de WordNet ---\n",
        "aug = naw.SynonymAug(aug_src='wordnet', aug_min=1, aug_max=3)\n",
        "\n",
        "# --- 2. Identificar las clases minoritarias ---\n",
        "counts = df[\"labels\"].value_counts()\n",
        "max_count = counts.max()\n",
        "\n",
        "# --- 3. Generar ejemplos sintéticos para las clases minoritarias ---\n",
        "augmented_data = []\n",
        "\n",
        "for label, count in counts.items():\n",
        "    if count < max_count:\n",
        "        deficit = max_count - count\n",
        "        textos_clase = df[df[\"labels\"] == label][\"textos\"]\n",
        "\n",
        "        print(f\"\\n🔄 Generando {deficit} ejemplos nuevos para la clase {label}...\")\n",
        "        for i in range(deficit):\n",
        "            original_text = textos_clase.sample(1).iloc[0]\n",
        "            augmented_text = aug.augment(original_text)\n",
        "            augmented_data.append({\"textos\": augmented_text, \"labels\": label})\n",
        "\n",
        "# --- 4. Crear DataFrame con los nuevos ejemplos ---\n",
        "new_df = pd.DataFrame(augmented_data)\n",
        "\n",
        "# --- 5. Combinar con el original ---\n",
        "df_balanceado = pd.concat([df, new_df], ignore_index=True)\n",
        "df_balanceado = df_balanceado.sample(frac=1, random_state=42).reset_index(drop=True)\n",
        "\n",
        "# --- 6. Verificar nueva distribución ---\n",
        "print(\"\\n📊 Distribución después del balanceo (%):\")\n",
        "print(df_balanceado[\"labels\"].value_counts(normalize=True) * 100)\n",
        "\n",
        "# --- 7. Guardar el DataFrame balanceado en Google Drive ---\n",
        "from google.colab import drive\n",
        "drive.mount('/content/drive')\n",
        "\n",
        "# Crear nombre con fecha para evitar sobrescribir\n",
        "fecha_actual = datetime.now().strftime(\"%Y%m%d_%H%M%S\")\n",
        "ruta_guardado = f\"/content/drive/MyDrive/Datos_balanceados_etapa2.xlsx\"\n",
        "\n",
        "# Guardar el archivo\n",
        "df_balanceado.to_excel(ruta_guardado, index=False)\n",
        "\n",
        "print(f\"\\n✅ Archivo balanceado guardado exitosamente en:\\n{ruta_guardado}\")\n",
        "print(f\"📁 Total de registros: {len(df_balanceado)}\")\n",
        "\n",
        "# --- 8. (Opcional) Visualizar la distribución final ---\n",
        "import matplotlib.pyplot as plt\n",
        "\n",
        "df_balanceado[\"labels\"].value_counts().plot(kind='bar')\n",
        "plt.title(\"Distribución de clases después del balanceo\")\n",
        "plt.xlabel(\"ODS\")\n",
        "plt.ylabel(\"Cantidad de ejemplos\")\n",
        "plt.show()"
      ],
      "metadata": {
        "colab": {
          "base_uri": "https://localhost:8080/"
        },
        "id": "Z_DwYiKPZNyA",
        "outputId": "0bf3db92-239a-4bba-b12d-466c62d4fec8"
      },
      "execution_count": null,
      "outputs": [
        {
          "output_type": "stream",
          "name": "stdout",
          "text": [
            "\u001b[?25l   \u001b[90m━━━━━━━━━━━━━━━━━━━━━━━━━━━━━━━━━━━━━━━━\u001b[0m \u001b[32m0.0/410.5 kB\u001b[0m \u001b[31m?\u001b[0m eta \u001b[36m-:--:--\u001b[0m\r\u001b[2K   \u001b[90m━━━━━━━━━━━━━━━━━━━━━━━━━━━━━━━━━━━━━━━━\u001b[0m \u001b[32m410.5/410.5 kB\u001b[0m \u001b[31m15.6 MB/s\u001b[0m eta \u001b[36m0:00:00\u001b[0m\n",
            "\u001b[?25h"
          ]
        },
        {
          "output_type": "stream",
          "name": "stderr",
          "text": [
            "[nltk_data] Downloading package wordnet to /root/nltk_data...\n",
            "[nltk_data] Downloading package omw-1.4 to /root/nltk_data...\n",
            "[nltk_data] Downloading package averaged_perceptron_tagger_eng to\n",
            "[nltk_data]     /root/nltk_data...\n",
            "[nltk_data]   Unzipping taggers/averaged_perceptron_tagger_eng.zip.\n"
          ]
        },
        {
          "output_type": "stream",
          "name": "stdout",
          "text": [
            "Distribución inicial:\n",
            "labels\n",
            "4    40.970874\n",
            "3    35.650485\n",
            "1    23.378641\n",
            "Name: proportion, dtype: float64\n",
            "\n",
            "🔄 Generando 137 ejemplos nuevos para la clase 3...\n",
            "\n",
            "🔄 Generando 453 ejemplos nuevos para la clase 1...\n",
            "\n",
            "📊 Distribución después del balanceo (%):\n",
            "labels\n",
            "3    33.333333\n",
            "1    33.333333\n",
            "4    33.333333\n",
            "Name: proportion, dtype: float64\n",
            "Drive already mounted at /content/drive; to attempt to forcibly remount, call drive.mount(\"/content/drive\", force_remount=True).\n",
            "\n",
            "✅ Archivo balanceado guardado exitosamente en:\n",
            "/content/drive/MyDrive/Datos_balanceados_etapa2.xlsx\n",
            "📁 Total de registros: 3165\n"
          ]
        },
        {
          "output_type": "display_data",
          "data": {
            "text/plain": [
              "<Figure size 640x480 with 1 Axes>"
            ],
            "image/png": "[encoded data removed]"
          },
          "metadata": {}
        }
      ]
    },
    {
      "cell_type": "code",
      "source": [
        "# Cargar los nuevos datos\n",
        "drive.mount('/content/drive')\n",
        "db_location = '/content/drive/MyDrive/Datos_balanceados_etapa2.xlsx'\n",
        "df_etapa2=pd.read_excel(db_location, sheet_name='Sheet1')\n",
        "df_etapa2.shape"
      ],
      "metadata": {
        "colab": {
          "base_uri": "https://localhost:8080/"
        },
        "id": "3t6z_lhsZHLC",
        "outputId": "0947a44d-c55f-41ce-c957-5f79f84d1950"
      },
      "execution_count": null,
      "outputs": [
        {
          "output_type": "stream",
          "name": "stdout",
          "text": [
            "Drive already mounted at /content/drive; to attempt to forcibly remount, call drive.mount(\"/content/drive\", force_remount=True).\n"
          ]
        },
        {
          "output_type": "execute_result",
          "data": {
            "text/plain": [
              "(3165, 3)"
            ]
          },
          "metadata": {},
          "execution_count": 112
        }
      ]
    },
    {
      "cell_type": "code",
      "source": [
        "(df_etapa2['labels'].value_counts(normalize=True) * 100).sort_index()"
      ],
      "metadata": {
        "colab": {
          "base_uri": "https://localhost:8080/",
          "height": 210
        },
        "id": "Lo7lr814ZJuc",
        "outputId": "d5c41d7b-852c-4cfa-ba27-045a67b8158d"
      },
      "execution_count": null,
      "outputs": [
        {
          "output_type": "execute_result",
          "data": {
            "text/plain": [
              "labels\n",
              "1    33.333333\n",
              "3    33.333333\n",
              "4    33.333333\n",
              "Name: proportion, dtype: float64"
            ],
            "text/html": [
              "<div>\n",
              "<style scoped>\n",
              "    .dataframe tbody tr th:only-of-type {\n",
              "        vertical-align: middle;\n",
              "    }\n",
              "\n",
              "    .dataframe tbody tr th {\n",
              "        vertical-align: top;\n",
              "    }\n",
              "\n",
              "    .dataframe thead th {\n",
              "        text-align: right;\n",
              "    }\n",
              "</style>\n",
              "<table border=\"1\" class=\"dataframe\">\n",
              "  <thead>\n",
              "    <tr style=\"text-align: right;\">\n",
              "      <th></th>\n",
              "      <th>proportion</th>\n",
              "    </tr>\n",
              "    <tr>\n",
              "      <th>labels</th>\n",
              "      <th></th>\n",
              "    </tr>\n",
              "  </thead>\n",
              "  <tbody>\n",
              "    <tr>\n",
              "      <th>1</th>\n",
              "      <td>33.333333</td>\n",
              "    </tr>\n",
              "    <tr>\n",
              "      <th>3</th>\n",
              "      <td>33.333333</td>\n",
              "    </tr>\n",
              "    <tr>\n",
              "      <th>4</th>\n",
              "      <td>33.333333</td>\n",
              "    </tr>\n",
              "  </tbody>\n",
              "</table>\n",
              "</div><br><label><b>dtype:</b> float64</label>"
            ]
          },
          "metadata": {},
          "execution_count": 113
        }
      ]
    },
    {
      "cell_type": "markdown",
      "source": [
        "Como se puede ver si esta mas balanceado, por lo que se realiza el entrenamiento nuevamente."
      ],
      "metadata": {
        "id": "9dgIJmYgUvRr"
      }
    },
    {
      "cell_type": "code",
      "source": [
        "from sklearn.model_selection import train_test_split\n",
        "from sklearn.feature_extraction.text import TfidfVectorizer\n",
        "from sklearn.linear_model import LogisticRegression\n",
        "from sklearn.pipeline import Pipeline\n",
        "import joblib\n",
        "\n",
        "X = df_etapa2['textos']\n",
        "y = df_etapa2['labels']\n",
        "\n",
        "# Dividir datos en entrenamiento y prueba\n",
        "X_train, X_test, y_train, y_test = train_test_split(X, y, test_size=0.2, random_state=42)\n",
        "\n",
        "# Llamar pipeline Regresión Logística+TF-IDF\n",
        "#  Entrenar el modelo\n",
        "lr_pipe.fit(X_train, y_train)\n",
        "\n",
        "# Evaluar desempeño\n",
        "accuracy = lr_pipe.score(X_test, y_test)\n",
        "print(f\"Precisión del modelo reentrenado: {accuracy:.4f}\")\n",
        "\n",
        "# Guardar el modelo reentrenado en Google Drive\n",
        "import os\n",
        "\n",
        "# Ruta donde guardarás el modelo\n",
        "modelo_path = '/content/drive/MyDrive/modelo_reentrenado.pkl'\n",
        "\n",
        "# Guardar el modelo\n",
        "joblib.dump(lr_pipe, modelo_path)\n",
        "print(f\"Modelo guardado en: {modelo_path}\")\n",
        "\n",
        "lr_gs = GridSearchCV(\n",
        "    lr_pipe, lr_grid, cv=cv, scoring=\"f1_macro\",\n",
        "    n_jobs=-1, verbose=0\n",
        ")\n",
        "lr_gs.fit(X_train, y_train)\n",
        "res_lr = summarize_results(\"LogReg (OvR) + TFIDF(word)\", lr_gs, X_test, y_test)\n",
        "results.append(res_lr)\n",
        "\n",
        "# --- Matriz de confusión para Regresión Logística ---\n",
        "y_pred_lr = lr_gs.predict(X_test)\n",
        "plot_confusion_matrix(\n",
        "    y_test, y_pred_lr,\n",
        "    labels=lr_gs.best_estimator_.named_steps['clf'].classes_,\n",
        "    title=\"Matriz de Confusión - LogReg\"\n",
        ")"
      ],
      "metadata": {
        "colab": {
          "base_uri": "https://localhost:8080/",
          "height": 871
        },
        "id": "FWddaKSiYfH7",
        "outputId": "e20837d3-8c68-4d51-f35b-dd628a3ae048"
      },
      "execution_count": null,
      "outputs": [
        {
          "output_type": "stream",
          "name": "stdout",
          "text": [
            "Precisión del modelo reentrenado: 0.9889\n",
            "Modelo guardado en: /content/drive/MyDrive/modelo_reentrenado.pkl\n",
            "\n",
            "=== LogReg (OvR) + TFIDF(word) ===\n",
            "Mejores params (CV): {'clf__C': 4, 'clf__class_weight': 'balanced', 'clf__penalty': 'l2', 'clf__solver': 'lbfgs', 'tfidf__min_df': 5}\n",
            "Mejor F1-macro (CV): 0.9838\n",
            "\n",
            "Reporte en TEST:\n",
            "              precision    recall  f1-score   support\n",
            "\n",
            "           1     0.9756    1.0000    0.9877       200\n",
            "           3     0.9954    0.9729    0.9840       221\n",
            "           4     0.9953    0.9953    0.9953       212\n",
            "\n",
            "    accuracy                         0.9889       633\n",
            "   macro avg     0.9888    0.9894    0.9890       633\n",
            "weighted avg     0.9891    0.9889    0.9889       633\n",
            "\n",
            "Matriz de confusión (TEST):\n",
            "[[200   0   0]\n",
            " [  5 215   1]\n",
            " [  0   1 211]]\n"
          ]
        },
        {
          "output_type": "display_data",
          "data": {
            "text/plain": [
              "<Figure size 600x500 with 2 Axes>"
            ],
            "image/png": "[encoded data removed]"
          },
          "metadata": {}
        }
      ]
    },
    {
      "cell_type": "markdown",
      "source": [
        "Para mitigar el desbalance y mejorar la capacidad de generalización, se implementó un proceso de aumentación de datos mediante prompting, generando ejemplos sintéticos de la clase minoritaria.\n",
        "Con los datos aumentados, se reentrenó el modelo aplicando el mismo algoritmo que mostró el mejor desempeño.\n",
        "\n",
        "Tras el reentrenamiento, las métricas mejoraron notablemente:\n",
        "- F1 subió de 0.8867 a 0.983.\n",
        "- Recall de la clase minoritaria que aumentó en más del 10 %.\n",
        "- La precision aumentó, indicando que el modelo responde mejor a la generación de falsos positivos.\n",
        "\n",
        "El modelo reentrenado logró una mayor cobertura semántica, entendiendo mejor expresiones diversas relacionadas con los ODS."
      ],
      "metadata": {
        "id": "-h5kBCjf04z2"
      }
    },
    {
      "cell_type": "markdown",
      "source": [
        "#Comparacion del modelo con mas datos"
      ],
      "metadata": {
        "id": "LNhuPMJjYiat"
      }
    },
    {
      "cell_type": "code",
      "source": [
        "# Cargar modelos\n",
        "model_dir = Path(\"/content/drive/MyDrive/modelos_proy1\")\n",
        "model_dir.mkdir(parents=True, exist_ok=True)\n",
        "\n",
        "modelo_original_path = model_dir / \"mejor_modelo_tfidf.joblib\"\n",
        "\n",
        "modelo_original = joblib.load(modelo_original_path)\n",
        "\n",
        "# Evaluar con el modelo original\n",
        "# Predicciones\n",
        "y_pred_original = modelo_original.predict(X_test)\n",
        "\n",
        "# Reportes de clasificación\n",
        "print(\"Reporte del modelo ORIGINAL:\\n\")\n",
        "print(classification_report(y_test, y_pred_original))\n",
        "\n",
        "print(\"\\nReporte del modelo REENTRENADO:\\n\")\n",
        "print(classification_report(y_test, y_pred_lr))\n",
        "\n",
        "# Crear tabla comparativa\n",
        "acc_orig = accuracy_score(y_test, y_pred_original)\n",
        "acc_reent = accuracy_score(y_test, y_pred_lr)\n",
        "\n",
        "rep_orig = pd.DataFrame(classification_report(y_test, y_pred_original, output_dict=True)).transpose()\n",
        "rep_reent = pd.DataFrame(classification_report(y_test, y_pred_lr, output_dict=True)).transpose()\n",
        "\n",
        "comparacion = pd.DataFrame({\n",
        "    'Accuracy': [acc_orig, acc_reent],\n",
        "    'Precision (macro)': [rep_orig.loc['macro avg', 'precision'], rep_reent.loc['macro avg', 'precision']],\n",
        "    'Recall (macro)': [rep_orig.loc['macro avg', 'recall'], rep_reent.loc['macro avg', 'recall']],\n",
        "    'F1-score (macro)': [rep_orig.loc['macro avg', 'f1-score'], rep_reent.loc['macro avg', 'f1-score']]\n",
        "}, index=['Modelo Original', 'Modelo Reentrenado'])\n",
        "\n",
        "print(\"\\nComparación de resultados entre modelos:\")\n",
        "display(comparacion.round(4))"
      ],
      "metadata": {
        "id": "Cp0DewXpY_Vt",
        "colab": {
          "base_uri": "https://localhost:8080/",
          "height": 581
        },
        "outputId": "2a326c9e-3279-4316-bdb2-771a491f3bc2"
      },
      "execution_count": null,
      "outputs": [
        {
          "output_type": "stream",
          "name": "stdout",
          "text": [
            "Reporte del modelo ORIGINAL:\n",
            "\n",
            "              precision    recall  f1-score   support\n",
            "\n",
            "           1       0.99      0.93      0.96       200\n",
            "           3       0.96      0.99      0.97       221\n",
            "           4       0.97      1.00      0.98       212\n",
            "\n",
            "    accuracy                           0.97       633\n",
            "   macro avg       0.97      0.97      0.97       633\n",
            "weighted avg       0.97      0.97      0.97       633\n",
            "\n",
            "\n",
            "Reporte del modelo REENTRENADO:\n",
            "\n",
            "              precision    recall  f1-score   support\n",
            "\n",
            "           1       0.98      1.00      0.99       200\n",
            "           3       1.00      0.97      0.98       221\n",
            "           4       1.00      1.00      1.00       212\n",
            "\n",
            "    accuracy                           0.99       633\n",
            "   macro avg       0.99      0.99      0.99       633\n",
            "weighted avg       0.99      0.99      0.99       633\n",
            "\n",
            "\n",
            "Comparación de resultados entre modelos:\n"
          ]
        },
        {
          "output_type": "display_data",
          "data": {
            "text/plain": [
              "                    Accuracy  Precision (macro)  Recall (macro)  \\\n",
              "Modelo Original       0.9716             0.9729          0.9706   \n",
              "Modelo Reentrenado    0.9889             0.9888          0.9894   \n",
              "\n",
              "                    F1-score (macro)  \n",
              "Modelo Original               0.9712  \n",
              "Modelo Reentrenado            0.9890  "
            ],
            "text/html": [
              "\n",
              "  <div id=\"df-65d6aa7c-a84d-4f48-8878-5ae5289fe6c1\" class=\"colab-df-container\">\n",
              "    <div>\n",
              "<style scoped>\n",
              "    .dataframe tbody tr th:only-of-type {\n",
              "        vertical-align: middle;\n",
              "    }\n",
              "\n",
              "    .dataframe tbody tr th {\n",
              "        vertical-align: top;\n",
              "    }\n",
              "\n",
              "    .dataframe thead th {\n",
              "        text-align: right;\n",
              "    }\n",
              "</style>\n",
              "<table border=\"1\" class=\"dataframe\">\n",
              "  <thead>\n",
              "    <tr style=\"text-align: right;\">\n",
              "      <th></th>\n",
              "      <th>Accuracy</th>\n",
              "      <th>Precision (macro)</th>\n",
              "      <th>Recall (macro)</th>\n",
              "      <th>F1-score (macro)</th>\n",
              "    </tr>\n",
              "  </thead>\n",
              "  <tbody>\n",
              "    <tr>\n",
              "      <th>Modelo Original</th>\n",
              "      <td>0.9716</td>\n",
              "      <td>0.9729</td>\n",
              "      <td>0.9706</td>\n",
              "      <td>0.9712</td>\n",
              "    </tr>\n",
              "    <tr>\n",
              "      <th>Modelo Reentrenado</th>\n",
              "      <td>0.9889</td>\n",
              "      <td>0.9888</td>\n",
              "      <td>0.9894</td>\n",
              "      <td>0.9890</td>\n",
              "    </tr>\n",
              "  </tbody>\n",
              "</table>\n",
              "</div>\n",
              "    <div class=\"colab-df-buttons\">\n",
              "\n",
              "  <div class=\"colab-df-container\">\n",
              "    <button class=\"colab-df-convert\" onclick=\"convertToInteractive('df-65d6aa7c-a84d-4f48-8878-5ae5289fe6c1')\"\n",
              "            title=\"Convert this dataframe to an interactive table.\"\n",
              "            style=\"display:none;\">\n",
              "\n",
              "  <svg xmlns=\"http://www.w3.org/2000/svg\" height=\"24px\" viewBox=\"0 -960 960 960\">\n",
              "    <path d=\"M120-120v-720h720v720H120Zm60-500h600v-160H180v160Zm220 220h160v-160H400v160Zm0 220h160v-160H400v160ZM180-400h160v-160H180v160Zm440 0h160v-160H620v160ZM180-180h160v-160H180v160Zm440 0h160v-160H620v160Z\"/>\n",
              "  </svg>\n",
              "    </button>\n",
              "\n",
              "  <style>\n",
              "    .colab-df-container {\n",
              "      display:flex;\n",
              "      gap: 12px;\n",
              "    }\n",
              "\n",
              "    .colab-df-convert {\n",
              "      background-color: #E8F0FE;\n",
              "      border: none;\n",
              "      border-radius: 50%;\n",
              "      cursor: pointer;\n",
              "      display: none;\n",
              "      fill: #1967D2;\n",
              "      height: 32px;\n",
              "      padding: 0 0 0 0;\n",
              "      width: 32px;\n",
              "    }\n",
              "\n",
              "    .colab-df-convert:hover {\n",
              "      background-color: #E2EBFA;\n",
              "      box-shadow: 0px 1px 2px rgba(60, 64, 67, 0.3), 0px 1px 3px 1px rgba(60, 64, 67, 0.15);\n",
              "      fill: #174EA6;\n",
              "    }\n",
              "\n",
              "    .colab-df-buttons div {\n",
              "      margin-bottom: 4px;\n",
              "    }\n",
              "\n",
              "    [theme=dark] .colab-df-convert {\n",
              "      background-color: #3B4455;\n",
              "      fill: #D2E3FC;\n",
              "    }\n",
              "\n",
              "    [theme=dark] .colab-df-convert:hover {\n",
              "      background-color: #434B5C;\n",
              "      box-shadow: 0px 1px 3px 1px rgba(0, 0, 0, 0.15);\n",
              "      filter: drop-shadow(0px 1px 2px rgba(0, 0, 0, 0.3));\n",
              "      fill: #FFFFFF;\n",
              "    }\n",
              "  </style>\n",
              "\n",
              "    <script>\n",
              "      const buttonEl =\n",
              "        document.querySelector('#df-65d6aa7c-a84d-4f48-8878-5ae5289fe6c1 button.colab-df-convert');\n",
              "      buttonEl.style.display =\n",
              "        google.colab.kernel.accessAllowed ? 'block' : 'none';\n",
              "\n",
              "      async function convertToInteractive(key) {\n",
              "        const element = document.querySelector('#df-65d6aa7c-a84d-4f48-8878-5ae5289fe6c1');\n",
              "        const dataTable =\n",
              "          await google.colab.kernel.invokeFunction('convertToInteractive',\n",
              "                                                    [key], {});\n",
              "        if (!dataTable) return;\n",
              "\n",
              "        const docLinkHtml = 'Like what you see? Visit the ' +\n",
              "          '<a target=\"_blank\" href=https://colab.research.google.com/notebooks/data_table.ipynb>data table notebook</a>'\n",
              "          + ' to learn more about interactive tables.';\n",
              "        element.innerHTML = '';\n",
              "        dataTable['output_type'] = 'display_data';\n",
              "        await google.colab.output.renderOutput(dataTable, element);\n",
              "        const docLink = document.createElement('div');\n",
              "        docLink.innerHTML = docLinkHtml;\n",
              "        element.appendChild(docLink);\n",
              "      }\n",
              "    </script>\n",
              "  </div>\n",
              "\n",
              "\n",
              "    <div id=\"df-3412103d-539b-4361-a7cf-5758f7dea8b0\">\n",
              "      <button class=\"colab-df-quickchart\" onclick=\"quickchart('df-3412103d-539b-4361-a7cf-5758f7dea8b0')\"\n",
              "                title=\"Suggest charts\"\n",
              "                style=\"display:none;\">\n",
              "\n",
              "<svg xmlns=\"http://www.w3.org/2000/svg\" height=\"24px\"viewBox=\"0 0 24 24\"\n",
              "     width=\"24px\">\n",
              "    <g>\n",
              "        <path d=\"M19 3H5c-1.1 0-2 .9-2 2v14c0 1.1.9 2 2 2h14c1.1 0 2-.9 2-2V5c0-1.1-.9-2-2-2zM9 17H7v-7h2v7zm4 0h-2V7h2v10zm4 0h-2v-4h2v4z\"/>\n",
              "    </g>\n",
              "</svg>\n",
              "      </button>\n",
              "\n",
              "<style>\n",
              "  .colab-df-quickchart {\n",
              "      --bg-color: #E8F0FE;\n",
              "      --fill-color: #1967D2;\n",
              "      --hover-bg-color: #E2EBFA;\n",
              "      --hover-fill-color: #174EA6;\n",
              "      --disabled-fill-color: #AAA;\n",
              "      --disabled-bg-color: #DDD;\n",
              "  }\n",
              "\n",
              "  [theme=dark] .colab-df-quickchart {\n",
              "      --bg-color: #3B4455;\n",
              "      --fill-color: #D2E3FC;\n",
              "      --hover-bg-color: #434B5C;\n",
              "      --hover-fill-color: #FFFFFF;\n",
              "      --disabled-bg-color: #3B4455;\n",
              "      --disabled-fill-color: #666;\n",
              "  }\n",
              "\n",
              "  .colab-df-quickchart {\n",
              "    background-color: var(--bg-color);\n",
              "    border: none;\n",
              "    border-radius: 50%;\n",
              "    cursor: pointer;\n",
              "    display: none;\n",
              "    fill: var(--fill-color);\n",
              "    height: 32px;\n",
              "    padding: 0;\n",
              "    width: 32px;\n",
              "  }\n",
              "\n",
              "  .colab-df-quickchart:hover {\n",
              "    background-color: var(--hover-bg-color);\n",
              "    box-shadow: 0 1px 2px rgba(60, 64, 67, 0.3), 0 1px 3px 1px rgba(60, 64, 67, 0.15);\n",
              "    fill: var(--button-hover-fill-color);\n",
              "  }\n",
              "\n",
              "  .colab-df-quickchart-complete:disabled,\n",
              "  .colab-df-quickchart-complete:disabled:hover {\n",
              "    background-color: var(--disabled-bg-color);\n",
              "    fill: var(--disabled-fill-color);\n",
              "    box-shadow: none;\n",
              "  }\n",
              "\n",
              "  .colab-df-spinner {\n",
              "    border: 2px solid var(--fill-color);\n",
              "    border-color: transparent;\n",
              "    border-bottom-color: var(--fill-color);\n",
              "    animation:\n",
              "      spin 1s steps(1) infinite;\n",
              "  }\n",
              "\n",
              "  @keyframes spin {\n",
              "    0% {\n",
              "      border-color: transparent;\n",
              "      border-bottom-color: var(--fill-color);\n",
              "      border-left-color: var(--fill-color);\n",
              "    }\n",
              "    20% {\n",
              "      border-color: transparent;\n",
              "      border-left-color: var(--fill-color);\n",
              "      border-top-color: var(--fill-color);\n",
              "    }\n",
              "    30% {\n",
              "      border-color: transparent;\n",
              "      border-left-color: var(--fill-color);\n",
              "      border-top-color: var(--fill-color);\n",
              "      border-right-color: var(--fill-color);\n",
              "    }\n",
              "    40% {\n",
              "      border-color: transparent;\n",
              "      border-right-color: var(--fill-color);\n",
              "      border-top-color: var(--fill-color);\n",
              "    }\n",
              "    60% {\n",
              "      border-color: transparent;\n",
              "      border-right-color: var(--fill-color);\n",
              "    }\n",
              "    80% {\n",
              "      border-color: transparent;\n",
              "      border-right-color: var(--fill-color);\n",
              "      border-bottom-color: var(--fill-color);\n",
              "    }\n",
              "    90% {\n",
              "      border-color: transparent;\n",
              "      border-bottom-color: var(--fill-color);\n",
              "    }\n",
              "  }\n",
              "</style>\n",
              "\n",
              "      <script>\n",
              "        async function quickchart(key) {\n",
              "          const quickchartButtonEl =\n",
              "            document.querySelector('#' + key + ' button');\n",
              "          quickchartButtonEl.disabled = true;  // To prevent multiple clicks.\n",
              "          quickchartButtonEl.classList.add('colab-df-spinner');\n",
              "          try {\n",
              "            const charts = await google.colab.kernel.invokeFunction(\n",
              "                'suggestCharts', [key], {});\n",
              "          } catch (error) {\n",
              "            console.error('Error during call to suggestCharts:', error);\n",
              "          }\n",
              "          quickchartButtonEl.classList.remove('colab-df-spinner');\n",
              "          quickchartButtonEl.classList.add('colab-df-quickchart-complete');\n",
              "        }\n",
              "        (() => {\n",
              "          let quickchartButtonEl =\n",
              "            document.querySelector('#df-3412103d-539b-4361-a7cf-5758f7dea8b0 button');\n",
              "          quickchartButtonEl.style.display =\n",
              "            google.colab.kernel.accessAllowed ? 'block' : 'none';\n",
              "        })();\n",
              "      </script>\n",
              "    </div>\n",
              "\n",
              "    </div>\n",
              "  </div>\n"
            ],
            "application/vnd.google.colaboratory.intrinsic+json": {
              "type": "dataframe",
              "summary": "{\n  \"name\": \"display(comparacion\",\n  \"rows\": 2,\n  \"fields\": [\n    {\n      \"column\": \"Accuracy\",\n      \"properties\": {\n        \"dtype\": \"number\",\n        \"std\": 0.01223294731452726,\n        \"min\": 0.9716,\n        \"max\": 0.9889,\n        \"num_unique_values\": 2,\n        \"samples\": [\n          0.9889,\n          0.9716\n        ],\n        \"semantic_type\": \"\",\n        \"description\": \"\"\n      }\n    },\n    {\n      \"column\": \"Precision (macro)\",\n      \"properties\": {\n        \"dtype\": \"number\",\n        \"std\": 0.011242997820866124,\n        \"min\": 0.9729,\n        \"max\": 0.9888,\n        \"num_unique_values\": 2,\n        \"samples\": [\n          0.9888,\n          0.9729\n        ],\n        \"semantic_type\": \"\",\n        \"description\": \"\"\n      }\n    },\n    {\n      \"column\": \"Recall (macro)\",\n      \"properties\": {\n        \"dtype\": \"number\",\n        \"std\": 0.013293607486307042,\n        \"min\": 0.9706,\n        \"max\": 0.9894,\n        \"num_unique_values\": 2,\n        \"samples\": [\n          0.9894,\n          0.9706\n        ],\n        \"semantic_type\": \"\",\n        \"description\": \"\"\n      }\n    },\n    {\n      \"column\": \"F1-score (macro)\",\n      \"properties\": {\n        \"dtype\": \"number\",\n        \"std\": 0.012586500705120572,\n        \"min\": 0.9712,\n        \"max\": 0.989,\n        \"num_unique_values\": 2,\n        \"samples\": [\n          0.989,\n          0.9712\n        ],\n        \"semantic_type\": \"\",\n        \"description\": \"\"\n      }\n    }\n  ]\n}"
            }
          },
          "metadata": {}
        }
      ]
    },
    {
      "cell_type": "code",
      "source": [
        "from sklearn.metrics import accuracy_score, f1_score, precision_score, recall_score\n",
        "import matplotlib.pyplot as plt\n",
        "import numpy as np\n",
        "\n",
        "# Calcular métricas principales\n",
        "metrics = {\n",
        "    'Accuracy': [\n",
        "        accuracy_score(y_test, y_pred_original),\n",
        "        accuracy_score(y_test, y_pred_lr)\n",
        "    ],\n",
        "    'Precision (macro)': [\n",
        "        precision_score(y_test, y_pred_original, average='macro'),\n",
        "        precision_score(y_test, y_pred_lr, average='macro')\n",
        "    ],\n",
        "    'Recall (macro)': [\n",
        "        recall_score(y_test, y_pred_original, average='macro'),\n",
        "        recall_score(y_test, y_pred_lr, average='macro')\n",
        "    ],\n",
        "    'F1-score (macro)': [\n",
        "        f1_score(y_test, y_pred_original, average='macro'),\n",
        "        f1_score(y_test, y_pred_lr, average='macro')\n",
        "    ]\n",
        "}\n",
        "\n",
        "# Crear DataFrame con resultados\n",
        "import pandas as pd\n",
        "results_df = pd.DataFrame(metrics, index=['Modelo Original', 'Modelo Reentrenado'])\n",
        "display(results_df)\n",
        "\n",
        "# Gráfica comparativa\n",
        "\n",
        "plt.figure(figsize=(8,5))\n",
        "bar_width = 0.35\n",
        "index = np.arange(len(metrics))\n",
        "\n",
        "# Barras\n",
        "plt.bar(index, [m[0] for m in metrics.values()], bar_width, label='Original')\n",
        "plt.bar(index + bar_width, [m[1] for m in metrics.values()], bar_width, label='Reentrenado')\n",
        "\n",
        "# Detalles del gráfico\n",
        "plt.xlabel('Métrica')\n",
        "plt.ylabel('Puntaje')\n",
        "plt.title('Comparación de desempeño entre modelos')\n",
        "plt.xticks(index + bar_width/2, metrics.keys(), rotation=20)\n",
        "plt.ylim(0, 1)\n",
        "plt.legend()\n",
        "plt.grid(axis='y', linestyle='--', alpha=0.6)\n",
        "\n",
        "plt.tight_layout()\n",
        "plt.show()\n"
      ],
      "metadata": {
        "id": "Q2TblpVdk6Mt",
        "outputId": "0ac9e6c9-366d-40c3-98b6-e6d5f9ef4430",
        "colab": {
          "base_uri": "https://localhost:8080/",
          "height": 615
        }
      },
      "execution_count": null,
      "outputs": [
        {
          "output_type": "display_data",
          "data": {
            "text/plain": [
              "                    Accuracy  Precision (macro)  Recall (macro)  \\\n",
              "Modelo Original     0.971564           0.972894        0.970569   \n",
              "Modelo Reentrenado  0.988942           0.988754        0.989378   \n",
              "\n",
              "                    F1-score (macro)  \n",
              "Modelo Original             0.971227  \n",
              "Modelo Reentrenado          0.988973  "
            ],
            "text/html": [
              "\n",
              "  <div id=\"df-9cd8adb3-af95-4d6e-9893-3fbcd45be13b\" class=\"colab-df-container\">\n",
              "    <div>\n",
              "<style scoped>\n",
              "    .dataframe tbody tr th:only-of-type {\n",
              "        vertical-align: middle;\n",
              "    }\n",
              "\n",
              "    .dataframe tbody tr th {\n",
              "        vertical-align: top;\n",
              "    }\n",
              "\n",
              "    .dataframe thead th {\n",
              "        text-align: right;\n",
              "    }\n",
              "</style>\n",
              "<table border=\"1\" class=\"dataframe\">\n",
              "  <thead>\n",
              "    <tr style=\"text-align: right;\">\n",
              "      <th></th>\n",
              "      <th>Accuracy</th>\n",
              "      <th>Precision (macro)</th>\n",
              "      <th>Recall (macro)</th>\n",
              "      <th>F1-score (macro)</th>\n",
              "    </tr>\n",
              "  </thead>\n",
              "  <tbody>\n",
              "    <tr>\n",
              "      <th>Modelo Original</th>\n",
              "      <td>0.971564</td>\n",
              "      <td>0.972894</td>\n",
              "      <td>0.970569</td>\n",
              "      <td>0.971227</td>\n",
              "    </tr>\n",
              "    <tr>\n",
              "      <th>Modelo Reentrenado</th>\n",
              "      <td>0.988942</td>\n",
              "      <td>0.988754</td>\n",
              "      <td>0.989378</td>\n",
              "      <td>0.988973</td>\n",
              "    </tr>\n",
              "  </tbody>\n",
              "</table>\n",
              "</div>\n",
              "    <div class=\"colab-df-buttons\">\n",
              "\n",
              "  <div class=\"colab-df-container\">\n",
              "    <button class=\"colab-df-convert\" onclick=\"convertToInteractive('df-9cd8adb3-af95-4d6e-9893-3fbcd45be13b')\"\n",
              "            title=\"Convert this dataframe to an interactive table.\"\n",
              "            style=\"display:none;\">\n",
              "\n",
              "  <svg xmlns=\"http://www.w3.org/2000/svg\" height=\"24px\" viewBox=\"0 -960 960 960\">\n",
              "    <path d=\"M120-120v-720h720v720H120Zm60-500h600v-160H180v160Zm220 220h160v-160H400v160Zm0 220h160v-160H400v160ZM180-400h160v-160H180v160Zm440 0h160v-160H620v160ZM180-180h160v-160H180v160Zm440 0h160v-160H620v160Z\"/>\n",
              "  </svg>\n",
              "    </button>\n",
              "\n",
              "  <style>\n",
              "    .colab-df-container {\n",
              "      display:flex;\n",
              "      gap: 12px;\n",
              "    }\n",
              "\n",
              "    .colab-df-convert {\n",
              "      background-color: #E8F0FE;\n",
              "      border: none;\n",
              "      border-radius: 50%;\n",
              "      cursor: pointer;\n",
              "      display: none;\n",
              "      fill: #1967D2;\n",
              "      height: 32px;\n",
              "      padding: 0 0 0 0;\n",
              "      width: 32px;\n",
              "    }\n",
              "\n",
              "    .colab-df-convert:hover {\n",
              "      background-color: #E2EBFA;\n",
              "      box-shadow: 0px 1px 2px rgba(60, 64, 67, 0.3), 0px 1px 3px 1px rgba(60, 64, 67, 0.15);\n",
              "      fill: #174EA6;\n",
              "    }\n",
              "\n",
              "    .colab-df-buttons div {\n",
              "      margin-bottom: 4px;\n",
              "    }\n",
              "\n",
              "    [theme=dark] .colab-df-convert {\n",
              "      background-color: #3B4455;\n",
              "      fill: #D2E3FC;\n",
              "    }\n",
              "\n",
              "    [theme=dark] .colab-df-convert:hover {\n",
              "      background-color: #434B5C;\n",
              "      box-shadow: 0px 1px 3px 1px rgba(0, 0, 0, 0.15);\n",
              "      filter: drop-shadow(0px 1px 2px rgba(0, 0, 0, 0.3));\n",
              "      fill: #FFFFFF;\n",
              "    }\n",
              "  </style>\n",
              "\n",
              "    <script>\n",
              "      const buttonEl =\n",
              "        document.querySelector('#df-9cd8adb3-af95-4d6e-9893-3fbcd45be13b button.colab-df-convert');\n",
              "      buttonEl.style.display =\n",
              "        google.colab.kernel.accessAllowed ? 'block' : 'none';\n",
              "\n",
              "      async function convertToInteractive(key) {\n",
              "        const element = document.querySelector('#df-9cd8adb3-af95-4d6e-9893-3fbcd45be13b');\n",
              "        const dataTable =\n",
              "          await google.colab.kernel.invokeFunction('convertToInteractive',\n",
              "                                                    [key], {});\n",
              "        if (!dataTable) return;\n",
              "\n",
              "        const docLinkHtml = 'Like what you see? Visit the ' +\n",
              "          '<a target=\"_blank\" href=https://colab.research.google.com/notebooks/data_table.ipynb>data table notebook</a>'\n",
              "          + ' to learn more about interactive tables.';\n",
              "        element.innerHTML = '';\n",
              "        dataTable['output_type'] = 'display_data';\n",
              "        await google.colab.output.renderOutput(dataTable, element);\n",
              "        const docLink = document.createElement('div');\n",
              "        docLink.innerHTML = docLinkHtml;\n",
              "        element.appendChild(docLink);\n",
              "      }\n",
              "    </script>\n",
              "  </div>\n",
              "\n",
              "\n",
              "    <div id=\"df-8987a2f5-8ba6-4a3b-b05f-15141d01dd23\">\n",
              "      <button class=\"colab-df-quickchart\" onclick=\"quickchart('df-8987a2f5-8ba6-4a3b-b05f-15141d01dd23')\"\n",
              "                title=\"Suggest charts\"\n",
              "                style=\"display:none;\">\n",
              "\n",
              "<svg xmlns=\"http://www.w3.org/2000/svg\" height=\"24px\"viewBox=\"0 0 24 24\"\n",
              "     width=\"24px\">\n",
              "    <g>\n",
              "        <path d=\"M19 3H5c-1.1 0-2 .9-2 2v14c0 1.1.9 2 2 2h14c1.1 0 2-.9 2-2V5c0-1.1-.9-2-2-2zM9 17H7v-7h2v7zm4 0h-2V7h2v10zm4 0h-2v-4h2v4z\"/>\n",
              "    </g>\n",
              "</svg>\n",
              "      </button>\n",
              "\n",
              "<style>\n",
              "  .colab-df-quickchart {\n",
              "      --bg-color: #E8F0FE;\n",
              "      --fill-color: #1967D2;\n",
              "      --hover-bg-color: #E2EBFA;\n",
              "      --hover-fill-color: #174EA6;\n",
              "      --disabled-fill-color: #AAA;\n",
              "      --disabled-bg-color: #DDD;\n",
              "  }\n",
              "\n",
              "  [theme=dark] .colab-df-quickchart {\n",
              "      --bg-color: #3B4455;\n",
              "      --fill-color: #D2E3FC;\n",
              "      --hover-bg-color: #434B5C;\n",
              "      --hover-fill-color: #FFFFFF;\n",
              "      --disabled-bg-color: #3B4455;\n",
              "      --disabled-fill-color: #666;\n",
              "  }\n",
              "\n",
              "  .colab-df-quickchart {\n",
              "    background-color: var(--bg-color);\n",
              "    border: none;\n",
              "    border-radius: 50%;\n",
              "    cursor: pointer;\n",
              "    display: none;\n",
              "    fill: var(--fill-color);\n",
              "    height: 32px;\n",
              "    padding: 0;\n",
              "    width: 32px;\n",
              "  }\n",
              "\n",
              "  .colab-df-quickchart:hover {\n",
              "    background-color: var(--hover-bg-color);\n",
              "    box-shadow: 0 1px 2px rgba(60, 64, 67, 0.3), 0 1px 3px 1px rgba(60, 64, 67, 0.15);\n",
              "    fill: var(--button-hover-fill-color);\n",
              "  }\n",
              "\n",
              "  .colab-df-quickchart-complete:disabled,\n",
              "  .colab-df-quickchart-complete:disabled:hover {\n",
              "    background-color: var(--disabled-bg-color);\n",
              "    fill: var(--disabled-fill-color);\n",
              "    box-shadow: none;\n",
              "  }\n",
              "\n",
              "  .colab-df-spinner {\n",
              "    border: 2px solid var(--fill-color);\n",
              "    border-color: transparent;\n",
              "    border-bottom-color: var(--fill-color);\n",
              "    animation:\n",
              "      spin 1s steps(1) infinite;\n",
              "  }\n",
              "\n",
              "  @keyframes spin {\n",
              "    0% {\n",
              "      border-color: transparent;\n",
              "      border-bottom-color: var(--fill-color);\n",
              "      border-left-color: var(--fill-color);\n",
              "    }\n",
              "    20% {\n",
              "      border-color: transparent;\n",
              "      border-left-color: var(--fill-color);\n",
              "      border-top-color: var(--fill-color);\n",
              "    }\n",
              "    30% {\n",
              "      border-color: transparent;\n",
              "      border-left-color: var(--fill-color);\n",
              "      border-top-color: var(--fill-color);\n",
              "      border-right-color: var(--fill-color);\n",
              "    }\n",
              "    40% {\n",
              "      border-color: transparent;\n",
              "      border-right-color: var(--fill-color);\n",
              "      border-top-color: var(--fill-color);\n",
              "    }\n",
              "    60% {\n",
              "      border-color: transparent;\n",
              "      border-right-color: var(--fill-color);\n",
              "    }\n",
              "    80% {\n",
              "      border-color: transparent;\n",
              "      border-right-color: var(--fill-color);\n",
              "      border-bottom-color: var(--fill-color);\n",
              "    }\n",
              "    90% {\n",
              "      border-color: transparent;\n",
              "      border-bottom-color: var(--fill-color);\n",
              "    }\n",
              "  }\n",
              "</style>\n",
              "\n",
              "      <script>\n",
              "        async function quickchart(key) {\n",
              "          const quickchartButtonEl =\n",
              "            document.querySelector('#' + key + ' button');\n",
              "          quickchartButtonEl.disabled = true;  // To prevent multiple clicks.\n",
              "          quickchartButtonEl.classList.add('colab-df-spinner');\n",
              "          try {\n",
              "            const charts = await google.colab.kernel.invokeFunction(\n",
              "                'suggestCharts', [key], {});\n",
              "          } catch (error) {\n",
              "            console.error('Error during call to suggestCharts:', error);\n",
              "          }\n",
              "          quickchartButtonEl.classList.remove('colab-df-spinner');\n",
              "          quickchartButtonEl.classList.add('colab-df-quickchart-complete');\n",
              "        }\n",
              "        (() => {\n",
              "          let quickchartButtonEl =\n",
              "            document.querySelector('#df-8987a2f5-8ba6-4a3b-b05f-15141d01dd23 button');\n",
              "          quickchartButtonEl.style.display =\n",
              "            google.colab.kernel.accessAllowed ? 'block' : 'none';\n",
              "        })();\n",
              "      </script>\n",
              "    </div>\n",
              "\n",
              "  <div id=\"id_a307e037-5a83-49b4-8ede-53608afc275f\">\n",
              "    <style>\n",
              "      .colab-df-generate {\n",
              "        background-color: #E8F0FE;\n",
              "        border: none;\n",
              "        border-radius: 50%;\n",
              "        cursor: pointer;\n",
              "        display: none;\n",
              "        fill: #1967D2;\n",
              "        height: 32px;\n",
              "        padding: 0 0 0 0;\n",
              "        width: 32px;\n",
              "      }\n",
              "\n",
              "      .colab-df-generate:hover {\n",
              "        background-color: #E2EBFA;\n",
              "        box-shadow: 0px 1px 2px rgba(60, 64, 67, 0.3), 0px 1px 3px 1px rgba(60, 64, 67, 0.15);\n",
              "        fill: #174EA6;\n",
              "      }\n",
              "\n",
              "      [theme=dark] .colab-df-generate {\n",
              "        background-color: #3B4455;\n",
              "        fill: #D2E3FC;\n",
              "      }\n",
              "\n",
              "      [theme=dark] .colab-df-generate:hover {\n",
              "        background-color: #434B5C;\n",
              "        box-shadow: 0px 1px 3px 1px rgba(0, 0, 0, 0.15);\n",
              "        filter: drop-shadow(0px 1px 2px rgba(0, 0, 0, 0.3));\n",
              "        fill: #FFFFFF;\n",
              "      }\n",
              "    </style>\n",
              "    <button class=\"colab-df-generate\" onclick=\"generateWithVariable('results_df')\"\n",
              "            title=\"Generate code using this dataframe.\"\n",
              "            style=\"display:none;\">\n",
              "\n",
              "  <svg xmlns=\"http://www.w3.org/2000/svg\" height=\"24px\"viewBox=\"0 0 24 24\"\n",
              "       width=\"24px\">\n",
              "    <path d=\"M7,19H8.4L18.45,9,17,7.55,7,17.6ZM5,21V16.75L18.45,3.32a2,2,0,0,1,2.83,0l1.4,1.43a1.91,1.91,0,0,1,.58,1.4,1.91,1.91,0,0,1-.58,1.4L9.25,21ZM18.45,9,17,7.55Zm-12,3A5.31,5.31,0,0,0,4.9,8.1,5.31,5.31,0,0,0,1,6.5,5.31,5.31,0,0,0,4.9,4.9,5.31,5.31,0,0,0,6.5,1,5.31,5.31,0,0,0,8.1,4.9,5.31,5.31,0,0,0,12,6.5,5.46,5.46,0,0,0,6.5,12Z\"/>\n",
              "  </svg>\n",
              "    </button>\n",
              "    <script>\n",
              "      (() => {\n",
              "      const buttonEl =\n",
              "        document.querySelector('#id_a307e037-5a83-49b4-8ede-53608afc275f button.colab-df-generate');\n",
              "      buttonEl.style.display =\n",
              "        google.colab.kernel.accessAllowed ? 'block' : 'none';\n",
              "\n",
              "      buttonEl.onclick = () => {\n",
              "        google.colab.notebook.generateWithVariable('results_df');\n",
              "      }\n",
              "      })();\n",
              "    </script>\n",
              "  </div>\n",
              "\n",
              "    </div>\n",
              "  </div>\n"
            ],
            "application/vnd.google.colaboratory.intrinsic+json": {
              "type": "dataframe",
              "variable_name": "results_df",
              "summary": "{\n  \"name\": \"results_df\",\n  \"rows\": 2,\n  \"fields\": [\n    {\n      \"column\": \"Accuracy\",\n      \"properties\": {\n        \"dtype\": \"number\",\n        \"std\": 0.01228779556564295,\n        \"min\": 0.9715639810426541,\n        \"max\": 0.9889415481832543,\n        \"num_unique_values\": 2,\n        \"samples\": [\n          0.9889415481832543,\n          0.9715639810426541\n        ],\n        \"semantic_type\": \"\",\n        \"description\": \"\"\n      }\n    },\n    {\n      \"column\": \"Precision (macro)\",\n      \"properties\": {\n        \"dtype\": \"number\",\n        \"std\": 0.011214826635949774,\n        \"min\": 0.9728942218503954,\n        \"max\": 0.9887543817786186,\n        \"num_unique_values\": 2,\n        \"samples\": [\n          0.9887543817786186,\n          0.9728942218503954\n        ],\n        \"semantic_type\": \"\",\n        \"description\": \"\"\n      }\n    },\n    {\n      \"column\": \"Recall (macro)\",\n      \"properties\": {\n        \"dtype\": \"number\",\n        \"std\": 0.013299580032271944,\n        \"min\": 0.9705694527448134,\n        \"max\": 0.9893778992003188,\n        \"num_unique_values\": 2,\n        \"samples\": [\n          0.9893778992003188,\n          0.9705694527448134\n        ],\n        \"semantic_type\": \"\",\n        \"description\": \"\"\n      }\n    },\n    {\n      \"column\": \"F1-score (macro)\",\n      \"properties\": {\n        \"dtype\": \"number\",\n        \"std\": 0.012547987828661882,\n        \"min\": 0.971227476505355,\n        \"max\": 0.9889730110731412,\n        \"num_unique_values\": 2,\n        \"samples\": [\n          0.9889730110731412,\n          0.971227476505355\n        ],\n        \"semantic_type\": \"\",\n        \"description\": \"\"\n      }\n    }\n  ]\n}"
            }
          },
          "metadata": {}
        },
        {
          "output_type": "display_data",
          "data": {
            "text/plain": [
              "<Figure size 800x500 with 1 Axes>"
            ],
            "image/png": "[encoded data removed]"
          },
          "metadata": {}
        }
      ]
    },
    {
      "cell_type": "code",
      "source": [
        "import joblib\n",
        "import os\n",
        "from google.colab import drive\n",
        "\n",
        "# Montar Google Drive\n",
        "drive.mount('/content/drive')\n",
        "\n",
        "# Ruta donde se guardará el modelo\n",
        "modelo_path = '/content/drive/MyDrive/modelos_proy1/modelo_reentrenado_etapa2.joblib'\n",
        "\n",
        "# Crear la carpeta si no existe\n",
        "os.makedirs(os.path.dirname(modelo_path), exist_ok=True)\n",
        "\n",
        "# Guardar el modelo reentrenado\n",
        "joblib.dump(lr_pipe, modelo_path)\n"
      ],
      "metadata": {
        "colab": {
          "base_uri": "https://localhost:8080/"
        },
        "id": "lzCFmjt2dLFp",
        "outputId": "d9d52ce1-e0d4-47e7-9328-20e51e5dec44"
      },
      "execution_count": null,
      "outputs": [
        {
          "output_type": "stream",
          "name": "stdout",
          "text": [
            "Drive already mounted at /content/drive; to attempt to forcibly remount, call drive.mount(\"/content/drive\", force_remount=True).\n"
          ]
        },
        {
          "output_type": "execute_result",
          "data": {
            "text/plain": [
              "['/content/drive/MyDrive/modelos_proy1/modelo_reentrenado_etapa2.joblib']"
            ]
          },
          "metadata": {},
          "execution_count": 117
        }
      ]
    },
    {
      "cell_type": "markdown",
      "source": [
        "El reentrenamiento permitió recuperar gran parte del rendimiento perdido, y el modelo final mostró mayor robustez frente a variaciones lingüísticas, siendo más confiable para un despliegue real.\n",
        "Esto demuestra que la estrategia de aumentación mediante prompting fue efectiva para reforzar las clases menos representadas y mejorar la capacidad del modelo para generalizar sobre nuevos textos."
      ],
      "metadata": {
        "id": "UxKbfvqM2AXO"
      }
    }
  ],
  "metadata": {
    "accelerator": "GPU",
    "colab": {
      "gpuType": "T4",
      "provenance": [],
      "toc_visible": true
    },
    "kernelspec": {
      "display_name": "Python 3",
      "name": "python3"
    },
    "language_info": {
      "name": "python"
    }
  },
  "nbformat": 4,
  "nbformat_minor": 0
}